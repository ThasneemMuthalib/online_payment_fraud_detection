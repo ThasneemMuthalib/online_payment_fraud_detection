{
  "cells": [
    {
      "cell_type": "markdown",
      "id": "b00b6153",
      "metadata": {
        "id": "b00b6153"
      },
      "source": [
        "## Loading the required Libaries"
      ]
    },
    {
      "cell_type": "code",
      "execution_count": null,
      "id": "01ff7fd5",
      "metadata": {
        "id": "01ff7fd5"
      },
      "outputs": [],
      "source": [
        "import pandas as pd\n",
        "import seaborn as sns\n",
        "import matplotlib.pyplot as plt\n",
        "import numpy as np\n",
        "%matplotlib inline"
      ]
    },
    {
      "cell_type": "code",
      "source": [
        "from google.colab import drive\n",
        "drive.mount('/content/drive')"
      ],
      "metadata": {
        "colab": {
          "base_uri": "https://localhost:8080/"
        },
        "id": "XpWT1rF-8icC",
        "outputId": "151e20b0-73b4-42af-dd2e-bd3175b1ef99"
      },
      "id": "XpWT1rF-8icC",
      "execution_count": null,
      "outputs": [
        {
          "output_type": "stream",
          "name": "stdout",
          "text": [
            "Mounted at /content/drive\n"
          ]
        }
      ]
    },
    {
      "cell_type": "code",
      "source": [
        "df = pd.read_csv('/content/drive/MyDrive/Colab_Notebooks/ST4052/project2/final.csv')\n",
        "df.head()"
      ],
      "metadata": {
        "colab": {
          "base_uri": "https://localhost:8080/",
          "height": 288
        },
        "id": "RJpGNyUa8vij",
        "outputId": "ef40ac75-ec90-4e81-8f37-4debb1107b28"
      },
      "id": "RJpGNyUa8vij",
      "execution_count": null,
      "outputs": [
        {
          "output_type": "execute_result",
          "data": {
            "text/plain": [
              "   Unnamed: 0  step      type     amount     nameOrig  oldbalanceOrg  \\\n",
              "0     6014717   451   PAYMENT    8276.89  C1510341339        10891.0   \n",
              "1     6014718   451   CASH_IN  190885.51   C340616062       100231.0   \n",
              "2     6014719   451  CASH_OUT   89829.37  C1854562922        10433.0   \n",
              "3     6014720   451   CASH_IN   88058.96   C455904834         6520.0   \n",
              "4     6014721   451  CASH_OUT   79915.49  C1180872317        82956.0   \n",
              "\n",
              "   newbalanceOrig     nameDest  oldbalanceDest  newbalanceDest  isFraud  \\\n",
              "0         2614.11  M1519448186            0.00            0.00        0   \n",
              "1       291116.51   C118179503            0.00            0.00        0   \n",
              "2            0.00  C1717181093      1102583.51      1192412.88        0   \n",
              "3        94578.96  C1862634094      4385056.84      4296997.88        0   \n",
              "4         3040.51  C1975448285            0.00        79915.49        0   \n",
              "\n",
              "   isFlaggedFraud  \n",
              "0               0  \n",
              "1               0  \n",
              "2               0  \n",
              "3               0  \n",
              "4               0  "
            ],
            "text/html": [
              "\n",
              "  <div id=\"df-576b6d55-0271-4834-8424-e9faa38c57a4\">\n",
              "    <div class=\"colab-df-container\">\n",
              "      <div>\n",
              "<style scoped>\n",
              "    .dataframe tbody tr th:only-of-type {\n",
              "        vertical-align: middle;\n",
              "    }\n",
              "\n",
              "    .dataframe tbody tr th {\n",
              "        vertical-align: top;\n",
              "    }\n",
              "\n",
              "    .dataframe thead th {\n",
              "        text-align: right;\n",
              "    }\n",
              "</style>\n",
              "<table border=\"1\" class=\"dataframe\">\n",
              "  <thead>\n",
              "    <tr style=\"text-align: right;\">\n",
              "      <th></th>\n",
              "      <th>Unnamed: 0</th>\n",
              "      <th>step</th>\n",
              "      <th>type</th>\n",
              "      <th>amount</th>\n",
              "      <th>nameOrig</th>\n",
              "      <th>oldbalanceOrg</th>\n",
              "      <th>newbalanceOrig</th>\n",
              "      <th>nameDest</th>\n",
              "      <th>oldbalanceDest</th>\n",
              "      <th>newbalanceDest</th>\n",
              "      <th>isFraud</th>\n",
              "      <th>isFlaggedFraud</th>\n",
              "    </tr>\n",
              "  </thead>\n",
              "  <tbody>\n",
              "    <tr>\n",
              "      <th>0</th>\n",
              "      <td>6014717</td>\n",
              "      <td>451</td>\n",
              "      <td>PAYMENT</td>\n",
              "      <td>8276.89</td>\n",
              "      <td>C1510341339</td>\n",
              "      <td>10891.0</td>\n",
              "      <td>2614.11</td>\n",
              "      <td>M1519448186</td>\n",
              "      <td>0.00</td>\n",
              "      <td>0.00</td>\n",
              "      <td>0</td>\n",
              "      <td>0</td>\n",
              "    </tr>\n",
              "    <tr>\n",
              "      <th>1</th>\n",
              "      <td>6014718</td>\n",
              "      <td>451</td>\n",
              "      <td>CASH_IN</td>\n",
              "      <td>190885.51</td>\n",
              "      <td>C340616062</td>\n",
              "      <td>100231.0</td>\n",
              "      <td>291116.51</td>\n",
              "      <td>C118179503</td>\n",
              "      <td>0.00</td>\n",
              "      <td>0.00</td>\n",
              "      <td>0</td>\n",
              "      <td>0</td>\n",
              "    </tr>\n",
              "    <tr>\n",
              "      <th>2</th>\n",
              "      <td>6014719</td>\n",
              "      <td>451</td>\n",
              "      <td>CASH_OUT</td>\n",
              "      <td>89829.37</td>\n",
              "      <td>C1854562922</td>\n",
              "      <td>10433.0</td>\n",
              "      <td>0.00</td>\n",
              "      <td>C1717181093</td>\n",
              "      <td>1102583.51</td>\n",
              "      <td>1192412.88</td>\n",
              "      <td>0</td>\n",
              "      <td>0</td>\n",
              "    </tr>\n",
              "    <tr>\n",
              "      <th>3</th>\n",
              "      <td>6014720</td>\n",
              "      <td>451</td>\n",
              "      <td>CASH_IN</td>\n",
              "      <td>88058.96</td>\n",
              "      <td>C455904834</td>\n",
              "      <td>6520.0</td>\n",
              "      <td>94578.96</td>\n",
              "      <td>C1862634094</td>\n",
              "      <td>4385056.84</td>\n",
              "      <td>4296997.88</td>\n",
              "      <td>0</td>\n",
              "      <td>0</td>\n",
              "    </tr>\n",
              "    <tr>\n",
              "      <th>4</th>\n",
              "      <td>6014721</td>\n",
              "      <td>451</td>\n",
              "      <td>CASH_OUT</td>\n",
              "      <td>79915.49</td>\n",
              "      <td>C1180872317</td>\n",
              "      <td>82956.0</td>\n",
              "      <td>3040.51</td>\n",
              "      <td>C1975448285</td>\n",
              "      <td>0.00</td>\n",
              "      <td>79915.49</td>\n",
              "      <td>0</td>\n",
              "      <td>0</td>\n",
              "    </tr>\n",
              "  </tbody>\n",
              "</table>\n",
              "</div>\n",
              "      <button class=\"colab-df-convert\" onclick=\"convertToInteractive('df-576b6d55-0271-4834-8424-e9faa38c57a4')\"\n",
              "              title=\"Convert this dataframe to an interactive table.\"\n",
              "              style=\"display:none;\">\n",
              "        \n",
              "  <svg xmlns=\"http://www.w3.org/2000/svg\" height=\"24px\"viewBox=\"0 0 24 24\"\n",
              "       width=\"24px\">\n",
              "    <path d=\"M0 0h24v24H0V0z\" fill=\"none\"/>\n",
              "    <path d=\"M18.56 5.44l.94 2.06.94-2.06 2.06-.94-2.06-.94-.94-2.06-.94 2.06-2.06.94zm-11 1L8.5 8.5l.94-2.06 2.06-.94-2.06-.94L8.5 2.5l-.94 2.06-2.06.94zm10 10l.94 2.06.94-2.06 2.06-.94-2.06-.94-.94-2.06-.94 2.06-2.06.94z\"/><path d=\"M17.41 7.96l-1.37-1.37c-.4-.4-.92-.59-1.43-.59-.52 0-1.04.2-1.43.59L10.3 9.45l-7.72 7.72c-.78.78-.78 2.05 0 2.83L4 21.41c.39.39.9.59 1.41.59.51 0 1.02-.2 1.41-.59l7.78-7.78 2.81-2.81c.8-.78.8-2.07 0-2.86zM5.41 20L4 18.59l7.72-7.72 1.47 1.35L5.41 20z\"/>\n",
              "  </svg>\n",
              "      </button>\n",
              "      \n",
              "  <style>\n",
              "    .colab-df-container {\n",
              "      display:flex;\n",
              "      flex-wrap:wrap;\n",
              "      gap: 12px;\n",
              "    }\n",
              "\n",
              "    .colab-df-convert {\n",
              "      background-color: #E8F0FE;\n",
              "      border: none;\n",
              "      border-radius: 50%;\n",
              "      cursor: pointer;\n",
              "      display: none;\n",
              "      fill: #1967D2;\n",
              "      height: 32px;\n",
              "      padding: 0 0 0 0;\n",
              "      width: 32px;\n",
              "    }\n",
              "\n",
              "    .colab-df-convert:hover {\n",
              "      background-color: #E2EBFA;\n",
              "      box-shadow: 0px 1px 2px rgba(60, 64, 67, 0.3), 0px 1px 3px 1px rgba(60, 64, 67, 0.15);\n",
              "      fill: #174EA6;\n",
              "    }\n",
              "\n",
              "    [theme=dark] .colab-df-convert {\n",
              "      background-color: #3B4455;\n",
              "      fill: #D2E3FC;\n",
              "    }\n",
              "\n",
              "    [theme=dark] .colab-df-convert:hover {\n",
              "      background-color: #434B5C;\n",
              "      box-shadow: 0px 1px 3px 1px rgba(0, 0, 0, 0.15);\n",
              "      filter: drop-shadow(0px 1px 2px rgba(0, 0, 0, 0.3));\n",
              "      fill: #FFFFFF;\n",
              "    }\n",
              "  </style>\n",
              "\n",
              "      <script>\n",
              "        const buttonEl =\n",
              "          document.querySelector('#df-576b6d55-0271-4834-8424-e9faa38c57a4 button.colab-df-convert');\n",
              "        buttonEl.style.display =\n",
              "          google.colab.kernel.accessAllowed ? 'block' : 'none';\n",
              "\n",
              "        async function convertToInteractive(key) {\n",
              "          const element = document.querySelector('#df-576b6d55-0271-4834-8424-e9faa38c57a4');\n",
              "          const dataTable =\n",
              "            await google.colab.kernel.invokeFunction('convertToInteractive',\n",
              "                                                     [key], {});\n",
              "          if (!dataTable) return;\n",
              "\n",
              "          const docLinkHtml = 'Like what you see? Visit the ' +\n",
              "            '<a target=\"_blank\" href=https://colab.research.google.com/notebooks/data_table.ipynb>data table notebook</a>'\n",
              "            + ' to learn more about interactive tables.';\n",
              "          element.innerHTML = '';\n",
              "          dataTable['output_type'] = 'display_data';\n",
              "          await google.colab.output.renderOutput(dataTable, element);\n",
              "          const docLink = document.createElement('div');\n",
              "          docLink.innerHTML = docLinkHtml;\n",
              "          element.appendChild(docLink);\n",
              "        }\n",
              "      </script>\n",
              "    </div>\n",
              "  </div>\n",
              "  "
            ]
          },
          "metadata": {},
          "execution_count": 4
        }
      ]
    },
    {
      "cell_type": "code",
      "execution_count": null,
      "id": "0de04211",
      "metadata": {
        "id": "0de04211",
        "outputId": "fb4a9a47-dc07-4be3-89a1-d042bce43a36",
        "colab": {
          "base_uri": "https://localhost:8080/"
        }
      },
      "outputs": [
        {
          "output_type": "execute_result",
          "data": {
            "text/plain": [
              "(347903, 12)"
            ]
          },
          "metadata": {},
          "execution_count": 5
        }
      ],
      "source": [
        "df.shape"
      ]
    },
    {
      "cell_type": "markdown",
      "id": "9a8c0e88",
      "metadata": {
        "id": "9a8c0e88"
      },
      "source": [
        "## Creating the Training set and Test set considering the time series nature"
      ]
    },
    {
      "cell_type": "code",
      "execution_count": null,
      "id": "57316bdc",
      "metadata": {
        "id": "57316bdc"
      },
      "outputs": [],
      "source": [
        "X = df.drop(['isFraud','isFlaggedFraud','Unnamed: 0'],axis=1)"
      ]
    },
    {
      "cell_type": "code",
      "execution_count": null,
      "id": "b09ebf1b",
      "metadata": {
        "id": "b09ebf1b"
      },
      "outputs": [],
      "source": [
        "y = df[['isFraud','isFlaggedFraud']]"
      ]
    },
    {
      "cell_type": "code",
      "execution_count": null,
      "id": "40d86599",
      "metadata": {
        "id": "40d86599"
      },
      "outputs": [],
      "source": [
        "nrows_df = len(X)"
      ]
    },
    {
      "cell_type": "code",
      "execution_count": null,
      "id": "ddaee02f",
      "metadata": {
        "id": "ddaee02f"
      },
      "outputs": [],
      "source": [
        "train_set_size = nrows_df *0.8"
      ]
    },
    {
      "cell_type": "code",
      "source": [
        "train_set_size"
      ],
      "metadata": {
        "colab": {
          "base_uri": "https://localhost:8080/"
        },
        "id": "oT7PLsSM9I2N",
        "outputId": "534381ba-60b6-4ba6-805f-54dd333bfcc5"
      },
      "id": "oT7PLsSM9I2N",
      "execution_count": null,
      "outputs": [
        {
          "output_type": "execute_result",
          "data": {
            "text/plain": [
              "278322.4"
            ]
          },
          "metadata": {},
          "execution_count": 10
        }
      ]
    },
    {
      "cell_type": "code",
      "execution_count": null,
      "id": "51b96b20",
      "metadata": {
        "id": "51b96b20"
      },
      "outputs": [],
      "source": [
        "X_train = X.iloc[0:278321]\n",
        "X_test = X.iloc[278321:nrows_df]"
      ]
    },
    {
      "cell_type": "code",
      "execution_count": null,
      "id": "26d1d285",
      "metadata": {
        "id": "26d1d285"
      },
      "outputs": [],
      "source": [
        "y_train = y.iloc[0:278321]\n",
        "y_test = y.iloc[278321:nrows_df]"
      ]
    },
    {
      "cell_type": "code",
      "execution_count": null,
      "id": "67ccfe41",
      "metadata": {
        "id": "67ccfe41"
      },
      "outputs": [],
      "source": [
        "frames = [X_train,y_train]\n",
        "train_df = pd.concat(frames,axis = 1)"
      ]
    },
    {
      "cell_type": "code",
      "execution_count": null,
      "id": "1421a363",
      "metadata": {
        "id": "1421a363",
        "outputId": "6d9e52e9-c6ff-4742-d41c-e20835936ce7",
        "colab": {
          "base_uri": "https://localhost:8080/"
        }
      },
      "outputs": [
        {
          "output_type": "execute_result",
          "data": {
            "text/plain": [
              "(278321, 11)"
            ]
          },
          "metadata": {},
          "execution_count": 14
        }
      ],
      "source": [
        "train_df.shape"
      ]
    },
    {
      "cell_type": "code",
      "execution_count": null,
      "id": "00c65536",
      "metadata": {
        "id": "00c65536"
      },
      "outputs": [],
      "source": [
        "train_df.to_csv('trainset.csv')"
      ]
    },
    {
      "cell_type": "code",
      "source": [
        "frames2 = [X_test,y_test]\n",
        "test_df = pd.concat(frames2,axis = 1)\n",
        "test_df.to_csv('testset.csv')"
      ],
      "metadata": {
        "id": "C-rsjdU2NNcT"
      },
      "id": "C-rsjdU2NNcT",
      "execution_count": null,
      "outputs": []
    },
    {
      "cell_type": "code",
      "source": [
        "test_df.shape"
      ],
      "metadata": {
        "colab": {
          "base_uri": "https://localhost:8080/"
        },
        "id": "XUlXZ83H9yxl",
        "outputId": "5c366e04-8464-4469-fe35-a2583a98a3fc"
      },
      "id": "XUlXZ83H9yxl",
      "execution_count": null,
      "outputs": [
        {
          "output_type": "execute_result",
          "data": {
            "text/plain": [
              "(69582, 11)"
            ]
          },
          "metadata": {},
          "execution_count": 17
        }
      ]
    },
    {
      "cell_type": "markdown",
      "id": "e87b4533",
      "metadata": {
        "id": "e87b4533"
      },
      "source": [
        "## Data Preperation and analysis"
      ]
    },
    {
      "cell_type": "markdown",
      "source": [
        "##Train set"
      ],
      "metadata": {
        "id": "pomVxPx_ASMT"
      },
      "id": "pomVxPx_ASMT"
    },
    {
      "cell_type": "code",
      "execution_count": null,
      "id": "aea1249f",
      "metadata": {
        "id": "aea1249f",
        "outputId": "973595cc-fd50-42d3-f7b5-e5d3d4a5efee",
        "colab": {
          "base_uri": "https://localhost:8080/"
        }
      },
      "outputs": [
        {
          "output_type": "execute_result",
          "data": {
            "text/plain": [
              "array(['PAYMENT', 'CASH_IN', 'CASH_OUT', 'TRANSFER', 'DEBIT'],\n",
              "      dtype=object)"
            ]
          },
          "metadata": {},
          "execution_count": 18
        }
      ],
      "source": [
        "train_df.type.unique()"
      ]
    },
    {
      "cell_type": "code",
      "execution_count": null,
      "id": "b6ec639f",
      "metadata": {
        "id": "b6ec639f",
        "colab": {
          "base_uri": "https://localhost:8080/"
        },
        "outputId": "86c38a3b-ec83-4096-af63-aea8ed4bc1e0"
      },
      "outputs": [
        {
          "output_type": "execute_result",
          "data": {
            "text/plain": [
              "0"
            ]
          },
          "metadata": {},
          "execution_count": 19
        }
      ],
      "source": [
        "# Payment Fraud\n",
        "Payment_df = train_df[train_df['type']=='PAYMENT']\n",
        "sum(Payment_df['isFraud'])"
      ]
    },
    {
      "cell_type": "code",
      "execution_count": null,
      "id": "05ba40c9",
      "metadata": {
        "id": "05ba40c9",
        "colab": {
          "base_uri": "https://localhost:8080/"
        },
        "outputId": "85dfdd13-65cc-43c6-de63-04b8778039a4"
      },
      "outputs": [
        {
          "output_type": "execute_result",
          "data": {
            "text/plain": [
              "0"
            ]
          },
          "metadata": {},
          "execution_count": 20
        }
      ],
      "source": [
        "CashIn_df = train_df[train_df['type']=='CASH_IN']\n",
        "sum(CashIn_df['isFraud'])"
      ]
    },
    {
      "cell_type": "code",
      "execution_count": null,
      "id": "5f1d04f4",
      "metadata": {
        "id": "5f1d04f4",
        "colab": {
          "base_uri": "https://localhost:8080/"
        },
        "outputId": "26a48992-0e6e-4dcb-bb8a-95ec7178bb9e"
      },
      "outputs": [
        {
          "output_type": "execute_result",
          "data": {
            "text/plain": [
              "array([0, 1])"
            ]
          },
          "metadata": {},
          "execution_count": 21
        }
      ],
      "source": [
        "train_df.isFraud.unique()"
      ]
    },
    {
      "cell_type": "code",
      "execution_count": null,
      "id": "48f19c05",
      "metadata": {
        "id": "48f19c05",
        "colab": {
          "base_uri": "https://localhost:8080/"
        },
        "outputId": "9fd773c5-28a9-43dc-a201-d6a3053bfa11"
      },
      "outputs": [
        {
          "output_type": "execute_result",
          "data": {
            "text/plain": [
              "1150"
            ]
          },
          "metadata": {},
          "execution_count": 22
        }
      ],
      "source": [
        "CashOut_df = train_df[train_df['type']=='CASH_OUT']\n",
        "sum(CashOut_df['isFraud'])"
      ]
    },
    {
      "cell_type": "code",
      "execution_count": null,
      "id": "750aadaa",
      "metadata": {
        "id": "750aadaa",
        "colab": {
          "base_uri": "https://localhost:8080/"
        },
        "outputId": "cb2d3768-7c01-4f2e-dd2e-7b9218e727b5"
      },
      "outputs": [
        {
          "output_type": "execute_result",
          "data": {
            "text/plain": [
              "1150"
            ]
          },
          "metadata": {},
          "execution_count": 23
        }
      ],
      "source": [
        "Transfer_df = train_df[train_df['type']=='TRANSFER']\n",
        "sum(Transfer_df['isFraud'])"
      ]
    },
    {
      "cell_type": "code",
      "execution_count": null,
      "id": "6ed8ffdd",
      "metadata": {
        "id": "6ed8ffdd",
        "colab": {
          "base_uri": "https://localhost:8080/"
        },
        "outputId": "2fa029e2-7564-4a24-c6c6-d4b386e13a0d"
      },
      "outputs": [
        {
          "output_type": "execute_result",
          "data": {
            "text/plain": [
              "0"
            ]
          },
          "metadata": {},
          "execution_count": 24
        }
      ],
      "source": [
        "Debit_df = train_df[train_df['type']=='DEBIT']\n",
        "sum(Debit_df['isFraud'])"
      ]
    },
    {
      "cell_type": "code",
      "execution_count": null,
      "id": "ae79f4c7",
      "metadata": {
        "id": "ae79f4c7",
        "colab": {
          "base_uri": "https://localhost:8080/",
          "height": 290
        },
        "outputId": "640012a7-ec4b-4538-9e6d-5a3a7b702c42"
      },
      "outputs": [
        {
          "output_type": "display_data",
          "data": {
            "text/plain": [
              "<Figure size 432x288 with 1 Axes>"
            ],
            "image/png": "[encoded data removed]"
          },
          "metadata": {
            "needs_background": "light"
          }
        }
      ],
      "source": [
        "## Plotting distribution plots for the amounts of above 4 types\n",
        "fig = sns.kdeplot(Payment_df['amount'], shade=True, color=\"red\")\n",
        "fig = sns.kdeplot(CashIn_df['amount'], shade=True, color=\"blue\")\n",
        "fig = sns.kdeplot(Debit_df['amount'], shade=True, color=\"black\")\n",
        "plt.show()"
      ]
    },
    {
      "cell_type": "code",
      "execution_count": null,
      "id": "89f884e6",
      "metadata": {
        "id": "89f884e6",
        "colab": {
          "base_uri": "https://localhost:8080/",
          "height": 290
        },
        "outputId": "bdce78c3-dab8-4d51-aee6-aa29a7c0122c"
      },
      "outputs": [
        {
          "output_type": "display_data",
          "data": {
            "text/plain": [
              "<Figure size 432x288 with 1 Axes>"
            ],
            "image/png": "[encoded data removed]"
          },
          "metadata": {
            "needs_background": "light"
          }
        }
      ],
      "source": [
        "fig = sns.kdeplot(Transfer_df['amount'], shade=True, color=\"green\")\n",
        "plt.show()"
      ]
    },
    {
      "cell_type": "code",
      "execution_count": null,
      "id": "db379dfb",
      "metadata": {
        "id": "db379dfb",
        "colab": {
          "base_uri": "https://localhost:8080/",
          "height": 290
        },
        "outputId": "2eff390b-8f4a-4084-881c-f2a1a67add8b"
      },
      "outputs": [
        {
          "output_type": "display_data",
          "data": {
            "text/plain": [
              "<Figure size 432x288 with 1 Axes>"
            ],
            "image/png": "[encoded data removed]"
          },
          "metadata": {
            "needs_background": "light"
          }
        }
      ],
      "source": [
        "fig = sns.kdeplot(CashOut_df['amount'], shade=True, color=\"black\")\n",
        "plt.show()"
      ]
    },
    {
      "cell_type": "code",
      "execution_count": null,
      "id": "eca0449f",
      "metadata": {
        "id": "eca0449f",
        "colab": {
          "base_uri": "https://localhost:8080/"
        },
        "outputId": "e2be214b-ccb0-4196-d6d6-57933c16667c"
      },
      "outputs": [
        {
          "output_type": "stream",
          "name": "stderr",
          "text": [
            "/usr/local/lib/python3.7/dist-packages/ipykernel_launcher.py:1: UserWarning: Boolean Series key will be reindexed to match DataFrame index.\n",
            "  \"\"\"Entry point for launching an IPython kernel.\n",
            "/usr/local/lib/python3.7/dist-packages/ipykernel_launcher.py:2: UserWarning: Boolean Series key will be reindexed to match DataFrame index.\n",
            "  \n"
          ]
        }
      ],
      "source": [
        "transfer_df_fraud1 = train_df.loc[train_df['isFraud'] == 1, ['amount']][train_df['type'] == 'TRANSFER']\n",
        "transfer_df_fraud0 = train_df.loc[train_df['isFraud'] == 0, ['amount']][train_df['type'] == 'TRANSFER']"
      ]
    },
    {
      "cell_type": "code",
      "execution_count": null,
      "id": "7e644b38",
      "metadata": {
        "id": "7e644b38",
        "colab": {
          "base_uri": "https://localhost:8080/",
          "height": 290
        },
        "outputId": "3bcfc630-3960-44d4-8384-956489be5414"
      },
      "outputs": [
        {
          "output_type": "display_data",
          "data": {
            "text/plain": [
              "<Figure size 432x288 with 1 Axes>"
            ],
            "image/png": "[encoded data removed]"
          },
          "metadata": {
            "needs_background": "light"
          }
        }
      ],
      "source": [
        "fig = sns.kdeplot(transfer_df_fraud1['amount'], shade=True, color=\"red\")\n",
        "fig = sns.kdeplot(transfer_df_fraud0['amount'], shade=True, color=\"blue\")\n",
        "plt.show()"
      ]
    },
    {
      "cell_type": "code",
      "execution_count": null,
      "id": "a87c5864",
      "metadata": {
        "id": "a87c5864"
      },
      "outputs": [],
      "source": [
        "unique_steps = X_train['step'].unique()\n",
        "# unique_steps = train_df['step'].unique()"
      ]
    },
    {
      "cell_type": "code",
      "execution_count": null,
      "id": "c5004d8f",
      "metadata": {
        "id": "c5004d8f",
        "colab": {
          "base_uri": "https://localhost:8080/"
        },
        "outputId": "f561a721-e14c-4278-d826-773f17fa35b5"
      },
      "outputs": [
        {
          "output_type": "execute_result",
          "data": {
            "text/plain": [
              "217"
            ]
          },
          "metadata": {},
          "execution_count": 31
        }
      ],
      "source": [
        "len(unique_steps)"
      ]
    },
    {
      "cell_type": "code",
      "execution_count": null,
      "id": "2e5912cb",
      "metadata": {
        "id": "2e5912cb"
      },
      "outputs": [],
      "source": [
        "n_row = train_df.shape[0]"
      ]
    },
    {
      "cell_type": "code",
      "execution_count": null,
      "id": "82a913b6",
      "metadata": {
        "id": "82a913b6"
      },
      "outputs": [],
      "source": [
        "unique_steps_payments = Payment_df['step'].unique()\n",
        "unique_steps_cash_in  = CashIn_df['step'].unique()\n",
        "unique_steps_cash_out = CashOut_df['step'].unique()\n",
        "unique_steps_transfer = Transfer_df['step'].unique()\n",
        "unique_steps_debit = Debit_df['step'].unique()"
      ]
    },
    {
      "cell_type": "code",
      "execution_count": null,
      "id": "88545c33",
      "metadata": {
        "id": "88545c33",
        "colab": {
          "base_uri": "https://localhost:8080/"
        },
        "outputId": "2dc59099-045f-4f4e-a2ac-11d83e4d3b97"
      },
      "outputs": [
        {
          "output_type": "execute_result",
          "data": {
            "text/plain": [
              "105"
            ]
          },
          "metadata": {},
          "execution_count": 34
        }
      ],
      "source": [
        "len(unique_steps_payments)"
      ]
    },
    {
      "cell_type": "code",
      "execution_count": null,
      "id": "a242b0d9",
      "metadata": {
        "id": "a242b0d9",
        "colab": {
          "base_uri": "https://localhost:8080/"
        },
        "outputId": "5b0458f2-6bdd-4776-d276-19b180d627d9"
      },
      "outputs": [
        {
          "output_type": "execute_result",
          "data": {
            "text/plain": [
              "array([451, 452, 453, 454, 455, 458, 460, 461, 466, 469, 471, 472, 474,\n",
              "       476, 478, 479, 483, 487, 490, 492, 493, 495, 496, 500, 502, 503,\n",
              "       505, 509, 514, 517, 518, 520, 522, 524, 525, 526, 527, 528, 529,\n",
              "       530, 531, 532, 534, 538, 540, 542, 544, 545, 546, 547, 548, 549,\n",
              "       550, 551, 552, 555, 563, 564, 565, 566, 567, 569, 570, 571, 573,\n",
              "       574, 576, 577, 578, 580, 582, 584, 585, 586, 587, 588, 589, 590,\n",
              "       591, 592, 594, 595, 596, 597, 598, 599, 601, 608, 610, 612, 614,\n",
              "       617, 619, 621, 630, 637, 640, 642, 644, 649, 656, 659, 661, 664,\n",
              "       667])"
            ]
          },
          "metadata": {},
          "execution_count": 35
        }
      ],
      "source": [
        "unique_steps_payments"
      ]
    },
    {
      "cell_type": "code",
      "execution_count": null,
      "id": "3c979c0d",
      "metadata": {
        "id": "3c979c0d",
        "colab": {
          "base_uri": "https://localhost:8080/"
        },
        "outputId": "f1e19fd2-54b5-4ae4-cb92-7e8ca2e7b631"
      },
      "outputs": [
        {
          "output_type": "execute_result",
          "data": {
            "text/plain": [
              "460"
            ]
          },
          "metadata": {},
          "execution_count": 36
        }
      ],
      "source": [
        "unique_steps_payments[6]"
      ]
    },
    {
      "cell_type": "code",
      "execution_count": null,
      "id": "58e619f8",
      "metadata": {
        "id": "58e619f8",
        "colab": {
          "base_uri": "https://localhost:8080/"
        },
        "outputId": "b9d18383-427b-431a-e7b3-6cb11e5c959f"
      },
      "outputs": [
        {
          "output_type": "execute_result",
          "data": {
            "text/plain": [
              "0         451\n",
              "1         451\n",
              "2         451\n",
              "3         451\n",
              "4         451\n",
              "         ... \n",
              "278316    667\n",
              "278317    667\n",
              "278318    667\n",
              "278319    667\n",
              "278320    667\n",
              "Name: step, Length: 278321, dtype: int64"
            ]
          },
          "metadata": {},
          "execution_count": 37
        }
      ],
      "source": [
        "s = X_train['step']\n",
        "# s = train_df['step']\n",
        "s"
      ]
    },
    {
      "cell_type": "code",
      "execution_count": null,
      "id": "fa2d2235",
      "metadata": {
        "id": "fa2d2235"
      },
      "outputs": [],
      "source": [
        "d_payment = list()\n",
        "d_cashin = list()\n",
        "d_cash_out = list()\n",
        "d_transfer = list()\n",
        "d_debit = list()"
      ]
    },
    {
      "cell_type": "code",
      "execution_count": null,
      "id": "8110c0a2",
      "metadata": {
        "id": "8110c0a2"
      },
      "outputs": [],
      "source": [
        "for x in unique_steps_payments:\n",
        "    New_df = Payment_df[Payment_df['step']== x]\n",
        "    y = New_df['amount'].mean()\n",
        "    d_payment.append(y) \n",
        "\n",
        "for x in unique_steps_cash_in:\n",
        "    New_df = CashIn_df[CashIn_df['step']== x]\n",
        "    y = New_df['amount'].mean()\n",
        "    d_cashin.append(y) \n",
        "\n",
        "for x in unique_steps_cash_out:\n",
        "    New_df = CashOut_df[CashOut_df['step']== x]\n",
        "    y = New_df['amount'].mean()\n",
        "    d_cash_out.append(y) \n",
        "    \n",
        "for x in unique_steps_transfer:\n",
        "    New_df = Transfer_df[Transfer_df['step']== x]\n",
        "    y = New_df['amount'].mean()\n",
        "    d_transfer.append(y) \n",
        "    \n",
        "for x in unique_steps_debit:\n",
        "    New_df = Debit_df[Debit_df['step']== x]\n",
        "    y = New_df['amount'].mean()\n",
        "    d_debit.append(y) \n",
        "       "
      ]
    },
    {
      "cell_type": "code",
      "execution_count": null,
      "id": "75efecb9",
      "metadata": {
        "id": "75efecb9",
        "colab": {
          "base_uri": "https://localhost:8080/"
        },
        "outputId": "f8b09ede-6263-422c-91a8-9b47e400e49d"
      },
      "outputs": [
        {
          "output_type": "execute_result",
          "data": {
            "text/plain": [
              "451"
            ]
          },
          "metadata": {},
          "execution_count": 40
        }
      ],
      "source": [
        "s[2]"
      ]
    },
    {
      "cell_type": "code",
      "execution_count": null,
      "id": "f5e38075",
      "metadata": {
        "id": "f5e38075"
      },
      "outputs": [],
      "source": [
        "df_payment = pd.DataFrame(list(zip(unique_steps_payments,d_payment)),columns = ['step','mean_amount'])\n",
        "df_cashin = pd.DataFrame(list(zip(unique_steps_cash_in,d_cashin)),columns = ['step','mean_amount'])\n",
        "df_cashout = pd.DataFrame(list(zip(unique_steps_cash_out,d_cash_out)),columns = ['step','mean_amount'])\n",
        "df_transfer = pd.DataFrame(list(zip(unique_steps_transfer,d_transfer)),columns = ['step','mean_amount'])\n",
        "df_debit = pd.DataFrame(list(zip(unique_steps_debit,d_debit)),columns = ['step','mean_amount'])\n"
      ]
    },
    {
      "cell_type": "code",
      "execution_count": null,
      "id": "96f8a0a7",
      "metadata": {
        "id": "96f8a0a7",
        "colab": {
          "base_uri": "https://localhost:8080/",
          "height": 206
        },
        "outputId": "a066f2e6-2bd0-45cc-fe02-a33e76bceaec"
      },
      "outputs": [
        {
          "output_type": "execute_result",
          "data": {
            "text/plain": [
              "   step   mean_amount\n",
              "0   451   9657.260511\n",
              "1   452  10257.436286\n",
              "2   453  11483.580909\n",
              "3   454   6987.931875\n",
              "4   455  12499.548020"
            ],
            "text/html": [
              "\n",
              "  <div id=\"df-f3b16124-2379-407d-ad19-7d908fe06ee9\">\n",
              "    <div class=\"colab-df-container\">\n",
              "      <div>\n",
              "<style scoped>\n",
              "    .dataframe tbody tr th:only-of-type {\n",
              "        vertical-align: middle;\n",
              "    }\n",
              "\n",
              "    .dataframe tbody tr th {\n",
              "        vertical-align: top;\n",
              "    }\n",
              "\n",
              "    .dataframe thead th {\n",
              "        text-align: right;\n",
              "    }\n",
              "</style>\n",
              "<table border=\"1\" class=\"dataframe\">\n",
              "  <thead>\n",
              "    <tr style=\"text-align: right;\">\n",
              "      <th></th>\n",
              "      <th>step</th>\n",
              "      <th>mean_amount</th>\n",
              "    </tr>\n",
              "  </thead>\n",
              "  <tbody>\n",
              "    <tr>\n",
              "      <th>0</th>\n",
              "      <td>451</td>\n",
              "      <td>9657.260511</td>\n",
              "    </tr>\n",
              "    <tr>\n",
              "      <th>1</th>\n",
              "      <td>452</td>\n",
              "      <td>10257.436286</td>\n",
              "    </tr>\n",
              "    <tr>\n",
              "      <th>2</th>\n",
              "      <td>453</td>\n",
              "      <td>11483.580909</td>\n",
              "    </tr>\n",
              "    <tr>\n",
              "      <th>3</th>\n",
              "      <td>454</td>\n",
              "      <td>6987.931875</td>\n",
              "    </tr>\n",
              "    <tr>\n",
              "      <th>4</th>\n",
              "      <td>455</td>\n",
              "      <td>12499.548020</td>\n",
              "    </tr>\n",
              "  </tbody>\n",
              "</table>\n",
              "</div>\n",
              "      <button class=\"colab-df-convert\" onclick=\"convertToInteractive('df-f3b16124-2379-407d-ad19-7d908fe06ee9')\"\n",
              "              title=\"Convert this dataframe to an interactive table.\"\n",
              "              style=\"display:none;\">\n",
              "        \n",
              "  <svg xmlns=\"http://www.w3.org/2000/svg\" height=\"24px\"viewBox=\"0 0 24 24\"\n",
              "       width=\"24px\">\n",
              "    <path d=\"M0 0h24v24H0V0z\" fill=\"none\"/>\n",
              "    <path d=\"M18.56 5.44l.94 2.06.94-2.06 2.06-.94-2.06-.94-.94-2.06-.94 2.06-2.06.94zm-11 1L8.5 8.5l.94-2.06 2.06-.94-2.06-.94L8.5 2.5l-.94 2.06-2.06.94zm10 10l.94 2.06.94-2.06 2.06-.94-2.06-.94-.94-2.06-.94 2.06-2.06.94z\"/><path d=\"M17.41 7.96l-1.37-1.37c-.4-.4-.92-.59-1.43-.59-.52 0-1.04.2-1.43.59L10.3 9.45l-7.72 7.72c-.78.78-.78 2.05 0 2.83L4 21.41c.39.39.9.59 1.41.59.51 0 1.02-.2 1.41-.59l7.78-7.78 2.81-2.81c.8-.78.8-2.07 0-2.86zM5.41 20L4 18.59l7.72-7.72 1.47 1.35L5.41 20z\"/>\n",
              "  </svg>\n",
              "      </button>\n",
              "      \n",
              "  <style>\n",
              "    .colab-df-container {\n",
              "      display:flex;\n",
              "      flex-wrap:wrap;\n",
              "      gap: 12px;\n",
              "    }\n",
              "\n",
              "    .colab-df-convert {\n",
              "      background-color: #E8F0FE;\n",
              "      border: none;\n",
              "      border-radius: 50%;\n",
              "      cursor: pointer;\n",
              "      display: none;\n",
              "      fill: #1967D2;\n",
              "      height: 32px;\n",
              "      padding: 0 0 0 0;\n",
              "      width: 32px;\n",
              "    }\n",
              "\n",
              "    .colab-df-convert:hover {\n",
              "      background-color: #E2EBFA;\n",
              "      box-shadow: 0px 1px 2px rgba(60, 64, 67, 0.3), 0px 1px 3px 1px rgba(60, 64, 67, 0.15);\n",
              "      fill: #174EA6;\n",
              "    }\n",
              "\n",
              "    [theme=dark] .colab-df-convert {\n",
              "      background-color: #3B4455;\n",
              "      fill: #D2E3FC;\n",
              "    }\n",
              "\n",
              "    [theme=dark] .colab-df-convert:hover {\n",
              "      background-color: #434B5C;\n",
              "      box-shadow: 0px 1px 3px 1px rgba(0, 0, 0, 0.15);\n",
              "      filter: drop-shadow(0px 1px 2px rgba(0, 0, 0, 0.3));\n",
              "      fill: #FFFFFF;\n",
              "    }\n",
              "  </style>\n",
              "\n",
              "      <script>\n",
              "        const buttonEl =\n",
              "          document.querySelector('#df-f3b16124-2379-407d-ad19-7d908fe06ee9 button.colab-df-convert');\n",
              "        buttonEl.style.display =\n",
              "          google.colab.kernel.accessAllowed ? 'block' : 'none';\n",
              "\n",
              "        async function convertToInteractive(key) {\n",
              "          const element = document.querySelector('#df-f3b16124-2379-407d-ad19-7d908fe06ee9');\n",
              "          const dataTable =\n",
              "            await google.colab.kernel.invokeFunction('convertToInteractive',\n",
              "                                                     [key], {});\n",
              "          if (!dataTable) return;\n",
              "\n",
              "          const docLinkHtml = 'Like what you see? Visit the ' +\n",
              "            '<a target=\"_blank\" href=https://colab.research.google.com/notebooks/data_table.ipynb>data table notebook</a>'\n",
              "            + ' to learn more about interactive tables.';\n",
              "          element.innerHTML = '';\n",
              "          dataTable['output_type'] = 'display_data';\n",
              "          await google.colab.output.renderOutput(dataTable, element);\n",
              "          const docLink = document.createElement('div');\n",
              "          docLink.innerHTML = docLinkHtml;\n",
              "          element.appendChild(docLink);\n",
              "        }\n",
              "      </script>\n",
              "    </div>\n",
              "  </div>\n",
              "  "
            ]
          },
          "metadata": {},
          "execution_count": 42
        }
      ],
      "source": [
        "df_payment.head()\n",
        "#df_payment.to_csv('payment.csv')"
      ]
    },
    {
      "cell_type": "code",
      "execution_count": null,
      "id": "125fc472",
      "metadata": {
        "id": "125fc472"
      },
      "outputs": [],
      "source": [
        "df_cashin.head()\n",
        "df_cashin.to_csv('cashin.csv')"
      ]
    },
    {
      "cell_type": "code",
      "execution_count": null,
      "id": "38b331cf",
      "metadata": {
        "id": "38b331cf"
      },
      "outputs": [],
      "source": [
        "df_cashout.head()\n",
        "df_cashout.to_csv('cashout.csv')"
      ]
    },
    {
      "cell_type": "code",
      "execution_count": null,
      "id": "84b696c8",
      "metadata": {
        "id": "84b696c8"
      },
      "outputs": [],
      "source": [
        "df_transfer.head()\n",
        "df_transfer.to_csv('transfer.csv')"
      ]
    },
    {
      "cell_type": "code",
      "execution_count": null,
      "id": "9b4d9507",
      "metadata": {
        "id": "9b4d9507"
      },
      "outputs": [],
      "source": [
        "df_debit.head()\n",
        "df_debit.to_csv('debit.csv')"
      ]
    },
    {
      "cell_type": "code",
      "execution_count": null,
      "id": "46e005ef",
      "metadata": {
        "id": "46e005ef"
      },
      "outputs": [],
      "source": [
        "df_with_counting_var = pd.DataFrame(list(zip(unique_steps)), columns=['step'])"
      ]
    },
    {
      "cell_type": "code",
      "execution_count": null,
      "id": "01ada064",
      "metadata": {
        "id": "01ada064"
      },
      "outputs": [],
      "source": [
        "x = df_with_counting_var ['step']"
      ]
    },
    {
      "cell_type": "code",
      "execution_count": null,
      "id": "8a753857",
      "metadata": {
        "id": "8a753857",
        "colab": {
          "base_uri": "https://localhost:8080/"
        },
        "outputId": "22994d7f-e2f1-4531-f182-4946d83b936a"
      },
      "outputs": [
        {
          "output_type": "execute_result",
          "data": {
            "text/plain": [
              "0      451\n",
              "1      452\n",
              "2      453\n",
              "3      454\n",
              "4      455\n",
              "      ... \n",
              "212    663\n",
              "213    664\n",
              "214    665\n",
              "215    666\n",
              "216    667\n",
              "Name: step, Length: 217, dtype: int64"
            ]
          },
          "metadata": {},
          "execution_count": 49
        }
      ],
      "source": [
        "x"
      ]
    },
    {
      "cell_type": "code",
      "execution_count": null,
      "id": "4b461a28",
      "metadata": {
        "id": "4b461a28"
      },
      "outputs": [],
      "source": [
        "df_with_counting_var=df_with_counting_var.merge(df_payment,how = 'left',on ='step')\n"
      ]
    },
    {
      "cell_type": "code",
      "execution_count": null,
      "id": "0902329a",
      "metadata": {
        "id": "0902329a"
      },
      "outputs": [],
      "source": [
        "df_with_counting_var= df_with_counting_var.merge(df_cashin,how = 'left',on ='step')"
      ]
    },
    {
      "cell_type": "code",
      "execution_count": null,
      "id": "2d08b89b",
      "metadata": {
        "id": "2d08b89b"
      },
      "outputs": [],
      "source": [
        "df_with_counting_var.rename(columns = {'mean_amount_x':'Payment'}, inplace = True)\n",
        "df_with_counting_var.rename(columns = {'mean_amount_y':'CashIn'}, inplace = True)"
      ]
    },
    {
      "cell_type": "code",
      "execution_count": null,
      "id": "d4daca3a",
      "metadata": {
        "id": "d4daca3a"
      },
      "outputs": [],
      "source": [
        "df_with_counting_var= df_with_counting_var.merge(df_cashout,how = 'left',on ='step')"
      ]
    },
    {
      "cell_type": "code",
      "execution_count": null,
      "id": "6b0798b0",
      "metadata": {
        "id": "6b0798b0"
      },
      "outputs": [],
      "source": [
        "df_with_counting_var = df_with_counting_var.merge(df_transfer,how = 'left',on ='step')"
      ]
    },
    {
      "cell_type": "code",
      "execution_count": null,
      "id": "357cd713",
      "metadata": {
        "id": "357cd713"
      },
      "outputs": [],
      "source": [
        "df_with_counting_var = df_with_counting_var.merge(df_debit,how = 'left',on ='step')"
      ]
    },
    {
      "cell_type": "code",
      "execution_count": null,
      "id": "1b266b74",
      "metadata": {
        "id": "1b266b74"
      },
      "outputs": [],
      "source": [
        "df_with_counting_var.rename(columns = {'mean_amount_x':'CashOut'}, inplace = True)\n",
        "df_with_counting_var.rename(columns = {'mean_amount_y':'Transfer'}, inplace = True)"
      ]
    },
    {
      "cell_type": "code",
      "execution_count": null,
      "id": "aad2951a",
      "metadata": {
        "id": "aad2951a"
      },
      "outputs": [],
      "source": [
        "df_with_counting_var.rename(columns = {'mean_amount':'Debit'}, inplace = True)"
      ]
    },
    {
      "cell_type": "code",
      "execution_count": null,
      "id": "320e313a",
      "metadata": {
        "id": "320e313a",
        "colab": {
          "base_uri": "https://localhost:8080/",
          "height": 424
        },
        "outputId": "5a2dfdc4-3976-4792-bd55-b62233b5fdd3"
      },
      "outputs": [
        {
          "output_type": "execute_result",
          "data": {
            "text/plain": [
              "     step       Payment         CashIn        CashOut      Transfer  \\\n",
              "0     451   9657.260511  152735.098107  137034.829881  6.682071e+05   \n",
              "1     452  10257.436286  149847.700208  302595.437361  9.291160e+05   \n",
              "2     453  11483.580909  115640.904000  318898.875263  1.102770e+06   \n",
              "3     454   6987.931875            NaN  251486.417000  8.224683e+05   \n",
              "4     455  12499.548020  152217.594304  183193.301368  5.957161e+05   \n",
              "..    ...           ...            ...            ...           ...   \n",
              "212   663           NaN            NaN  324207.230000  3.242072e+05   \n",
              "213   664  11543.667007  187691.423085  212774.482281  8.779970e+05   \n",
              "214   665           NaN            NaN  890481.730000  8.904817e+05   \n",
              "215   666           NaN            NaN  254547.850000  2.545479e+05   \n",
              "216   667   8980.971741  151934.708323  139924.172184  5.082418e+05   \n",
              "\n",
              "           Debit  \n",
              "0    1474.600625  \n",
              "1    2201.305000  \n",
              "2    2615.960000  \n",
              "3            NaN  \n",
              "4    2443.058000  \n",
              "..           ...  \n",
              "212          NaN  \n",
              "213  1084.223333  \n",
              "214          NaN  \n",
              "215          NaN  \n",
              "216  1441.221667  \n",
              "\n",
              "[217 rows x 6 columns]"
            ],
            "text/html": [
              "\n",
              "  <div id=\"df-67e0f230-b895-46d9-a35b-f9ca80e15f67\">\n",
              "    <div class=\"colab-df-container\">\n",
              "      <div>\n",
              "<style scoped>\n",
              "    .dataframe tbody tr th:only-of-type {\n",
              "        vertical-align: middle;\n",
              "    }\n",
              "\n",
              "    .dataframe tbody tr th {\n",
              "        vertical-align: top;\n",
              "    }\n",
              "\n",
              "    .dataframe thead th {\n",
              "        text-align: right;\n",
              "    }\n",
              "</style>\n",
              "<table border=\"1\" class=\"dataframe\">\n",
              "  <thead>\n",
              "    <tr style=\"text-align: right;\">\n",
              "      <th></th>\n",
              "      <th>step</th>\n",
              "      <th>Payment</th>\n",
              "      <th>CashIn</th>\n",
              "      <th>CashOut</th>\n",
              "      <th>Transfer</th>\n",
              "      <th>Debit</th>\n",
              "    </tr>\n",
              "  </thead>\n",
              "  <tbody>\n",
              "    <tr>\n",
              "      <th>0</th>\n",
              "      <td>451</td>\n",
              "      <td>9657.260511</td>\n",
              "      <td>152735.098107</td>\n",
              "      <td>137034.829881</td>\n",
              "      <td>6.682071e+05</td>\n",
              "      <td>1474.600625</td>\n",
              "    </tr>\n",
              "    <tr>\n",
              "      <th>1</th>\n",
              "      <td>452</td>\n",
              "      <td>10257.436286</td>\n",
              "      <td>149847.700208</td>\n",
              "      <td>302595.437361</td>\n",
              "      <td>9.291160e+05</td>\n",
              "      <td>2201.305000</td>\n",
              "    </tr>\n",
              "    <tr>\n",
              "      <th>2</th>\n",
              "      <td>453</td>\n",
              "      <td>11483.580909</td>\n",
              "      <td>115640.904000</td>\n",
              "      <td>318898.875263</td>\n",
              "      <td>1.102770e+06</td>\n",
              "      <td>2615.960000</td>\n",
              "    </tr>\n",
              "    <tr>\n",
              "      <th>3</th>\n",
              "      <td>454</td>\n",
              "      <td>6987.931875</td>\n",
              "      <td>NaN</td>\n",
              "      <td>251486.417000</td>\n",
              "      <td>8.224683e+05</td>\n",
              "      <td>NaN</td>\n",
              "    </tr>\n",
              "    <tr>\n",
              "      <th>4</th>\n",
              "      <td>455</td>\n",
              "      <td>12499.548020</td>\n",
              "      <td>152217.594304</td>\n",
              "      <td>183193.301368</td>\n",
              "      <td>5.957161e+05</td>\n",
              "      <td>2443.058000</td>\n",
              "    </tr>\n",
              "    <tr>\n",
              "      <th>...</th>\n",
              "      <td>...</td>\n",
              "      <td>...</td>\n",
              "      <td>...</td>\n",
              "      <td>...</td>\n",
              "      <td>...</td>\n",
              "      <td>...</td>\n",
              "    </tr>\n",
              "    <tr>\n",
              "      <th>212</th>\n",
              "      <td>663</td>\n",
              "      <td>NaN</td>\n",
              "      <td>NaN</td>\n",
              "      <td>324207.230000</td>\n",
              "      <td>3.242072e+05</td>\n",
              "      <td>NaN</td>\n",
              "    </tr>\n",
              "    <tr>\n",
              "      <th>213</th>\n",
              "      <td>664</td>\n",
              "      <td>11543.667007</td>\n",
              "      <td>187691.423085</td>\n",
              "      <td>212774.482281</td>\n",
              "      <td>8.779970e+05</td>\n",
              "      <td>1084.223333</td>\n",
              "    </tr>\n",
              "    <tr>\n",
              "      <th>214</th>\n",
              "      <td>665</td>\n",
              "      <td>NaN</td>\n",
              "      <td>NaN</td>\n",
              "      <td>890481.730000</td>\n",
              "      <td>8.904817e+05</td>\n",
              "      <td>NaN</td>\n",
              "    </tr>\n",
              "    <tr>\n",
              "      <th>215</th>\n",
              "      <td>666</td>\n",
              "      <td>NaN</td>\n",
              "      <td>NaN</td>\n",
              "      <td>254547.850000</td>\n",
              "      <td>2.545479e+05</td>\n",
              "      <td>NaN</td>\n",
              "    </tr>\n",
              "    <tr>\n",
              "      <th>216</th>\n",
              "      <td>667</td>\n",
              "      <td>8980.971741</td>\n",
              "      <td>151934.708323</td>\n",
              "      <td>139924.172184</td>\n",
              "      <td>5.082418e+05</td>\n",
              "      <td>1441.221667</td>\n",
              "    </tr>\n",
              "  </tbody>\n",
              "</table>\n",
              "<p>217 rows × 6 columns</p>\n",
              "</div>\n",
              "      <button class=\"colab-df-convert\" onclick=\"convertToInteractive('df-67e0f230-b895-46d9-a35b-f9ca80e15f67')\"\n",
              "              title=\"Convert this dataframe to an interactive table.\"\n",
              "              style=\"display:none;\">\n",
              "        \n",
              "  <svg xmlns=\"http://www.w3.org/2000/svg\" height=\"24px\"viewBox=\"0 0 24 24\"\n",
              "       width=\"24px\">\n",
              "    <path d=\"M0 0h24v24H0V0z\" fill=\"none\"/>\n",
              "    <path d=\"M18.56 5.44l.94 2.06.94-2.06 2.06-.94-2.06-.94-.94-2.06-.94 2.06-2.06.94zm-11 1L8.5 8.5l.94-2.06 2.06-.94-2.06-.94L8.5 2.5l-.94 2.06-2.06.94zm10 10l.94 2.06.94-2.06 2.06-.94-2.06-.94-.94-2.06-.94 2.06-2.06.94z\"/><path d=\"M17.41 7.96l-1.37-1.37c-.4-.4-.92-.59-1.43-.59-.52 0-1.04.2-1.43.59L10.3 9.45l-7.72 7.72c-.78.78-.78 2.05 0 2.83L4 21.41c.39.39.9.59 1.41.59.51 0 1.02-.2 1.41-.59l7.78-7.78 2.81-2.81c.8-.78.8-2.07 0-2.86zM5.41 20L4 18.59l7.72-7.72 1.47 1.35L5.41 20z\"/>\n",
              "  </svg>\n",
              "      </button>\n",
              "      \n",
              "  <style>\n",
              "    .colab-df-container {\n",
              "      display:flex;\n",
              "      flex-wrap:wrap;\n",
              "      gap: 12px;\n",
              "    }\n",
              "\n",
              "    .colab-df-convert {\n",
              "      background-color: #E8F0FE;\n",
              "      border: none;\n",
              "      border-radius: 50%;\n",
              "      cursor: pointer;\n",
              "      display: none;\n",
              "      fill: #1967D2;\n",
              "      height: 32px;\n",
              "      padding: 0 0 0 0;\n",
              "      width: 32px;\n",
              "    }\n",
              "\n",
              "    .colab-df-convert:hover {\n",
              "      background-color: #E2EBFA;\n",
              "      box-shadow: 0px 1px 2px rgba(60, 64, 67, 0.3), 0px 1px 3px 1px rgba(60, 64, 67, 0.15);\n",
              "      fill: #174EA6;\n",
              "    }\n",
              "\n",
              "    [theme=dark] .colab-df-convert {\n",
              "      background-color: #3B4455;\n",
              "      fill: #D2E3FC;\n",
              "    }\n",
              "\n",
              "    [theme=dark] .colab-df-convert:hover {\n",
              "      background-color: #434B5C;\n",
              "      box-shadow: 0px 1px 3px 1px rgba(0, 0, 0, 0.15);\n",
              "      filter: drop-shadow(0px 1px 2px rgba(0, 0, 0, 0.3));\n",
              "      fill: #FFFFFF;\n",
              "    }\n",
              "  </style>\n",
              "\n",
              "      <script>\n",
              "        const buttonEl =\n",
              "          document.querySelector('#df-67e0f230-b895-46d9-a35b-f9ca80e15f67 button.colab-df-convert');\n",
              "        buttonEl.style.display =\n",
              "          google.colab.kernel.accessAllowed ? 'block' : 'none';\n",
              "\n",
              "        async function convertToInteractive(key) {\n",
              "          const element = document.querySelector('#df-67e0f230-b895-46d9-a35b-f9ca80e15f67');\n",
              "          const dataTable =\n",
              "            await google.colab.kernel.invokeFunction('convertToInteractive',\n",
              "                                                     [key], {});\n",
              "          if (!dataTable) return;\n",
              "\n",
              "          const docLinkHtml = 'Like what you see? Visit the ' +\n",
              "            '<a target=\"_blank\" href=https://colab.research.google.com/notebooks/data_table.ipynb>data table notebook</a>'\n",
              "            + ' to learn more about interactive tables.';\n",
              "          element.innerHTML = '';\n",
              "          dataTable['output_type'] = 'display_data';\n",
              "          await google.colab.output.renderOutput(dataTable, element);\n",
              "          const docLink = document.createElement('div');\n",
              "          docLink.innerHTML = docLinkHtml;\n",
              "          element.appendChild(docLink);\n",
              "        }\n",
              "      </script>\n",
              "    </div>\n",
              "  </div>\n",
              "  "
            ]
          },
          "metadata": {},
          "execution_count": 58
        }
      ],
      "source": [
        "df_with_counting_var"
      ]
    },
    {
      "cell_type": "code",
      "source": [
        "print(df_with_counting_var['Payment'].isnull().sum())\n",
        "print(df_with_counting_var['CashIn'].isnull().sum())\n",
        "print(df_with_counting_var['CashOut'].isnull().sum())\n",
        "print(df_with_counting_var['Transfer'].isnull().sum())\n",
        "print(df_with_counting_var['Debit'].isnull().sum())"
      ],
      "metadata": {
        "colab": {
          "base_uri": "https://localhost:8080/"
        },
        "id": "EaPu3pvMVOHI",
        "outputId": "c3d041ed-ae2d-47b5-e9f5-94ca3e2c1300"
      },
      "id": "EaPu3pvMVOHI",
      "execution_count": null,
      "outputs": [
        {
          "output_type": "stream",
          "name": "stdout",
          "text": [
            "112\n",
            "117\n",
            "0\n",
            "0\n",
            "117\n"
          ]
        }
      ]
    },
    {
      "cell_type": "code",
      "execution_count": null,
      "id": "fcc9f5ab",
      "metadata": {
        "id": "fcc9f5ab"
      },
      "outputs": [],
      "source": [
        "# Missing Value imputation Using Mean"
      ]
    },
    {
      "cell_type": "code",
      "execution_count": null,
      "id": "e570b35c",
      "metadata": {
        "id": "e570b35c"
      },
      "outputs": [],
      "source": [
        "# df_with_counting_var['Payment'] = df_with_counting_var['Payment'].fillna(df_with_counting_var['Payment'].mean())\n",
        "# df_with_counting_var['CashIn'] = df_with_counting_var['CashIn'].fillna(df_with_counting_var['CashIn'].mean())\n",
        "# df_with_counting_var['CashOut'] = df_with_counting_var['CashOut'].fillna(df_with_counting_var['CashOut'].mean())\n",
        "# df_with_counting_var['Transfer'] = df_with_counting_var['Transfer'].fillna(df_with_counting_var['Transfer'].mean())\n",
        "# df_with_counting_var['Debit'] = df_with_counting_var['Debit'].fillna(df_with_counting_var['Debit'].mean())"
      ]
    },
    {
      "cell_type": "code",
      "source": [
        "df_with_counting_var['Payment'] = df_with_counting_var['Payment'].fillna(0)\n",
        "df_with_counting_var['CashIn'] = df_with_counting_var['CashIn'].fillna(0)\n",
        "df_with_counting_var['CashOut'] = df_with_counting_var['CashOut'].fillna(0)\n",
        "df_with_counting_var['Transfer'] = df_with_counting_var['Transfer'].fillna(0)\n",
        "df_with_counting_var['Debit'] = df_with_counting_var['Debit'].fillna(0)"
      ],
      "metadata": {
        "id": "5rclSgRfFNWu"
      },
      "id": "5rclSgRfFNWu",
      "execution_count": null,
      "outputs": []
    },
    {
      "cell_type": "code",
      "execution_count": null,
      "id": "dfa988be",
      "metadata": {
        "id": "dfa988be",
        "colab": {
          "base_uri": "https://localhost:8080/",
          "height": 424
        },
        "outputId": "37f6aa85-17c4-45f8-8e48-0f616ebb2080"
      },
      "outputs": [
        {
          "output_type": "execute_result",
          "data": {
            "text/plain": [
              "     step       Payment         CashIn        CashOut      Transfer  \\\n",
              "0     451   9657.260511  152735.098107  137034.829881  6.682071e+05   \n",
              "1     452  10257.436286  149847.700208  302595.437361  9.291160e+05   \n",
              "2     453  11483.580909  115640.904000  318898.875263  1.102770e+06   \n",
              "3     454   6987.931875       0.000000  251486.417000  8.224683e+05   \n",
              "4     455  12499.548020  152217.594304  183193.301368  5.957161e+05   \n",
              "..    ...           ...            ...            ...           ...   \n",
              "212   663      0.000000       0.000000  324207.230000  3.242072e+05   \n",
              "213   664  11543.667007  187691.423085  212774.482281  8.779970e+05   \n",
              "214   665      0.000000       0.000000  890481.730000  8.904817e+05   \n",
              "215   666      0.000000       0.000000  254547.850000  2.545479e+05   \n",
              "216   667   8980.971741  151934.708323  139924.172184  5.082418e+05   \n",
              "\n",
              "           Debit  \n",
              "0    1474.600625  \n",
              "1    2201.305000  \n",
              "2    2615.960000  \n",
              "3       0.000000  \n",
              "4    2443.058000  \n",
              "..           ...  \n",
              "212     0.000000  \n",
              "213  1084.223333  \n",
              "214     0.000000  \n",
              "215     0.000000  \n",
              "216  1441.221667  \n",
              "\n",
              "[217 rows x 6 columns]"
            ],
            "text/html": [
              "\n",
              "  <div id=\"df-95ed5855-775d-4680-b5d3-0d12d680b8ae\">\n",
              "    <div class=\"colab-df-container\">\n",
              "      <div>\n",
              "<style scoped>\n",
              "    .dataframe tbody tr th:only-of-type {\n",
              "        vertical-align: middle;\n",
              "    }\n",
              "\n",
              "    .dataframe tbody tr th {\n",
              "        vertical-align: top;\n",
              "    }\n",
              "\n",
              "    .dataframe thead th {\n",
              "        text-align: right;\n",
              "    }\n",
              "</style>\n",
              "<table border=\"1\" class=\"dataframe\">\n",
              "  <thead>\n",
              "    <tr style=\"text-align: right;\">\n",
              "      <th></th>\n",
              "      <th>step</th>\n",
              "      <th>Payment</th>\n",
              "      <th>CashIn</th>\n",
              "      <th>CashOut</th>\n",
              "      <th>Transfer</th>\n",
              "      <th>Debit</th>\n",
              "    </tr>\n",
              "  </thead>\n",
              "  <tbody>\n",
              "    <tr>\n",
              "      <th>0</th>\n",
              "      <td>451</td>\n",
              "      <td>9657.260511</td>\n",
              "      <td>152735.098107</td>\n",
              "      <td>137034.829881</td>\n",
              "      <td>6.682071e+05</td>\n",
              "      <td>1474.600625</td>\n",
              "    </tr>\n",
              "    <tr>\n",
              "      <th>1</th>\n",
              "      <td>452</td>\n",
              "      <td>10257.436286</td>\n",
              "      <td>149847.700208</td>\n",
              "      <td>302595.437361</td>\n",
              "      <td>9.291160e+05</td>\n",
              "      <td>2201.305000</td>\n",
              "    </tr>\n",
              "    <tr>\n",
              "      <th>2</th>\n",
              "      <td>453</td>\n",
              "      <td>11483.580909</td>\n",
              "      <td>115640.904000</td>\n",
              "      <td>318898.875263</td>\n",
              "      <td>1.102770e+06</td>\n",
              "      <td>2615.960000</td>\n",
              "    </tr>\n",
              "    <tr>\n",
              "      <th>3</th>\n",
              "      <td>454</td>\n",
              "      <td>6987.931875</td>\n",
              "      <td>0.000000</td>\n",
              "      <td>251486.417000</td>\n",
              "      <td>8.224683e+05</td>\n",
              "      <td>0.000000</td>\n",
              "    </tr>\n",
              "    <tr>\n",
              "      <th>4</th>\n",
              "      <td>455</td>\n",
              "      <td>12499.548020</td>\n",
              "      <td>152217.594304</td>\n",
              "      <td>183193.301368</td>\n",
              "      <td>5.957161e+05</td>\n",
              "      <td>2443.058000</td>\n",
              "    </tr>\n",
              "    <tr>\n",
              "      <th>...</th>\n",
              "      <td>...</td>\n",
              "      <td>...</td>\n",
              "      <td>...</td>\n",
              "      <td>...</td>\n",
              "      <td>...</td>\n",
              "      <td>...</td>\n",
              "    </tr>\n",
              "    <tr>\n",
              "      <th>212</th>\n",
              "      <td>663</td>\n",
              "      <td>0.000000</td>\n",
              "      <td>0.000000</td>\n",
              "      <td>324207.230000</td>\n",
              "      <td>3.242072e+05</td>\n",
              "      <td>0.000000</td>\n",
              "    </tr>\n",
              "    <tr>\n",
              "      <th>213</th>\n",
              "      <td>664</td>\n",
              "      <td>11543.667007</td>\n",
              "      <td>187691.423085</td>\n",
              "      <td>212774.482281</td>\n",
              "      <td>8.779970e+05</td>\n",
              "      <td>1084.223333</td>\n",
              "    </tr>\n",
              "    <tr>\n",
              "      <th>214</th>\n",
              "      <td>665</td>\n",
              "      <td>0.000000</td>\n",
              "      <td>0.000000</td>\n",
              "      <td>890481.730000</td>\n",
              "      <td>8.904817e+05</td>\n",
              "      <td>0.000000</td>\n",
              "    </tr>\n",
              "    <tr>\n",
              "      <th>215</th>\n",
              "      <td>666</td>\n",
              "      <td>0.000000</td>\n",
              "      <td>0.000000</td>\n",
              "      <td>254547.850000</td>\n",
              "      <td>2.545479e+05</td>\n",
              "      <td>0.000000</td>\n",
              "    </tr>\n",
              "    <tr>\n",
              "      <th>216</th>\n",
              "      <td>667</td>\n",
              "      <td>8980.971741</td>\n",
              "      <td>151934.708323</td>\n",
              "      <td>139924.172184</td>\n",
              "      <td>5.082418e+05</td>\n",
              "      <td>1441.221667</td>\n",
              "    </tr>\n",
              "  </tbody>\n",
              "</table>\n",
              "<p>217 rows × 6 columns</p>\n",
              "</div>\n",
              "      <button class=\"colab-df-convert\" onclick=\"convertToInteractive('df-95ed5855-775d-4680-b5d3-0d12d680b8ae')\"\n",
              "              title=\"Convert this dataframe to an interactive table.\"\n",
              "              style=\"display:none;\">\n",
              "        \n",
              "  <svg xmlns=\"http://www.w3.org/2000/svg\" height=\"24px\"viewBox=\"0 0 24 24\"\n",
              "       width=\"24px\">\n",
              "    <path d=\"M0 0h24v24H0V0z\" fill=\"none\"/>\n",
              "    <path d=\"M18.56 5.44l.94 2.06.94-2.06 2.06-.94-2.06-.94-.94-2.06-.94 2.06-2.06.94zm-11 1L8.5 8.5l.94-2.06 2.06-.94-2.06-.94L8.5 2.5l-.94 2.06-2.06.94zm10 10l.94 2.06.94-2.06 2.06-.94-2.06-.94-.94-2.06-.94 2.06-2.06.94z\"/><path d=\"M17.41 7.96l-1.37-1.37c-.4-.4-.92-.59-1.43-.59-.52 0-1.04.2-1.43.59L10.3 9.45l-7.72 7.72c-.78.78-.78 2.05 0 2.83L4 21.41c.39.39.9.59 1.41.59.51 0 1.02-.2 1.41-.59l7.78-7.78 2.81-2.81c.8-.78.8-2.07 0-2.86zM5.41 20L4 18.59l7.72-7.72 1.47 1.35L5.41 20z\"/>\n",
              "  </svg>\n",
              "      </button>\n",
              "      \n",
              "  <style>\n",
              "    .colab-df-container {\n",
              "      display:flex;\n",
              "      flex-wrap:wrap;\n",
              "      gap: 12px;\n",
              "    }\n",
              "\n",
              "    .colab-df-convert {\n",
              "      background-color: #E8F0FE;\n",
              "      border: none;\n",
              "      border-radius: 50%;\n",
              "      cursor: pointer;\n",
              "      display: none;\n",
              "      fill: #1967D2;\n",
              "      height: 32px;\n",
              "      padding: 0 0 0 0;\n",
              "      width: 32px;\n",
              "    }\n",
              "\n",
              "    .colab-df-convert:hover {\n",
              "      background-color: #E2EBFA;\n",
              "      box-shadow: 0px 1px 2px rgba(60, 64, 67, 0.3), 0px 1px 3px 1px rgba(60, 64, 67, 0.15);\n",
              "      fill: #174EA6;\n",
              "    }\n",
              "\n",
              "    [theme=dark] .colab-df-convert {\n",
              "      background-color: #3B4455;\n",
              "      fill: #D2E3FC;\n",
              "    }\n",
              "\n",
              "    [theme=dark] .colab-df-convert:hover {\n",
              "      background-color: #434B5C;\n",
              "      box-shadow: 0px 1px 3px 1px rgba(0, 0, 0, 0.15);\n",
              "      filter: drop-shadow(0px 1px 2px rgba(0, 0, 0, 0.3));\n",
              "      fill: #FFFFFF;\n",
              "    }\n",
              "  </style>\n",
              "\n",
              "      <script>\n",
              "        const buttonEl =\n",
              "          document.querySelector('#df-95ed5855-775d-4680-b5d3-0d12d680b8ae button.colab-df-convert');\n",
              "        buttonEl.style.display =\n",
              "          google.colab.kernel.accessAllowed ? 'block' : 'none';\n",
              "\n",
              "        async function convertToInteractive(key) {\n",
              "          const element = document.querySelector('#df-95ed5855-775d-4680-b5d3-0d12d680b8ae');\n",
              "          const dataTable =\n",
              "            await google.colab.kernel.invokeFunction('convertToInteractive',\n",
              "                                                     [key], {});\n",
              "          if (!dataTable) return;\n",
              "\n",
              "          const docLinkHtml = 'Like what you see? Visit the ' +\n",
              "            '<a target=\"_blank\" href=https://colab.research.google.com/notebooks/data_table.ipynb>data table notebook</a>'\n",
              "            + ' to learn more about interactive tables.';\n",
              "          element.innerHTML = '';\n",
              "          dataTable['output_type'] = 'display_data';\n",
              "          await google.colab.output.renderOutput(dataTable, element);\n",
              "          const docLink = document.createElement('div');\n",
              "          docLink.innerHTML = docLinkHtml;\n",
              "          element.appendChild(docLink);\n",
              "        }\n",
              "      </script>\n",
              "    </div>\n",
              "  </div>\n",
              "  "
            ]
          },
          "metadata": {},
          "execution_count": 61
        }
      ],
      "source": [
        "df_with_counting_var"
      ]
    },
    {
      "cell_type": "code",
      "execution_count": null,
      "id": "b4bd8a8c",
      "metadata": {
        "id": "b4bd8a8c"
      },
      "outputs": [],
      "source": [
        "df_with_counting_var.to_csv('big.csv') "
      ]
    },
    {
      "cell_type": "code",
      "execution_count": null,
      "id": "91fc3ad4",
      "metadata": {
        "id": "91fc3ad4",
        "colab": {
          "base_uri": "https://localhost:8080/",
          "height": 282
        },
        "outputId": "739fee17-7371-46f1-d2bb-870bc5c90155"
      },
      "outputs": [
        {
          "output_type": "execute_result",
          "data": {
            "text/plain": [
              "[<matplotlib.lines.Line2D at 0x7fc1ccb89490>]"
            ]
          },
          "metadata": {},
          "execution_count": 63
        },
        {
          "output_type": "display_data",
          "data": {
            "text/plain": [
              "<Figure size 432x288 with 1 Axes>"
            ],
            "image/png": "[encoded data removed]"
          },
          "metadata": {
            "needs_background": "light"
          }
        }
      ],
      "source": [
        "plt.plot(df_with_counting_var['Payment'])"
      ]
    },
    {
      "cell_type": "code",
      "execution_count": null,
      "id": "c4563a3d",
      "metadata": {
        "id": "c4563a3d",
        "colab": {
          "base_uri": "https://localhost:8080/",
          "height": 282
        },
        "outputId": "1c51b457-4836-4f5d-e0c8-88b966f02c47"
      },
      "outputs": [
        {
          "output_type": "execute_result",
          "data": {
            "text/plain": [
              "[<matplotlib.lines.Line2D at 0x7fc1c9d99390>]"
            ]
          },
          "metadata": {},
          "execution_count": 64
        },
        {
          "output_type": "display_data",
          "data": {
            "text/plain": [
              "<Figure size 432x288 with 1 Axes>"
            ],
            "image/png": "[encoded data removed]"
          },
          "metadata": {
            "needs_background": "light"
          }
        }
      ],
      "source": [
        "plt.plot(df_with_counting_var['CashIn'])"
      ]
    },
    {
      "cell_type": "code",
      "execution_count": null,
      "id": "7ababd14",
      "metadata": {
        "id": "7ababd14",
        "colab": {
          "base_uri": "https://localhost:8080/",
          "height": 293
        },
        "outputId": "adc9d826-c112-409d-f713-a1e68f8a85ba"
      },
      "outputs": [
        {
          "output_type": "execute_result",
          "data": {
            "text/plain": [
              "[<matplotlib.lines.Line2D at 0x7fc1c9d79d50>]"
            ]
          },
          "metadata": {},
          "execution_count": 65
        },
        {
          "output_type": "display_data",
          "data": {
            "text/plain": [
              "<Figure size 432x288 with 1 Axes>"
            ],
            "image/png": "[encoded data removed]"
          },
          "metadata": {
            "needs_background": "light"
          }
        }
      ],
      "source": [
        "plt.plot(df_with_counting_var['CashOut'])"
      ]
    },
    {
      "cell_type": "code",
      "execution_count": null,
      "id": "192cb56a",
      "metadata": {
        "id": "192cb56a",
        "colab": {
          "base_uri": "https://localhost:8080/",
          "height": 293
        },
        "outputId": "915ce575-f452-4879-b49b-ec76e4299508"
      },
      "outputs": [
        {
          "output_type": "execute_result",
          "data": {
            "text/plain": [
              "[<matplotlib.lines.Line2D at 0x7fc1c9cdde90>]"
            ]
          },
          "metadata": {},
          "execution_count": 66
        },
        {
          "output_type": "display_data",
          "data": {
            "text/plain": [
              "<Figure size 432x288 with 1 Axes>"
            ],
            "image/png": "[encoded data removed]"
          },
          "metadata": {
            "needs_background": "light"
          }
        }
      ],
      "source": [
        "plt.plot(df_with_counting_var['Transfer'])"
      ]
    },
    {
      "cell_type": "code",
      "execution_count": null,
      "id": "ff96059b",
      "metadata": {
        "id": "ff96059b",
        "colab": {
          "base_uri": "https://localhost:8080/",
          "height": 282
        },
        "outputId": "2aa381f2-a0e9-46ce-b77e-1e1651e77372"
      },
      "outputs": [
        {
          "output_type": "execute_result",
          "data": {
            "text/plain": [
              "[<matplotlib.lines.Line2D at 0x7fc1c9c47dd0>]"
            ]
          },
          "metadata": {},
          "execution_count": 67
        },
        {
          "output_type": "display_data",
          "data": {
            "text/plain": [
              "<Figure size 432x288 with 1 Axes>"
            ],
            "image/png": "[encoded data removed]"
          },
          "metadata": {
            "needs_background": "light"
          }
        }
      ],
      "source": [
        "plt.plot(df_with_counting_var['Debit'])"
      ]
    },
    {
      "cell_type": "code",
      "execution_count": null,
      "id": "fcbe2446",
      "metadata": {
        "id": "fcbe2446"
      },
      "outputs": [],
      "source": [
        "df_with_counting_var2 = df_with_counting_var.drop(['step'],axis = 1)"
      ]
    },
    {
      "cell_type": "code",
      "execution_count": null,
      "id": "ed5d8828",
      "metadata": {
        "id": "ed5d8828",
        "colab": {
          "base_uri": "https://localhost:8080/",
          "height": 424
        },
        "outputId": "a40e7c7b-f6f6-4ec1-f45d-46824d1c13e5"
      },
      "outputs": [
        {
          "output_type": "execute_result",
          "data": {
            "text/plain": [
              "          Payment         CashIn        CashOut      Transfer        Debit\n",
              "0     9657.260511  152735.098107  137034.829881  6.682071e+05  1474.600625\n",
              "1    10257.436286  149847.700208  302595.437361  9.291160e+05  2201.305000\n",
              "2    11483.580909  115640.904000  318898.875263  1.102770e+06  2615.960000\n",
              "3     6987.931875       0.000000  251486.417000  8.224683e+05     0.000000\n",
              "4    12499.548020  152217.594304  183193.301368  5.957161e+05  2443.058000\n",
              "..            ...            ...            ...           ...          ...\n",
              "212      0.000000       0.000000  324207.230000  3.242072e+05     0.000000\n",
              "213  11543.667007  187691.423085  212774.482281  8.779970e+05  1084.223333\n",
              "214      0.000000       0.000000  890481.730000  8.904817e+05     0.000000\n",
              "215      0.000000       0.000000  254547.850000  2.545479e+05     0.000000\n",
              "216   8980.971741  151934.708323  139924.172184  5.082418e+05  1441.221667\n",
              "\n",
              "[217 rows x 5 columns]"
            ],
            "text/html": [
              "\n",
              "  <div id=\"df-3095a22e-71a8-49c6-9b9d-4dee0134bbaf\">\n",
              "    <div class=\"colab-df-container\">\n",
              "      <div>\n",
              "<style scoped>\n",
              "    .dataframe tbody tr th:only-of-type {\n",
              "        vertical-align: middle;\n",
              "    }\n",
              "\n",
              "    .dataframe tbody tr th {\n",
              "        vertical-align: top;\n",
              "    }\n",
              "\n",
              "    .dataframe thead th {\n",
              "        text-align: right;\n",
              "    }\n",
              "</style>\n",
              "<table border=\"1\" class=\"dataframe\">\n",
              "  <thead>\n",
              "    <tr style=\"text-align: right;\">\n",
              "      <th></th>\n",
              "      <th>Payment</th>\n",
              "      <th>CashIn</th>\n",
              "      <th>CashOut</th>\n",
              "      <th>Transfer</th>\n",
              "      <th>Debit</th>\n",
              "    </tr>\n",
              "  </thead>\n",
              "  <tbody>\n",
              "    <tr>\n",
              "      <th>0</th>\n",
              "      <td>9657.260511</td>\n",
              "      <td>152735.098107</td>\n",
              "      <td>137034.829881</td>\n",
              "      <td>6.682071e+05</td>\n",
              "      <td>1474.600625</td>\n",
              "    </tr>\n",
              "    <tr>\n",
              "      <th>1</th>\n",
              "      <td>10257.436286</td>\n",
              "      <td>149847.700208</td>\n",
              "      <td>302595.437361</td>\n",
              "      <td>9.291160e+05</td>\n",
              "      <td>2201.305000</td>\n",
              "    </tr>\n",
              "    <tr>\n",
              "      <th>2</th>\n",
              "      <td>11483.580909</td>\n",
              "      <td>115640.904000</td>\n",
              "      <td>318898.875263</td>\n",
              "      <td>1.102770e+06</td>\n",
              "      <td>2615.960000</td>\n",
              "    </tr>\n",
              "    <tr>\n",
              "      <th>3</th>\n",
              "      <td>6987.931875</td>\n",
              "      <td>0.000000</td>\n",
              "      <td>251486.417000</td>\n",
              "      <td>8.224683e+05</td>\n",
              "      <td>0.000000</td>\n",
              "    </tr>\n",
              "    <tr>\n",
              "      <th>4</th>\n",
              "      <td>12499.548020</td>\n",
              "      <td>152217.594304</td>\n",
              "      <td>183193.301368</td>\n",
              "      <td>5.957161e+05</td>\n",
              "      <td>2443.058000</td>\n",
              "    </tr>\n",
              "    <tr>\n",
              "      <th>...</th>\n",
              "      <td>...</td>\n",
              "      <td>...</td>\n",
              "      <td>...</td>\n",
              "      <td>...</td>\n",
              "      <td>...</td>\n",
              "    </tr>\n",
              "    <tr>\n",
              "      <th>212</th>\n",
              "      <td>0.000000</td>\n",
              "      <td>0.000000</td>\n",
              "      <td>324207.230000</td>\n",
              "      <td>3.242072e+05</td>\n",
              "      <td>0.000000</td>\n",
              "    </tr>\n",
              "    <tr>\n",
              "      <th>213</th>\n",
              "      <td>11543.667007</td>\n",
              "      <td>187691.423085</td>\n",
              "      <td>212774.482281</td>\n",
              "      <td>8.779970e+05</td>\n",
              "      <td>1084.223333</td>\n",
              "    </tr>\n",
              "    <tr>\n",
              "      <th>214</th>\n",
              "      <td>0.000000</td>\n",
              "      <td>0.000000</td>\n",
              "      <td>890481.730000</td>\n",
              "      <td>8.904817e+05</td>\n",
              "      <td>0.000000</td>\n",
              "    </tr>\n",
              "    <tr>\n",
              "      <th>215</th>\n",
              "      <td>0.000000</td>\n",
              "      <td>0.000000</td>\n",
              "      <td>254547.850000</td>\n",
              "      <td>2.545479e+05</td>\n",
              "      <td>0.000000</td>\n",
              "    </tr>\n",
              "    <tr>\n",
              "      <th>216</th>\n",
              "      <td>8980.971741</td>\n",
              "      <td>151934.708323</td>\n",
              "      <td>139924.172184</td>\n",
              "      <td>5.082418e+05</td>\n",
              "      <td>1441.221667</td>\n",
              "    </tr>\n",
              "  </tbody>\n",
              "</table>\n",
              "<p>217 rows × 5 columns</p>\n",
              "</div>\n",
              "      <button class=\"colab-df-convert\" onclick=\"convertToInteractive('df-3095a22e-71a8-49c6-9b9d-4dee0134bbaf')\"\n",
              "              title=\"Convert this dataframe to an interactive table.\"\n",
              "              style=\"display:none;\">\n",
              "        \n",
              "  <svg xmlns=\"http://www.w3.org/2000/svg\" height=\"24px\"viewBox=\"0 0 24 24\"\n",
              "       width=\"24px\">\n",
              "    <path d=\"M0 0h24v24H0V0z\" fill=\"none\"/>\n",
              "    <path d=\"M18.56 5.44l.94 2.06.94-2.06 2.06-.94-2.06-.94-.94-2.06-.94 2.06-2.06.94zm-11 1L8.5 8.5l.94-2.06 2.06-.94-2.06-.94L8.5 2.5l-.94 2.06-2.06.94zm10 10l.94 2.06.94-2.06 2.06-.94-2.06-.94-.94-2.06-.94 2.06-2.06.94z\"/><path d=\"M17.41 7.96l-1.37-1.37c-.4-.4-.92-.59-1.43-.59-.52 0-1.04.2-1.43.59L10.3 9.45l-7.72 7.72c-.78.78-.78 2.05 0 2.83L4 21.41c.39.39.9.59 1.41.59.51 0 1.02-.2 1.41-.59l7.78-7.78 2.81-2.81c.8-.78.8-2.07 0-2.86zM5.41 20L4 18.59l7.72-7.72 1.47 1.35L5.41 20z\"/>\n",
              "  </svg>\n",
              "      </button>\n",
              "      \n",
              "  <style>\n",
              "    .colab-df-container {\n",
              "      display:flex;\n",
              "      flex-wrap:wrap;\n",
              "      gap: 12px;\n",
              "    }\n",
              "\n",
              "    .colab-df-convert {\n",
              "      background-color: #E8F0FE;\n",
              "      border: none;\n",
              "      border-radius: 50%;\n",
              "      cursor: pointer;\n",
              "      display: none;\n",
              "      fill: #1967D2;\n",
              "      height: 32px;\n",
              "      padding: 0 0 0 0;\n",
              "      width: 32px;\n",
              "    }\n",
              "\n",
              "    .colab-df-convert:hover {\n",
              "      background-color: #E2EBFA;\n",
              "      box-shadow: 0px 1px 2px rgba(60, 64, 67, 0.3), 0px 1px 3px 1px rgba(60, 64, 67, 0.15);\n",
              "      fill: #174EA6;\n",
              "    }\n",
              "\n",
              "    [theme=dark] .colab-df-convert {\n",
              "      background-color: #3B4455;\n",
              "      fill: #D2E3FC;\n",
              "    }\n",
              "\n",
              "    [theme=dark] .colab-df-convert:hover {\n",
              "      background-color: #434B5C;\n",
              "      box-shadow: 0px 1px 3px 1px rgba(0, 0, 0, 0.15);\n",
              "      filter: drop-shadow(0px 1px 2px rgba(0, 0, 0, 0.3));\n",
              "      fill: #FFFFFF;\n",
              "    }\n",
              "  </style>\n",
              "\n",
              "      <script>\n",
              "        const buttonEl =\n",
              "          document.querySelector('#df-3095a22e-71a8-49c6-9b9d-4dee0134bbaf button.colab-df-convert');\n",
              "        buttonEl.style.display =\n",
              "          google.colab.kernel.accessAllowed ? 'block' : 'none';\n",
              "\n",
              "        async function convertToInteractive(key) {\n",
              "          const element = document.querySelector('#df-3095a22e-71a8-49c6-9b9d-4dee0134bbaf');\n",
              "          const dataTable =\n",
              "            await google.colab.kernel.invokeFunction('convertToInteractive',\n",
              "                                                     [key], {});\n",
              "          if (!dataTable) return;\n",
              "\n",
              "          const docLinkHtml = 'Like what you see? Visit the ' +\n",
              "            '<a target=\"_blank\" href=https://colab.research.google.com/notebooks/data_table.ipynb>data table notebook</a>'\n",
              "            + ' to learn more about interactive tables.';\n",
              "          element.innerHTML = '';\n",
              "          dataTable['output_type'] = 'display_data';\n",
              "          await google.colab.output.renderOutput(dataTable, element);\n",
              "          const docLink = document.createElement('div');\n",
              "          docLink.innerHTML = docLinkHtml;\n",
              "          element.appendChild(docLink);\n",
              "        }\n",
              "      </script>\n",
              "    </div>\n",
              "  </div>\n",
              "  "
            ]
          },
          "metadata": {},
          "execution_count": 69
        }
      ],
      "source": [
        "df_with_counting_var2"
      ]
    },
    {
      "cell_type": "code",
      "execution_count": null,
      "id": "f94770d8",
      "metadata": {
        "id": "f94770d8"
      },
      "outputs": [],
      "source": [
        "plt.boxplot(df_with_counting_var2)\n",
        "plt.show()"
      ]
    },
    {
      "cell_type": "code",
      "execution_count": null,
      "id": "88043a50",
      "metadata": {
        "id": "88043a50"
      },
      "outputs": [],
      "source": [
        "# Boxplot shows many outlying observations for \n",
        "# Calculating maximum bound for oulying observations in the boxplot\n",
        "A=df_with_counting_var.quantile(0.25)\n",
        "B=df_with_counting_var.quantile(0.75)"
      ]
    },
    {
      "cell_type": "code",
      "execution_count": null,
      "id": "7c26def3",
      "metadata": {
        "id": "7c26def3"
      },
      "outputs": [],
      "source": [
        "# IQR for variable CashOut\n",
        "IQR = B['CashOut']-A['CashOut']\n",
        "UpperLimit = 1.5*IQR+B['CashOut']"
      ]
    },
    {
      "cell_type": "code",
      "execution_count": null,
      "id": "18da7360",
      "metadata": {
        "id": "18da7360"
      },
      "outputs": [],
      "source": [
        "fraud_count = []\n",
        "for x in unique_steps:\n",
        "    New_df = train_df[train_df['step']== x]\n",
        "    y = New_df['isFraud'].sum()\n",
        "    fraud_count.append(y)"
      ]
    },
    {
      "cell_type": "code",
      "execution_count": null,
      "id": "d0340b40",
      "metadata": {
        "id": "d0340b40"
      },
      "outputs": [],
      "source": [
        "df_with_counting_var['fraud_count'] = fraud_count"
      ]
    },
    {
      "cell_type": "code",
      "execution_count": null,
      "id": "e1a422b4",
      "metadata": {
        "id": "e1a422b4",
        "colab": {
          "base_uri": "https://localhost:8080/",
          "height": 424
        },
        "outputId": "aa018308-16a0-4c3a-f791-b16a52d48540"
      },
      "outputs": [
        {
          "output_type": "execute_result",
          "data": {
            "text/plain": [
              "     step       Payment         CashIn        CashOut      Transfer  \\\n",
              "0     451   9657.260511  152735.098107  137034.829881  6.682071e+05   \n",
              "1     452  10257.436286  149847.700208  302595.437361  9.291160e+05   \n",
              "2     453  11483.580909  115640.904000  318898.875263  1.102770e+06   \n",
              "3     454   6987.931875       0.000000  251486.417000  8.224683e+05   \n",
              "4     455  12499.548020  152217.594304  183193.301368  5.957161e+05   \n",
              "..    ...           ...            ...            ...           ...   \n",
              "212   663      0.000000       0.000000  324207.230000  3.242072e+05   \n",
              "213   664  11543.667007  187691.423085  212774.482281  8.779970e+05   \n",
              "214   665      0.000000       0.000000  890481.730000  8.904817e+05   \n",
              "215   666      0.000000       0.000000  254547.850000  2.545479e+05   \n",
              "216   667   8980.971741  151934.708323  139924.172184  5.082418e+05   \n",
              "\n",
              "           Debit  fraud_count  \n",
              "0    1474.600625            4  \n",
              "1    2201.305000           10  \n",
              "2    2615.960000            8  \n",
              "3       0.000000            6  \n",
              "4    2443.058000           10  \n",
              "..           ...          ...  \n",
              "212     0.000000           10  \n",
              "213  1084.223333           20  \n",
              "214     0.000000           10  \n",
              "215     0.000000            6  \n",
              "216  1441.221667            4  \n",
              "\n",
              "[217 rows x 7 columns]"
            ],
            "text/html": [
              "\n",
              "  <div id=\"df-4be2a92e-09e9-4293-b564-ea3ff53d149f\">\n",
              "    <div class=\"colab-df-container\">\n",
              "      <div>\n",
              "<style scoped>\n",
              "    .dataframe tbody tr th:only-of-type {\n",
              "        vertical-align: middle;\n",
              "    }\n",
              "\n",
              "    .dataframe tbody tr th {\n",
              "        vertical-align: top;\n",
              "    }\n",
              "\n",
              "    .dataframe thead th {\n",
              "        text-align: right;\n",
              "    }\n",
              "</style>\n",
              "<table border=\"1\" class=\"dataframe\">\n",
              "  <thead>\n",
              "    <tr style=\"text-align: right;\">\n",
              "      <th></th>\n",
              "      <th>step</th>\n",
              "      <th>Payment</th>\n",
              "      <th>CashIn</th>\n",
              "      <th>CashOut</th>\n",
              "      <th>Transfer</th>\n",
              "      <th>Debit</th>\n",
              "      <th>fraud_count</th>\n",
              "    </tr>\n",
              "  </thead>\n",
              "  <tbody>\n",
              "    <tr>\n",
              "      <th>0</th>\n",
              "      <td>451</td>\n",
              "      <td>9657.260511</td>\n",
              "      <td>152735.098107</td>\n",
              "      <td>137034.829881</td>\n",
              "      <td>6.682071e+05</td>\n",
              "      <td>1474.600625</td>\n",
              "      <td>4</td>\n",
              "    </tr>\n",
              "    <tr>\n",
              "      <th>1</th>\n",
              "      <td>452</td>\n",
              "      <td>10257.436286</td>\n",
              "      <td>149847.700208</td>\n",
              "      <td>302595.437361</td>\n",
              "      <td>9.291160e+05</td>\n",
              "      <td>2201.305000</td>\n",
              "      <td>10</td>\n",
              "    </tr>\n",
              "    <tr>\n",
              "      <th>2</th>\n",
              "      <td>453</td>\n",
              "      <td>11483.580909</td>\n",
              "      <td>115640.904000</td>\n",
              "      <td>318898.875263</td>\n",
              "      <td>1.102770e+06</td>\n",
              "      <td>2615.960000</td>\n",
              "      <td>8</td>\n",
              "    </tr>\n",
              "    <tr>\n",
              "      <th>3</th>\n",
              "      <td>454</td>\n",
              "      <td>6987.931875</td>\n",
              "      <td>0.000000</td>\n",
              "      <td>251486.417000</td>\n",
              "      <td>8.224683e+05</td>\n",
              "      <td>0.000000</td>\n",
              "      <td>6</td>\n",
              "    </tr>\n",
              "    <tr>\n",
              "      <th>4</th>\n",
              "      <td>455</td>\n",
              "      <td>12499.548020</td>\n",
              "      <td>152217.594304</td>\n",
              "      <td>183193.301368</td>\n",
              "      <td>5.957161e+05</td>\n",
              "      <td>2443.058000</td>\n",
              "      <td>10</td>\n",
              "    </tr>\n",
              "    <tr>\n",
              "      <th>...</th>\n",
              "      <td>...</td>\n",
              "      <td>...</td>\n",
              "      <td>...</td>\n",
              "      <td>...</td>\n",
              "      <td>...</td>\n",
              "      <td>...</td>\n",
              "      <td>...</td>\n",
              "    </tr>\n",
              "    <tr>\n",
              "      <th>212</th>\n",
              "      <td>663</td>\n",
              "      <td>0.000000</td>\n",
              "      <td>0.000000</td>\n",
              "      <td>324207.230000</td>\n",
              "      <td>3.242072e+05</td>\n",
              "      <td>0.000000</td>\n",
              "      <td>10</td>\n",
              "    </tr>\n",
              "    <tr>\n",
              "      <th>213</th>\n",
              "      <td>664</td>\n",
              "      <td>11543.667007</td>\n",
              "      <td>187691.423085</td>\n",
              "      <td>212774.482281</td>\n",
              "      <td>8.779970e+05</td>\n",
              "      <td>1084.223333</td>\n",
              "      <td>20</td>\n",
              "    </tr>\n",
              "    <tr>\n",
              "      <th>214</th>\n",
              "      <td>665</td>\n",
              "      <td>0.000000</td>\n",
              "      <td>0.000000</td>\n",
              "      <td>890481.730000</td>\n",
              "      <td>8.904817e+05</td>\n",
              "      <td>0.000000</td>\n",
              "      <td>10</td>\n",
              "    </tr>\n",
              "    <tr>\n",
              "      <th>215</th>\n",
              "      <td>666</td>\n",
              "      <td>0.000000</td>\n",
              "      <td>0.000000</td>\n",
              "      <td>254547.850000</td>\n",
              "      <td>2.545479e+05</td>\n",
              "      <td>0.000000</td>\n",
              "      <td>6</td>\n",
              "    </tr>\n",
              "    <tr>\n",
              "      <th>216</th>\n",
              "      <td>667</td>\n",
              "      <td>8980.971741</td>\n",
              "      <td>151934.708323</td>\n",
              "      <td>139924.172184</td>\n",
              "      <td>5.082418e+05</td>\n",
              "      <td>1441.221667</td>\n",
              "      <td>4</td>\n",
              "    </tr>\n",
              "  </tbody>\n",
              "</table>\n",
              "<p>217 rows × 7 columns</p>\n",
              "</div>\n",
              "      <button class=\"colab-df-convert\" onclick=\"convertToInteractive('df-4be2a92e-09e9-4293-b564-ea3ff53d149f')\"\n",
              "              title=\"Convert this dataframe to an interactive table.\"\n",
              "              style=\"display:none;\">\n",
              "        \n",
              "  <svg xmlns=\"http://www.w3.org/2000/svg\" height=\"24px\"viewBox=\"0 0 24 24\"\n",
              "       width=\"24px\">\n",
              "    <path d=\"M0 0h24v24H0V0z\" fill=\"none\"/>\n",
              "    <path d=\"M18.56 5.44l.94 2.06.94-2.06 2.06-.94-2.06-.94-.94-2.06-.94 2.06-2.06.94zm-11 1L8.5 8.5l.94-2.06 2.06-.94-2.06-.94L8.5 2.5l-.94 2.06-2.06.94zm10 10l.94 2.06.94-2.06 2.06-.94-2.06-.94-.94-2.06-.94 2.06-2.06.94z\"/><path d=\"M17.41 7.96l-1.37-1.37c-.4-.4-.92-.59-1.43-.59-.52 0-1.04.2-1.43.59L10.3 9.45l-7.72 7.72c-.78.78-.78 2.05 0 2.83L4 21.41c.39.39.9.59 1.41.59.51 0 1.02-.2 1.41-.59l7.78-7.78 2.81-2.81c.8-.78.8-2.07 0-2.86zM5.41 20L4 18.59l7.72-7.72 1.47 1.35L5.41 20z\"/>\n",
              "  </svg>\n",
              "      </button>\n",
              "      \n",
              "  <style>\n",
              "    .colab-df-container {\n",
              "      display:flex;\n",
              "      flex-wrap:wrap;\n",
              "      gap: 12px;\n",
              "    }\n",
              "\n",
              "    .colab-df-convert {\n",
              "      background-color: #E8F0FE;\n",
              "      border: none;\n",
              "      border-radius: 50%;\n",
              "      cursor: pointer;\n",
              "      display: none;\n",
              "      fill: #1967D2;\n",
              "      height: 32px;\n",
              "      padding: 0 0 0 0;\n",
              "      width: 32px;\n",
              "    }\n",
              "\n",
              "    .colab-df-convert:hover {\n",
              "      background-color: #E2EBFA;\n",
              "      box-shadow: 0px 1px 2px rgba(60, 64, 67, 0.3), 0px 1px 3px 1px rgba(60, 64, 67, 0.15);\n",
              "      fill: #174EA6;\n",
              "    }\n",
              "\n",
              "    [theme=dark] .colab-df-convert {\n",
              "      background-color: #3B4455;\n",
              "      fill: #D2E3FC;\n",
              "    }\n",
              "\n",
              "    [theme=dark] .colab-df-convert:hover {\n",
              "      background-color: #434B5C;\n",
              "      box-shadow: 0px 1px 3px 1px rgba(0, 0, 0, 0.15);\n",
              "      filter: drop-shadow(0px 1px 2px rgba(0, 0, 0, 0.3));\n",
              "      fill: #FFFFFF;\n",
              "    }\n",
              "  </style>\n",
              "\n",
              "      <script>\n",
              "        const buttonEl =\n",
              "          document.querySelector('#df-4be2a92e-09e9-4293-b564-ea3ff53d149f button.colab-df-convert');\n",
              "        buttonEl.style.display =\n",
              "          google.colab.kernel.accessAllowed ? 'block' : 'none';\n",
              "\n",
              "        async function convertToInteractive(key) {\n",
              "          const element = document.querySelector('#df-4be2a92e-09e9-4293-b564-ea3ff53d149f');\n",
              "          const dataTable =\n",
              "            await google.colab.kernel.invokeFunction('convertToInteractive',\n",
              "                                                     [key], {});\n",
              "          if (!dataTable) return;\n",
              "\n",
              "          const docLinkHtml = 'Like what you see? Visit the ' +\n",
              "            '<a target=\"_blank\" href=https://colab.research.google.com/notebooks/data_table.ipynb>data table notebook</a>'\n",
              "            + ' to learn more about interactive tables.';\n",
              "          element.innerHTML = '';\n",
              "          dataTable['output_type'] = 'display_data';\n",
              "          await google.colab.output.renderOutput(dataTable, element);\n",
              "          const docLink = document.createElement('div');\n",
              "          docLink.innerHTML = docLinkHtml;\n",
              "          element.appendChild(docLink);\n",
              "        }\n",
              "      </script>\n",
              "    </div>\n",
              "  </div>\n",
              "  "
            ]
          },
          "metadata": {},
          "execution_count": 75
        }
      ],
      "source": [
        "df_with_counting_var"
      ]
    },
    {
      "cell_type": "code",
      "execution_count": null,
      "id": "8de0eaa2",
      "metadata": {
        "id": "8de0eaa2",
        "colab": {
          "base_uri": "https://localhost:8080/"
        },
        "outputId": "7ba1e7ad-4437-4e25-9036-2dbdef41f30a"
      },
      "outputs": [
        {
          "output_type": "execute_result",
          "data": {
            "text/plain": [
              "1975849.3904848485"
            ]
          },
          "metadata": {},
          "execution_count": 76
        }
      ],
      "source": [
        "UpperLimit"
      ]
    },
    {
      "cell_type": "code",
      "execution_count": null,
      "id": "7f05c805",
      "metadata": {
        "id": "7f05c805"
      },
      "outputs": [],
      "source": [
        "# Suspected Outliers\n",
        "sus_out_df = df_with_counting_var[df_with_counting_var['CashOut']> UpperLimit]"
      ]
    },
    {
      "cell_type": "code",
      "execution_count": null,
      "id": "e8a326e9",
      "metadata": {
        "id": "e8a326e9"
      },
      "outputs": [],
      "source": [
        "sus = sus_out_df[['CashOut','fraud_count']]"
      ]
    },
    {
      "cell_type": "code",
      "execution_count": null,
      "id": "35124c21",
      "metadata": {
        "id": "35124c21",
        "colab": {
          "base_uri": "https://localhost:8080/",
          "height": 833
        },
        "outputId": "9a6f4ec7-2671-42da-dbe3-3f0321121bc7"
      },
      "outputs": [
        {
          "output_type": "execute_result",
          "data": {
            "text/plain": [
              "     step  Payment  CashIn       CashOut      Transfer  Debit  fraud_count\n",
              "26    477      0.0     0.0  3.832119e+06  3.832119e+06    0.0           10\n",
              "43    494      0.0     0.0  2.832064e+06  2.832064e+06    0.0            8\n",
              "46    497      0.0     0.0  2.209840e+06  2.209840e+06    0.0           20\n",
              "47    498      0.0     0.0  3.511245e+06  3.511245e+06    0.0           12\n",
              "50    501      0.0     0.0  2.843381e+06  2.843381e+06    0.0           28\n",
              "55    506      0.0     0.0  4.666226e+06  4.666226e+06    0.0            8\n",
              "56    507      0.0     0.0  3.007658e+06  3.007658e+06    0.0           14\n",
              "61    512      0.0     0.0  2.045212e+06  2.045212e+06    0.0           12\n",
              "65    516      0.0     0.0  3.522574e+06  3.522574e+06    0.0           14\n",
              "72    523      0.0     0.0  2.318005e+06  2.318005e+06    0.0           30\n",
              "90    541      0.0     0.0  3.609222e+06  3.609222e+06    0.0           12\n",
              "103   554      0.0     0.0  4.572245e+06  4.969612e+06    0.0           18\n",
              "111   562      0.0     0.0  3.410361e+06  3.410361e+06    0.0           10\n",
              "149   600      0.0     0.0  1.989688e+06  1.989688e+06    0.0           18\n",
              "155   606      0.0     0.0  2.128699e+06  2.128699e+06    0.0           14\n",
              "164   615      0.0     0.0  2.358037e+06  2.358037e+06    0.0            8\n",
              "165   616      0.0     0.0  2.865490e+06  2.865490e+06    0.0            6\n",
              "173   624      0.0     0.0  2.730708e+06  2.730708e+06    0.0           10\n",
              "174   625      0.0     0.0  2.466130e+06  2.466130e+06    0.0           24\n",
              "180   631      0.0     0.0  2.860242e+06  2.860242e+06    0.0           12\n",
              "183   634      0.0     0.0  1.996734e+06  1.996734e+06    0.0           10\n",
              "187   638      0.0     0.0  2.174649e+06  2.174649e+06    0.0           14\n",
              "194   645      0.0     0.0  2.427975e+06  2.427975e+06    0.0           10\n",
              "195   646      0.0     0.0  5.708028e+06  6.747933e+06    0.0           20\n",
              "200   651      0.0     0.0  2.744934e+06  2.744934e+06    0.0           10"
            ],
            "text/html": [
              "\n",
              "  <div id=\"df-d88b1469-1efc-48bf-8458-40a9edd738e4\">\n",
              "    <div class=\"colab-df-container\">\n",
              "      <div>\n",
              "<style scoped>\n",
              "    .dataframe tbody tr th:only-of-type {\n",
              "        vertical-align: middle;\n",
              "    }\n",
              "\n",
              "    .dataframe tbody tr th {\n",
              "        vertical-align: top;\n",
              "    }\n",
              "\n",
              "    .dataframe thead th {\n",
              "        text-align: right;\n",
              "    }\n",
              "</style>\n",
              "<table border=\"1\" class=\"dataframe\">\n",
              "  <thead>\n",
              "    <tr style=\"text-align: right;\">\n",
              "      <th></th>\n",
              "      <th>step</th>\n",
              "      <th>Payment</th>\n",
              "      <th>CashIn</th>\n",
              "      <th>CashOut</th>\n",
              "      <th>Transfer</th>\n",
              "      <th>Debit</th>\n",
              "      <th>fraud_count</th>\n",
              "    </tr>\n",
              "  </thead>\n",
              "  <tbody>\n",
              "    <tr>\n",
              "      <th>26</th>\n",
              "      <td>477</td>\n",
              "      <td>0.0</td>\n",
              "      <td>0.0</td>\n",
              "      <td>3.832119e+06</td>\n",
              "      <td>3.832119e+06</td>\n",
              "      <td>0.0</td>\n",
              "      <td>10</td>\n",
              "    </tr>\n",
              "    <tr>\n",
              "      <th>43</th>\n",
              "      <td>494</td>\n",
              "      <td>0.0</td>\n",
              "      <td>0.0</td>\n",
              "      <td>2.832064e+06</td>\n",
              "      <td>2.832064e+06</td>\n",
              "      <td>0.0</td>\n",
              "      <td>8</td>\n",
              "    </tr>\n",
              "    <tr>\n",
              "      <th>46</th>\n",
              "      <td>497</td>\n",
              "      <td>0.0</td>\n",
              "      <td>0.0</td>\n",
              "      <td>2.209840e+06</td>\n",
              "      <td>2.209840e+06</td>\n",
              "      <td>0.0</td>\n",
              "      <td>20</td>\n",
              "    </tr>\n",
              "    <tr>\n",
              "      <th>47</th>\n",
              "      <td>498</td>\n",
              "      <td>0.0</td>\n",
              "      <td>0.0</td>\n",
              "      <td>3.511245e+06</td>\n",
              "      <td>3.511245e+06</td>\n",
              "      <td>0.0</td>\n",
              "      <td>12</td>\n",
              "    </tr>\n",
              "    <tr>\n",
              "      <th>50</th>\n",
              "      <td>501</td>\n",
              "      <td>0.0</td>\n",
              "      <td>0.0</td>\n",
              "      <td>2.843381e+06</td>\n",
              "      <td>2.843381e+06</td>\n",
              "      <td>0.0</td>\n",
              "      <td>28</td>\n",
              "    </tr>\n",
              "    <tr>\n",
              "      <th>55</th>\n",
              "      <td>506</td>\n",
              "      <td>0.0</td>\n",
              "      <td>0.0</td>\n",
              "      <td>4.666226e+06</td>\n",
              "      <td>4.666226e+06</td>\n",
              "      <td>0.0</td>\n",
              "      <td>8</td>\n",
              "    </tr>\n",
              "    <tr>\n",
              "      <th>56</th>\n",
              "      <td>507</td>\n",
              "      <td>0.0</td>\n",
              "      <td>0.0</td>\n",
              "      <td>3.007658e+06</td>\n",
              "      <td>3.007658e+06</td>\n",
              "      <td>0.0</td>\n",
              "      <td>14</td>\n",
              "    </tr>\n",
              "    <tr>\n",
              "      <th>61</th>\n",
              "      <td>512</td>\n",
              "      <td>0.0</td>\n",
              "      <td>0.0</td>\n",
              "      <td>2.045212e+06</td>\n",
              "      <td>2.045212e+06</td>\n",
              "      <td>0.0</td>\n",
              "      <td>12</td>\n",
              "    </tr>\n",
              "    <tr>\n",
              "      <th>65</th>\n",
              "      <td>516</td>\n",
              "      <td>0.0</td>\n",
              "      <td>0.0</td>\n",
              "      <td>3.522574e+06</td>\n",
              "      <td>3.522574e+06</td>\n",
              "      <td>0.0</td>\n",
              "      <td>14</td>\n",
              "    </tr>\n",
              "    <tr>\n",
              "      <th>72</th>\n",
              "      <td>523</td>\n",
              "      <td>0.0</td>\n",
              "      <td>0.0</td>\n",
              "      <td>2.318005e+06</td>\n",
              "      <td>2.318005e+06</td>\n",
              "      <td>0.0</td>\n",
              "      <td>30</td>\n",
              "    </tr>\n",
              "    <tr>\n",
              "      <th>90</th>\n",
              "      <td>541</td>\n",
              "      <td>0.0</td>\n",
              "      <td>0.0</td>\n",
              "      <td>3.609222e+06</td>\n",
              "      <td>3.609222e+06</td>\n",
              "      <td>0.0</td>\n",
              "      <td>12</td>\n",
              "    </tr>\n",
              "    <tr>\n",
              "      <th>103</th>\n",
              "      <td>554</td>\n",
              "      <td>0.0</td>\n",
              "      <td>0.0</td>\n",
              "      <td>4.572245e+06</td>\n",
              "      <td>4.969612e+06</td>\n",
              "      <td>0.0</td>\n",
              "      <td>18</td>\n",
              "    </tr>\n",
              "    <tr>\n",
              "      <th>111</th>\n",
              "      <td>562</td>\n",
              "      <td>0.0</td>\n",
              "      <td>0.0</td>\n",
              "      <td>3.410361e+06</td>\n",
              "      <td>3.410361e+06</td>\n",
              "      <td>0.0</td>\n",
              "      <td>10</td>\n",
              "    </tr>\n",
              "    <tr>\n",
              "      <th>149</th>\n",
              "      <td>600</td>\n",
              "      <td>0.0</td>\n",
              "      <td>0.0</td>\n",
              "      <td>1.989688e+06</td>\n",
              "      <td>1.989688e+06</td>\n",
              "      <td>0.0</td>\n",
              "      <td>18</td>\n",
              "    </tr>\n",
              "    <tr>\n",
              "      <th>155</th>\n",
              "      <td>606</td>\n",
              "      <td>0.0</td>\n",
              "      <td>0.0</td>\n",
              "      <td>2.128699e+06</td>\n",
              "      <td>2.128699e+06</td>\n",
              "      <td>0.0</td>\n",
              "      <td>14</td>\n",
              "    </tr>\n",
              "    <tr>\n",
              "      <th>164</th>\n",
              "      <td>615</td>\n",
              "      <td>0.0</td>\n",
              "      <td>0.0</td>\n",
              "      <td>2.358037e+06</td>\n",
              "      <td>2.358037e+06</td>\n",
              "      <td>0.0</td>\n",
              "      <td>8</td>\n",
              "    </tr>\n",
              "    <tr>\n",
              "      <th>165</th>\n",
              "      <td>616</td>\n",
              "      <td>0.0</td>\n",
              "      <td>0.0</td>\n",
              "      <td>2.865490e+06</td>\n",
              "      <td>2.865490e+06</td>\n",
              "      <td>0.0</td>\n",
              "      <td>6</td>\n",
              "    </tr>\n",
              "    <tr>\n",
              "      <th>173</th>\n",
              "      <td>624</td>\n",
              "      <td>0.0</td>\n",
              "      <td>0.0</td>\n",
              "      <td>2.730708e+06</td>\n",
              "      <td>2.730708e+06</td>\n",
              "      <td>0.0</td>\n",
              "      <td>10</td>\n",
              "    </tr>\n",
              "    <tr>\n",
              "      <th>174</th>\n",
              "      <td>625</td>\n",
              "      <td>0.0</td>\n",
              "      <td>0.0</td>\n",
              "      <td>2.466130e+06</td>\n",
              "      <td>2.466130e+06</td>\n",
              "      <td>0.0</td>\n",
              "      <td>24</td>\n",
              "    </tr>\n",
              "    <tr>\n",
              "      <th>180</th>\n",
              "      <td>631</td>\n",
              "      <td>0.0</td>\n",
              "      <td>0.0</td>\n",
              "      <td>2.860242e+06</td>\n",
              "      <td>2.860242e+06</td>\n",
              "      <td>0.0</td>\n",
              "      <td>12</td>\n",
              "    </tr>\n",
              "    <tr>\n",
              "      <th>183</th>\n",
              "      <td>634</td>\n",
              "      <td>0.0</td>\n",
              "      <td>0.0</td>\n",
              "      <td>1.996734e+06</td>\n",
              "      <td>1.996734e+06</td>\n",
              "      <td>0.0</td>\n",
              "      <td>10</td>\n",
              "    </tr>\n",
              "    <tr>\n",
              "      <th>187</th>\n",
              "      <td>638</td>\n",
              "      <td>0.0</td>\n",
              "      <td>0.0</td>\n",
              "      <td>2.174649e+06</td>\n",
              "      <td>2.174649e+06</td>\n",
              "      <td>0.0</td>\n",
              "      <td>14</td>\n",
              "    </tr>\n",
              "    <tr>\n",
              "      <th>194</th>\n",
              "      <td>645</td>\n",
              "      <td>0.0</td>\n",
              "      <td>0.0</td>\n",
              "      <td>2.427975e+06</td>\n",
              "      <td>2.427975e+06</td>\n",
              "      <td>0.0</td>\n",
              "      <td>10</td>\n",
              "    </tr>\n",
              "    <tr>\n",
              "      <th>195</th>\n",
              "      <td>646</td>\n",
              "      <td>0.0</td>\n",
              "      <td>0.0</td>\n",
              "      <td>5.708028e+06</td>\n",
              "      <td>6.747933e+06</td>\n",
              "      <td>0.0</td>\n",
              "      <td>20</td>\n",
              "    </tr>\n",
              "    <tr>\n",
              "      <th>200</th>\n",
              "      <td>651</td>\n",
              "      <td>0.0</td>\n",
              "      <td>0.0</td>\n",
              "      <td>2.744934e+06</td>\n",
              "      <td>2.744934e+06</td>\n",
              "      <td>0.0</td>\n",
              "      <td>10</td>\n",
              "    </tr>\n",
              "  </tbody>\n",
              "</table>\n",
              "</div>\n",
              "      <button class=\"colab-df-convert\" onclick=\"convertToInteractive('df-d88b1469-1efc-48bf-8458-40a9edd738e4')\"\n",
              "              title=\"Convert this dataframe to an interactive table.\"\n",
              "              style=\"display:none;\">\n",
              "        \n",
              "  <svg xmlns=\"http://www.w3.org/2000/svg\" height=\"24px\"viewBox=\"0 0 24 24\"\n",
              "       width=\"24px\">\n",
              "    <path d=\"M0 0h24v24H0V0z\" fill=\"none\"/>\n",
              "    <path d=\"M18.56 5.44l.94 2.06.94-2.06 2.06-.94-2.06-.94-.94-2.06-.94 2.06-2.06.94zm-11 1L8.5 8.5l.94-2.06 2.06-.94-2.06-.94L8.5 2.5l-.94 2.06-2.06.94zm10 10l.94 2.06.94-2.06 2.06-.94-2.06-.94-.94-2.06-.94 2.06-2.06.94z\"/><path d=\"M17.41 7.96l-1.37-1.37c-.4-.4-.92-.59-1.43-.59-.52 0-1.04.2-1.43.59L10.3 9.45l-7.72 7.72c-.78.78-.78 2.05 0 2.83L4 21.41c.39.39.9.59 1.41.59.51 0 1.02-.2 1.41-.59l7.78-7.78 2.81-2.81c.8-.78.8-2.07 0-2.86zM5.41 20L4 18.59l7.72-7.72 1.47 1.35L5.41 20z\"/>\n",
              "  </svg>\n",
              "      </button>\n",
              "      \n",
              "  <style>\n",
              "    .colab-df-container {\n",
              "      display:flex;\n",
              "      flex-wrap:wrap;\n",
              "      gap: 12px;\n",
              "    }\n",
              "\n",
              "    .colab-df-convert {\n",
              "      background-color: #E8F0FE;\n",
              "      border: none;\n",
              "      border-radius: 50%;\n",
              "      cursor: pointer;\n",
              "      display: none;\n",
              "      fill: #1967D2;\n",
              "      height: 32px;\n",
              "      padding: 0 0 0 0;\n",
              "      width: 32px;\n",
              "    }\n",
              "\n",
              "    .colab-df-convert:hover {\n",
              "      background-color: #E2EBFA;\n",
              "      box-shadow: 0px 1px 2px rgba(60, 64, 67, 0.3), 0px 1px 3px 1px rgba(60, 64, 67, 0.15);\n",
              "      fill: #174EA6;\n",
              "    }\n",
              "\n",
              "    [theme=dark] .colab-df-convert {\n",
              "      background-color: #3B4455;\n",
              "      fill: #D2E3FC;\n",
              "    }\n",
              "\n",
              "    [theme=dark] .colab-df-convert:hover {\n",
              "      background-color: #434B5C;\n",
              "      box-shadow: 0px 1px 3px 1px rgba(0, 0, 0, 0.15);\n",
              "      filter: drop-shadow(0px 1px 2px rgba(0, 0, 0, 0.3));\n",
              "      fill: #FFFFFF;\n",
              "    }\n",
              "  </style>\n",
              "\n",
              "      <script>\n",
              "        const buttonEl =\n",
              "          document.querySelector('#df-d88b1469-1efc-48bf-8458-40a9edd738e4 button.colab-df-convert');\n",
              "        buttonEl.style.display =\n",
              "          google.colab.kernel.accessAllowed ? 'block' : 'none';\n",
              "\n",
              "        async function convertToInteractive(key) {\n",
              "          const element = document.querySelector('#df-d88b1469-1efc-48bf-8458-40a9edd738e4');\n",
              "          const dataTable =\n",
              "            await google.colab.kernel.invokeFunction('convertToInteractive',\n",
              "                                                     [key], {});\n",
              "          if (!dataTable) return;\n",
              "\n",
              "          const docLinkHtml = 'Like what you see? Visit the ' +\n",
              "            '<a target=\"_blank\" href=https://colab.research.google.com/notebooks/data_table.ipynb>data table notebook</a>'\n",
              "            + ' to learn more about interactive tables.';\n",
              "          element.innerHTML = '';\n",
              "          dataTable['output_type'] = 'display_data';\n",
              "          await google.colab.output.renderOutput(dataTable, element);\n",
              "          const docLink = document.createElement('div');\n",
              "          docLink.innerHTML = docLinkHtml;\n",
              "          element.appendChild(docLink);\n",
              "        }\n",
              "      </script>\n",
              "    </div>\n",
              "  </div>\n",
              "  "
            ]
          },
          "metadata": {},
          "execution_count": 79
        }
      ],
      "source": [
        "sus_out_df"
      ]
    },
    {
      "cell_type": "code",
      "execution_count": null,
      "id": "868016b0",
      "metadata": {
        "id": "868016b0"
      },
      "outputs": [],
      "source": [
        "# Outlying observations and number of fraud transactions\n",
        "plt.scatter(sus['CashOut'],sus['fraud_count'])\n",
        "plt.show()"
      ]
    },
    {
      "cell_type": "code",
      "execution_count": null,
      "id": "893a5c9e",
      "metadata": {
        "id": "893a5c9e"
      },
      "outputs": [],
      "source": [
        "df_with_counting_var.to_csv('counting_var_0.csv')"
      ]
    },
    {
      "cell_type": "code",
      "execution_count": null,
      "id": "bb36074b",
      "metadata": {
        "id": "bb36074b"
      },
      "outputs": [],
      "source": [
        "df_with_counting_var['Average_amount'] = (df_with_counting_var['Payment']+df_with_counting_var['CashIn']+df_with_counting_var['CashOut']+df_with_counting_var['Transfer']+df_with_counting_var['Debit'])/4"
      ]
    },
    {
      "cell_type": "code",
      "execution_count": null,
      "id": "546938e5",
      "metadata": {
        "id": "546938e5",
        "colab": {
          "base_uri": "https://localhost:8080/",
          "height": 293
        },
        "outputId": "1be40e66-53a2-4e18-8aee-87b65536c06a"
      },
      "outputs": [
        {
          "output_type": "execute_result",
          "data": {
            "text/plain": [
              "[<matplotlib.lines.Line2D at 0x7fc1c8719b10>]"
            ]
          },
          "metadata": {},
          "execution_count": 83
        },
        {
          "output_type": "display_data",
          "data": {
            "text/plain": [
              "<Figure size 432x288 with 1 Axes>"
            ],
            "image/png": "[encoded data removed]"
          },
          "metadata": {
            "needs_background": "light"
          }
        }
      ],
      "source": [
        "plt.plot(df_with_counting_var['Average_amount'])"
      ]
    },
    {
      "cell_type": "code",
      "execution_count": null,
      "id": "c13e09d4",
      "metadata": {
        "id": "c13e09d4"
      },
      "outputs": [],
      "source": [
        "# plt.scatter(df_with_counting_var['Average_amount'],df_with_counting_var['fraud_count'])"
      ]
    },
    {
      "cell_type": "markdown",
      "source": [
        "##Test set"
      ],
      "metadata": {
        "id": "txz2h6EpBwwQ"
      },
      "id": "txz2h6EpBwwQ"
    },
    {
      "cell_type": "code",
      "execution_count": null,
      "id": "66a5c2b9",
      "metadata": {
        "id": "66a5c2b9",
        "colab": {
          "base_uri": "https://localhost:8080/"
        },
        "outputId": "760db33a-99a3-423d-bd82-a8750406d0f6"
      },
      "outputs": [
        {
          "output_type": "execute_result",
          "data": {
            "text/plain": [
              "0"
            ]
          },
          "metadata": {},
          "execution_count": 85
        }
      ],
      "source": [
        "Payment_test_df = test_df[test_df['type']=='PAYMENT']\n",
        "sum(Payment_test_df['isFraud'])"
      ]
    },
    {
      "cell_type": "code",
      "execution_count": null,
      "id": "fc20479b",
      "metadata": {
        "id": "fc20479b",
        "colab": {
          "base_uri": "https://localhost:8080/"
        },
        "outputId": "1b3e1c3d-2825-466d-d452-a5021fb76a5e"
      },
      "outputs": [
        {
          "output_type": "execute_result",
          "data": {
            "text/plain": [
              "0"
            ]
          },
          "metadata": {},
          "execution_count": 86
        }
      ],
      "source": [
        "cashin_test_df = test_df[test_df['type']=='CASH_IN']\n",
        "sum(cashin_test_df['isFraud'])"
      ]
    },
    {
      "cell_type": "code",
      "execution_count": null,
      "id": "810ee957",
      "metadata": {
        "id": "810ee957",
        "colab": {
          "base_uri": "https://localhost:8080/"
        },
        "outputId": "7ccf7bbb-8316-4d96-98c8-48649a8bf2a6"
      },
      "outputs": [
        {
          "output_type": "execute_result",
          "data": {
            "text/plain": [
              "428"
            ]
          },
          "metadata": {},
          "execution_count": 87
        }
      ],
      "source": [
        "cashout_test_df = test_df[test_df['type']=='CASH_OUT']\n",
        "sum(cashout_test_df['isFraud'])"
      ]
    },
    {
      "cell_type": "code",
      "execution_count": null,
      "id": "98a98e0c",
      "metadata": {
        "id": "98a98e0c",
        "colab": {
          "base_uri": "https://localhost:8080/"
        },
        "outputId": "71196aaa-8078-4207-fc52-31307a7d9675"
      },
      "outputs": [
        {
          "output_type": "execute_result",
          "data": {
            "text/plain": [
              "428"
            ]
          },
          "metadata": {},
          "execution_count": 88
        }
      ],
      "source": [
        "transfer_test_df = test_df[test_df['type']=='TRANSFER']\n",
        "sum(transfer_test_df['isFraud'])"
      ]
    },
    {
      "cell_type": "code",
      "execution_count": null,
      "id": "f43b8d32",
      "metadata": {
        "id": "f43b8d32",
        "colab": {
          "base_uri": "https://localhost:8080/"
        },
        "outputId": "30355b24-da17-49e8-a25c-8c0eee6c25d8"
      },
      "outputs": [
        {
          "output_type": "execute_result",
          "data": {
            "text/plain": [
              "0"
            ]
          },
          "metadata": {},
          "execution_count": 89
        }
      ],
      "source": [
        "debit_test_df = test_df[test_df['type']=='DEBIT']\n",
        "sum(debit_test_df['isFraud'])"
      ]
    },
    {
      "cell_type": "code",
      "execution_count": null,
      "id": "747d8ec2",
      "metadata": {
        "id": "747d8ec2"
      },
      "outputs": [],
      "source": [
        "unique_steps_test = X_test['step'].unique()"
      ]
    },
    {
      "cell_type": "code",
      "execution_count": null,
      "id": "a601292c",
      "metadata": {
        "id": "a601292c",
        "colab": {
          "base_uri": "https://localhost:8080/"
        },
        "outputId": "a0526a20-f6b3-431b-fcf4-5d4e3cf30304"
      },
      "outputs": [
        {
          "output_type": "execute_result",
          "data": {
            "text/plain": [
              "77"
            ]
          },
          "metadata": {},
          "execution_count": 91
        }
      ],
      "source": [
        "len(unique_steps_test)"
      ]
    },
    {
      "cell_type": "code",
      "execution_count": null,
      "id": "b039c710",
      "metadata": {
        "id": "b039c710",
        "colab": {
          "base_uri": "https://localhost:8080/"
        },
        "outputId": "472c87d4-539a-4d6f-cbb8-ba1ffd88561a"
      },
      "outputs": [
        {
          "output_type": "execute_result",
          "data": {
            "text/plain": [
              "69582"
            ]
          },
          "metadata": {},
          "execution_count": 92
        }
      ],
      "source": [
        "n_row_test = test_df.shape[0]\n",
        "n_row_test"
      ]
    },
    {
      "cell_type": "code",
      "execution_count": null,
      "id": "6a2b656c",
      "metadata": {
        "id": "6a2b656c"
      },
      "outputs": [],
      "source": [
        "unique_test_steps_payments = Payment_test_df['step'].unique()\n",
        "unique_test_steps_cash_in  = cashin_test_df['step'].unique()\n",
        "unique_test_steps_cash_out = cashout_test_df['step'].unique()\n",
        "unique_test_steps_transfer = transfer_test_df['step'].unique()\n",
        "unique_test_steps_debit = debit_test_df['step'].unique()"
      ]
    },
    {
      "cell_type": "code",
      "source": [
        "len(unique_test_steps_payments)"
      ],
      "metadata": {
        "colab": {
          "base_uri": "https://localhost:8080/"
        },
        "id": "NFdXxmkMDG4b",
        "outputId": "ba08a529-71ba-441d-d95a-72872335dd7d"
      },
      "id": "NFdXxmkMDG4b",
      "execution_count": null,
      "outputs": [
        {
          "output_type": "execute_result",
          "data": {
            "text/plain": [
              "30"
            ]
          },
          "metadata": {},
          "execution_count": 94
        }
      ]
    },
    {
      "cell_type": "code",
      "source": [
        "unique_test_steps_payments"
      ],
      "metadata": {
        "colab": {
          "base_uri": "https://localhost:8080/"
        },
        "id": "75L7rR5ZDHEF",
        "outputId": "b5f12808-ea69-4c1c-d971-c22356ec896f"
      },
      "id": "75L7rR5ZDHEF",
      "execution_count": null,
      "outputs": [
        {
          "output_type": "execute_result",
          "data": {
            "text/plain": [
              "array([667, 669, 670, 672, 673, 675, 679, 681, 683, 684, 686, 687, 688,\n",
              "       690, 691, 692, 694, 695, 698, 699, 705, 707, 709, 710, 712, 714,\n",
              "       715, 716, 717, 718])"
            ]
          },
          "metadata": {},
          "execution_count": 95
        }
      ]
    },
    {
      "cell_type": "code",
      "source": [
        "# a = pd.DataFrame(test_df[test_df['step'] == 667][df['type'] == 'PAYMENT']['amount'])\n",
        "# a.head"
      ],
      "metadata": {
        "colab": {
          "base_uri": "https://localhost:8080/"
        },
        "id": "ChY-VVF8GtCY",
        "outputId": "3f2abf73-7bb3-442e-cf2d-48cf7cbcb665"
      },
      "id": "ChY-VVF8GtCY",
      "execution_count": null,
      "outputs": [
        {
          "output_type": "stream",
          "name": "stderr",
          "text": [
            "/usr/local/lib/python3.7/dist-packages/ipykernel_launcher.py:1: UserWarning: Boolean Series key will be reindexed to match DataFrame index.\n",
            "  \"\"\"Entry point for launching an IPython kernel.\n"
          ]
        },
        {
          "output_type": "execute_result",
          "data": {
            "text/plain": [
              "<bound method NDFrame.head of           amount\n",
              "278323   8134.63\n",
              "278330  12166.36\n",
              "278334   3525.86\n",
              "278338  12812.81\n",
              "278339   1647.66\n",
              "...          ...\n",
              "279026   8741.11\n",
              "279027  15172.60\n",
              "279028   2793.06\n",
              "279029  10031.45\n",
              "279046   3934.05\n",
              "\n",
              "[239 rows x 1 columns]>"
            ]
          },
          "metadata": {},
          "execution_count": 149
        }
      ]
    },
    {
      "cell_type": "code",
      "source": [
        "# a['amount'].mean()"
      ],
      "metadata": {
        "colab": {
          "base_uri": "https://localhost:8080/"
        },
        "id": "YbRkGPWkHhhU",
        "outputId": "f50eea0c-e2f4-488c-eb31-ced8f18ac2ca"
      },
      "id": "YbRkGPWkHhhU",
      "execution_count": null,
      "outputs": [
        {
          "output_type": "execute_result",
          "data": {
            "text/plain": [
              "8780.288158995816"
            ]
          },
          "metadata": {},
          "execution_count": 152
        }
      ]
    },
    {
      "cell_type": "code",
      "source": [
        "# test_df[test_df['step'] == 669][df['type'] == 'PAYMENT']['amount']"
      ],
      "metadata": {
        "colab": {
          "base_uri": "https://localhost:8080/"
        },
        "id": "0D2xAWXWMMOY",
        "outputId": "54e46dbb-e808-427f-cdeb-2e9a48c9fce4"
      },
      "id": "0D2xAWXWMMOY",
      "execution_count": null,
      "outputs": [
        {
          "output_type": "stream",
          "name": "stderr",
          "text": [
            "/usr/local/lib/python3.7/dist-packages/ipykernel_launcher.py:1: UserWarning: Boolean Series key will be reindexed to match DataFrame index.\n",
            "  \"\"\"Entry point for launching an IPython kernel.\n"
          ]
        },
        {
          "output_type": "execute_result",
          "data": {
            "text/plain": [
              "279060     6929.26\n",
              "279062     5459.36\n",
              "279063     5851.40\n",
              "279064    23205.92\n",
              "279066    12587.05\n",
              "            ...   \n",
              "279366     8171.02\n",
              "279367     2903.02\n",
              "279368    13274.89\n",
              "279374      237.04\n",
              "279375    14098.85\n",
              "Name: amount, Length: 73, dtype: float64"
            ]
          },
          "metadata": {},
          "execution_count": 174
        }
      ]
    },
    {
      "cell_type": "code",
      "source": [
        "unique_test_steps_payments[5]"
      ],
      "metadata": {
        "colab": {
          "base_uri": "https://localhost:8080/"
        },
        "id": "-ClLHJfbDHN7",
        "outputId": "7da65ade-00af-42d6-b571-212dca0fb84b"
      },
      "id": "-ClLHJfbDHN7",
      "execution_count": null,
      "outputs": [
        {
          "output_type": "execute_result",
          "data": {
            "text/plain": [
              "675"
            ]
          },
          "metadata": {},
          "execution_count": 96
        }
      ]
    },
    {
      "cell_type": "code",
      "execution_count": null,
      "metadata": {
        "id": "if5XldDREWFG"
      },
      "outputs": [],
      "source": [
        "d_payment_test = list()\n",
        "d_cashin_test = list()\n",
        "d_cash_out_test = list()\n",
        "d_transfer_test = list()\n",
        "d_debit_test = list()"
      ],
      "id": "if5XldDREWFG"
    },
    {
      "cell_type": "code",
      "execution_count": null,
      "metadata": {
        "id": "-TOlcGdNEWFH"
      },
      "outputs": [],
      "source": [
        "for x in unique_test_steps_payments:\n",
        "    New_df = Payment_test_df[Payment_test_df['step']== x]\n",
        "    y = New_df['amount'].mean()\n",
        "    d_payment_test.append(y) \n",
        "\n",
        "for x in unique_test_steps_cash_in:\n",
        "    New_df = cashin_test_df[cashin_test_df['step']== x]\n",
        "    y = New_df['amount'].mean()\n",
        "    d_cashin_test.append(y) \n",
        "\n",
        "for x in unique_test_steps_cash_out:\n",
        "    New_df = cashout_test_df[cashout_test_df['step']== x]\n",
        "    y = New_df['amount'].mean()\n",
        "    d_cash_out_test.append(y) \n",
        "    \n",
        "for x in unique_test_steps_transfer:\n",
        "    New_df = transfer_test_df[transfer_test_df['step']== x]\n",
        "    y = New_df['amount'].mean()\n",
        "    d_transfer_test.append(y) \n",
        "    \n",
        "for x in unique_test_steps_debit:\n",
        "    New_df = debit_test_df[debit_test_df['step']== x]\n",
        "    y = New_df['amount'].mean()\n",
        "    d_debit_test.append(y) \n",
        "       "
      ],
      "id": "-TOlcGdNEWFH"
    },
    {
      "cell_type": "code",
      "source": [
        "df_payment_test = pd.DataFrame(list(zip(unique_test_steps_payments,d_payment_test)),columns = ['step','mean_amount'])\n",
        "df_cashin_test = pd.DataFrame(list(zip(unique_test_steps_cash_in,d_cashin_test)),columns = ['step','mean_amount'])\n",
        "df_cashout_test = pd.DataFrame(list(zip(unique_test_steps_cash_out,d_cash_out_test)),columns = ['step','mean_amount'])\n",
        "df_transfer_test = pd.DataFrame(list(zip(unique_test_steps_transfer,d_transfer_test)),columns = ['step','mean_amount'])\n",
        "df_debit_test = pd.DataFrame(list(zip(unique_test_steps_debit,d_debit_test)),columns = ['step','mean_amount'])"
      ],
      "metadata": {
        "id": "XbuS4_RmFbqb"
      },
      "id": "XbuS4_RmFbqb",
      "execution_count": null,
      "outputs": []
    },
    {
      "cell_type": "code",
      "execution_count": null,
      "metadata": {
        "colab": {
          "base_uri": "https://localhost:8080/",
          "height": 990
        },
        "outputId": "cf388ef6-233a-413d-f181-b3d95315b288",
        "id": "smiixxnPFjw2"
      },
      "outputs": [
        {
          "output_type": "execute_result",
          "data": {
            "text/plain": [
              "    step   mean_amount\n",
              "0    667   8780.288159\n",
              "1    669   8669.552192\n",
              "2    670   8269.033421\n",
              "3    672   4467.593393\n",
              "4    673   7116.244330\n",
              "5    675   1627.596000\n",
              "6    679   4919.276286\n",
              "7    681  12229.639185\n",
              "8    683  11973.106526\n",
              "9    684  14604.706685\n",
              "10   686  12297.947674\n",
              "11   687  12065.890327\n",
              "12   688  12474.840578\n",
              "13   690  11244.591374\n",
              "14   691  13054.266317\n",
              "15   692  14622.941240\n",
              "16   694  11234.864749\n",
              "17   695   7699.410734\n",
              "18   698  10335.947500\n",
              "19   699   3599.567273\n",
              "20   705  11572.499960\n",
              "21   707  16001.519242\n",
              "22   709  18242.298014\n",
              "23   710  20509.923448\n",
              "24   712  30282.925000\n",
              "25   714   8661.787358\n",
              "26   715  10468.173505\n",
              "27   716   5515.660213\n",
              "28   717   7883.220570\n",
              "29   718   8385.234670"
            ],
            "text/html": [
              "\n",
              "  <div id=\"df-8a3d8e90-e142-4290-99aa-f9d4af2f8b50\">\n",
              "    <div class=\"colab-df-container\">\n",
              "      <div>\n",
              "<style scoped>\n",
              "    .dataframe tbody tr th:only-of-type {\n",
              "        vertical-align: middle;\n",
              "    }\n",
              "\n",
              "    .dataframe tbody tr th {\n",
              "        vertical-align: top;\n",
              "    }\n",
              "\n",
              "    .dataframe thead th {\n",
              "        text-align: right;\n",
              "    }\n",
              "</style>\n",
              "<table border=\"1\" class=\"dataframe\">\n",
              "  <thead>\n",
              "    <tr style=\"text-align: right;\">\n",
              "      <th></th>\n",
              "      <th>step</th>\n",
              "      <th>mean_amount</th>\n",
              "    </tr>\n",
              "  </thead>\n",
              "  <tbody>\n",
              "    <tr>\n",
              "      <th>0</th>\n",
              "      <td>667</td>\n",
              "      <td>8780.288159</td>\n",
              "    </tr>\n",
              "    <tr>\n",
              "      <th>1</th>\n",
              "      <td>669</td>\n",
              "      <td>8669.552192</td>\n",
              "    </tr>\n",
              "    <tr>\n",
              "      <th>2</th>\n",
              "      <td>670</td>\n",
              "      <td>8269.033421</td>\n",
              "    </tr>\n",
              "    <tr>\n",
              "      <th>3</th>\n",
              "      <td>672</td>\n",
              "      <td>4467.593393</td>\n",
              "    </tr>\n",
              "    <tr>\n",
              "      <th>4</th>\n",
              "      <td>673</td>\n",
              "      <td>7116.244330</td>\n",
              "    </tr>\n",
              "    <tr>\n",
              "      <th>5</th>\n",
              "      <td>675</td>\n",
              "      <td>1627.596000</td>\n",
              "    </tr>\n",
              "    <tr>\n",
              "      <th>6</th>\n",
              "      <td>679</td>\n",
              "      <td>4919.276286</td>\n",
              "    </tr>\n",
              "    <tr>\n",
              "      <th>7</th>\n",
              "      <td>681</td>\n",
              "      <td>12229.639185</td>\n",
              "    </tr>\n",
              "    <tr>\n",
              "      <th>8</th>\n",
              "      <td>683</td>\n",
              "      <td>11973.106526</td>\n",
              "    </tr>\n",
              "    <tr>\n",
              "      <th>9</th>\n",
              "      <td>684</td>\n",
              "      <td>14604.706685</td>\n",
              "    </tr>\n",
              "    <tr>\n",
              "      <th>10</th>\n",
              "      <td>686</td>\n",
              "      <td>12297.947674</td>\n",
              "    </tr>\n",
              "    <tr>\n",
              "      <th>11</th>\n",
              "      <td>687</td>\n",
              "      <td>12065.890327</td>\n",
              "    </tr>\n",
              "    <tr>\n",
              "      <th>12</th>\n",
              "      <td>688</td>\n",
              "      <td>12474.840578</td>\n",
              "    </tr>\n",
              "    <tr>\n",
              "      <th>13</th>\n",
              "      <td>690</td>\n",
              "      <td>11244.591374</td>\n",
              "    </tr>\n",
              "    <tr>\n",
              "      <th>14</th>\n",
              "      <td>691</td>\n",
              "      <td>13054.266317</td>\n",
              "    </tr>\n",
              "    <tr>\n",
              "      <th>15</th>\n",
              "      <td>692</td>\n",
              "      <td>14622.941240</td>\n",
              "    </tr>\n",
              "    <tr>\n",
              "      <th>16</th>\n",
              "      <td>694</td>\n",
              "      <td>11234.864749</td>\n",
              "    </tr>\n",
              "    <tr>\n",
              "      <th>17</th>\n",
              "      <td>695</td>\n",
              "      <td>7699.410734</td>\n",
              "    </tr>\n",
              "    <tr>\n",
              "      <th>18</th>\n",
              "      <td>698</td>\n",
              "      <td>10335.947500</td>\n",
              "    </tr>\n",
              "    <tr>\n",
              "      <th>19</th>\n",
              "      <td>699</td>\n",
              "      <td>3599.567273</td>\n",
              "    </tr>\n",
              "    <tr>\n",
              "      <th>20</th>\n",
              "      <td>705</td>\n",
              "      <td>11572.499960</td>\n",
              "    </tr>\n",
              "    <tr>\n",
              "      <th>21</th>\n",
              "      <td>707</td>\n",
              "      <td>16001.519242</td>\n",
              "    </tr>\n",
              "    <tr>\n",
              "      <th>22</th>\n",
              "      <td>709</td>\n",
              "      <td>18242.298014</td>\n",
              "    </tr>\n",
              "    <tr>\n",
              "      <th>23</th>\n",
              "      <td>710</td>\n",
              "      <td>20509.923448</td>\n",
              "    </tr>\n",
              "    <tr>\n",
              "      <th>24</th>\n",
              "      <td>712</td>\n",
              "      <td>30282.925000</td>\n",
              "    </tr>\n",
              "    <tr>\n",
              "      <th>25</th>\n",
              "      <td>714</td>\n",
              "      <td>8661.787358</td>\n",
              "    </tr>\n",
              "    <tr>\n",
              "      <th>26</th>\n",
              "      <td>715</td>\n",
              "      <td>10468.173505</td>\n",
              "    </tr>\n",
              "    <tr>\n",
              "      <th>27</th>\n",
              "      <td>716</td>\n",
              "      <td>5515.660213</td>\n",
              "    </tr>\n",
              "    <tr>\n",
              "      <th>28</th>\n",
              "      <td>717</td>\n",
              "      <td>7883.220570</td>\n",
              "    </tr>\n",
              "    <tr>\n",
              "      <th>29</th>\n",
              "      <td>718</td>\n",
              "      <td>8385.234670</td>\n",
              "    </tr>\n",
              "  </tbody>\n",
              "</table>\n",
              "</div>\n",
              "      <button class=\"colab-df-convert\" onclick=\"convertToInteractive('df-8a3d8e90-e142-4290-99aa-f9d4af2f8b50')\"\n",
              "              title=\"Convert this dataframe to an interactive table.\"\n",
              "              style=\"display:none;\">\n",
              "        \n",
              "  <svg xmlns=\"http://www.w3.org/2000/svg\" height=\"24px\"viewBox=\"0 0 24 24\"\n",
              "       width=\"24px\">\n",
              "    <path d=\"M0 0h24v24H0V0z\" fill=\"none\"/>\n",
              "    <path d=\"M18.56 5.44l.94 2.06.94-2.06 2.06-.94-2.06-.94-.94-2.06-.94 2.06-2.06.94zm-11 1L8.5 8.5l.94-2.06 2.06-.94-2.06-.94L8.5 2.5l-.94 2.06-2.06.94zm10 10l.94 2.06.94-2.06 2.06-.94-2.06-.94-.94-2.06-.94 2.06-2.06.94z\"/><path d=\"M17.41 7.96l-1.37-1.37c-.4-.4-.92-.59-1.43-.59-.52 0-1.04.2-1.43.59L10.3 9.45l-7.72 7.72c-.78.78-.78 2.05 0 2.83L4 21.41c.39.39.9.59 1.41.59.51 0 1.02-.2 1.41-.59l7.78-7.78 2.81-2.81c.8-.78.8-2.07 0-2.86zM5.41 20L4 18.59l7.72-7.72 1.47 1.35L5.41 20z\"/>\n",
              "  </svg>\n",
              "      </button>\n",
              "      \n",
              "  <style>\n",
              "    .colab-df-container {\n",
              "      display:flex;\n",
              "      flex-wrap:wrap;\n",
              "      gap: 12px;\n",
              "    }\n",
              "\n",
              "    .colab-df-convert {\n",
              "      background-color: #E8F0FE;\n",
              "      border: none;\n",
              "      border-radius: 50%;\n",
              "      cursor: pointer;\n",
              "      display: none;\n",
              "      fill: #1967D2;\n",
              "      height: 32px;\n",
              "      padding: 0 0 0 0;\n",
              "      width: 32px;\n",
              "    }\n",
              "\n",
              "    .colab-df-convert:hover {\n",
              "      background-color: #E2EBFA;\n",
              "      box-shadow: 0px 1px 2px rgba(60, 64, 67, 0.3), 0px 1px 3px 1px rgba(60, 64, 67, 0.15);\n",
              "      fill: #174EA6;\n",
              "    }\n",
              "\n",
              "    [theme=dark] .colab-df-convert {\n",
              "      background-color: #3B4455;\n",
              "      fill: #D2E3FC;\n",
              "    }\n",
              "\n",
              "    [theme=dark] .colab-df-convert:hover {\n",
              "      background-color: #434B5C;\n",
              "      box-shadow: 0px 1px 3px 1px rgba(0, 0, 0, 0.15);\n",
              "      filter: drop-shadow(0px 1px 2px rgba(0, 0, 0, 0.3));\n",
              "      fill: #FFFFFF;\n",
              "    }\n",
              "  </style>\n",
              "\n",
              "      <script>\n",
              "        const buttonEl =\n",
              "          document.querySelector('#df-8a3d8e90-e142-4290-99aa-f9d4af2f8b50 button.colab-df-convert');\n",
              "        buttonEl.style.display =\n",
              "          google.colab.kernel.accessAllowed ? 'block' : 'none';\n",
              "\n",
              "        async function convertToInteractive(key) {\n",
              "          const element = document.querySelector('#df-8a3d8e90-e142-4290-99aa-f9d4af2f8b50');\n",
              "          const dataTable =\n",
              "            await google.colab.kernel.invokeFunction('convertToInteractive',\n",
              "                                                     [key], {});\n",
              "          if (!dataTable) return;\n",
              "\n",
              "          const docLinkHtml = 'Like what you see? Visit the ' +\n",
              "            '<a target=\"_blank\" href=https://colab.research.google.com/notebooks/data_table.ipynb>data table notebook</a>'\n",
              "            + ' to learn more about interactive tables.';\n",
              "          element.innerHTML = '';\n",
              "          dataTable['output_type'] = 'display_data';\n",
              "          await google.colab.output.renderOutput(dataTable, element);\n",
              "          const docLink = document.createElement('div');\n",
              "          docLink.innerHTML = docLinkHtml;\n",
              "          element.appendChild(docLink);\n",
              "        }\n",
              "      </script>\n",
              "    </div>\n",
              "  </div>\n",
              "  "
            ]
          },
          "metadata": {},
          "execution_count": 100
        }
      ],
      "source": [
        "df_payment_test\n",
        "#df_payment.to_csv('payment.csv')"
      ],
      "id": "smiixxnPFjw2"
    },
    {
      "cell_type": "code",
      "execution_count": null,
      "metadata": {
        "id": "BCsN-khWFjw4"
      },
      "outputs": [],
      "source": [
        "df_with_counting_test_var = pd.DataFrame(list(zip(unique_steps_test)), columns=['step'])"
      ],
      "id": "BCsN-khWFjw4"
    },
    {
      "cell_type": "code",
      "source": [
        "x = df_with_counting_test_var ['step']\n",
        "x"
      ],
      "metadata": {
        "colab": {
          "base_uri": "https://localhost:8080/"
        },
        "id": "MDDszKLPKjIi",
        "outputId": "58b475ce-e671-423d-86ef-daab4e21bca7"
      },
      "id": "MDDszKLPKjIi",
      "execution_count": null,
      "outputs": [
        {
          "output_type": "execute_result",
          "data": {
            "text/plain": [
              "0     667\n",
              "1     668\n",
              "2     669\n",
              "3     670\n",
              "4     671\n",
              "     ... \n",
              "72    739\n",
              "73    740\n",
              "74    741\n",
              "75    742\n",
              "76    743\n",
              "Name: step, Length: 77, dtype: int64"
            ]
          },
          "metadata": {},
          "execution_count": 102
        }
      ]
    },
    {
      "cell_type": "code",
      "execution_count": null,
      "metadata": {
        "id": "JteKFp74K-MY"
      },
      "outputs": [],
      "source": [
        "df_with_counting_test_var=df_with_counting_test_var.merge(df_payment_test,how = 'left',on ='step')\n"
      ],
      "id": "JteKFp74K-MY"
    },
    {
      "cell_type": "code",
      "execution_count": null,
      "metadata": {
        "id": "8ZN2Be8_K-MZ"
      },
      "outputs": [],
      "source": [
        "df_with_counting_test_var= df_with_counting_test_var.merge(df_cashin_test,how = 'left',on ='step')"
      ],
      "id": "8ZN2Be8_K-MZ"
    },
    {
      "cell_type": "code",
      "execution_count": null,
      "metadata": {
        "id": "PD-K8SCUK-Ma"
      },
      "outputs": [],
      "source": [
        "df_with_counting_test_var.rename(columns = {'mean_amount_x':'Payment'}, inplace = True)\n",
        "df_with_counting_test_var.rename(columns = {'mean_amount_y':'CashIn'}, inplace = True)"
      ],
      "id": "PD-K8SCUK-Ma"
    },
    {
      "cell_type": "code",
      "execution_count": null,
      "metadata": {
        "id": "cdr9iI3AK-Ma"
      },
      "outputs": [],
      "source": [
        "df_with_counting_test_var= df_with_counting_test_var.merge(df_cashout_test,how = 'left',on ='step')"
      ],
      "id": "cdr9iI3AK-Ma"
    },
    {
      "cell_type": "code",
      "execution_count": null,
      "metadata": {
        "id": "O-OnqOU4K-Mb"
      },
      "outputs": [],
      "source": [
        "df_with_counting_test_var = df_with_counting_test_var.merge(df_transfer_test,how = 'left',on ='step')"
      ],
      "id": "O-OnqOU4K-Mb"
    },
    {
      "cell_type": "code",
      "execution_count": null,
      "metadata": {
        "id": "q8OH5fbYK-Mc"
      },
      "outputs": [],
      "source": [
        "df_with_counting_test_var = df_with_counting_test_var.merge(df_debit_test,how = 'left',on ='step')"
      ],
      "id": "q8OH5fbYK-Mc"
    },
    {
      "cell_type": "code",
      "execution_count": null,
      "metadata": {
        "id": "RBWocyqYK-Mc"
      },
      "outputs": [],
      "source": [
        "df_with_counting_test_var.rename(columns = {'mean_amount_x':'CashOut'}, inplace = True)\n",
        "df_with_counting_test_var.rename(columns = {'mean_amount_y':'Transfer'}, inplace = True)"
      ],
      "id": "RBWocyqYK-Mc"
    },
    {
      "cell_type": "code",
      "execution_count": null,
      "metadata": {
        "id": "ZSPH6-ylK-Md"
      },
      "outputs": [],
      "source": [
        "df_with_counting_test_var.rename(columns = {'mean_amount':'Debit'}, inplace = True)"
      ],
      "id": "ZSPH6-ylK-Md"
    },
    {
      "cell_type": "code",
      "execution_count": null,
      "metadata": {
        "colab": {
          "base_uri": "https://localhost:8080/",
          "height": 424
        },
        "outputId": "4c9420e0-7abd-45b2-fa7e-f3e0dbe4cf7f",
        "id": "pwadwZFVK-Md"
      },
      "outputs": [
        {
          "output_type": "execute_result",
          "data": {
            "text/plain": [
              "    step      Payment         CashIn       CashOut      Transfer        Debit\n",
              "0    667  8780.288159  151641.112178  1.329884e+05  6.199682e+05  1318.250000\n",
              "1    668          NaN            NaN  3.361313e+06  3.361313e+06          NaN\n",
              "2    669  8669.552192  164712.668158  2.530960e+05  7.319843e+05   840.035000\n",
              "3    670  8269.033421  156022.360929  2.038944e+05  5.641840e+05  1350.949167\n",
              "4    671          NaN            NaN  3.382607e+06  3.764945e+06          NaN\n",
              "..   ...          ...            ...           ...           ...          ...\n",
              "72   739          NaN            NaN  1.658783e+06  1.658783e+06          NaN\n",
              "73   740          NaN            NaN  1.272161e+06  1.272161e+06          NaN\n",
              "74   741          NaN            NaN  3.734293e+06  4.250161e+06          NaN\n",
              "75   742          NaN            NaN  1.023124e+06  1.023124e+06          NaN\n",
              "76   743          NaN            NaN  2.189978e+06  2.189978e+06          NaN\n",
              "\n",
              "[77 rows x 6 columns]"
            ],
            "text/html": [
              "\n",
              "  <div id=\"df-d57ab825-b678-47fb-b670-c55c2d927076\">\n",
              "    <div class=\"colab-df-container\">\n",
              "      <div>\n",
              "<style scoped>\n",
              "    .dataframe tbody tr th:only-of-type {\n",
              "        vertical-align: middle;\n",
              "    }\n",
              "\n",
              "    .dataframe tbody tr th {\n",
              "        vertical-align: top;\n",
              "    }\n",
              "\n",
              "    .dataframe thead th {\n",
              "        text-align: right;\n",
              "    }\n",
              "</style>\n",
              "<table border=\"1\" class=\"dataframe\">\n",
              "  <thead>\n",
              "    <tr style=\"text-align: right;\">\n",
              "      <th></th>\n",
              "      <th>step</th>\n",
              "      <th>Payment</th>\n",
              "      <th>CashIn</th>\n",
              "      <th>CashOut</th>\n",
              "      <th>Transfer</th>\n",
              "      <th>Debit</th>\n",
              "    </tr>\n",
              "  </thead>\n",
              "  <tbody>\n",
              "    <tr>\n",
              "      <th>0</th>\n",
              "      <td>667</td>\n",
              "      <td>8780.288159</td>\n",
              "      <td>151641.112178</td>\n",
              "      <td>1.329884e+05</td>\n",
              "      <td>6.199682e+05</td>\n",
              "      <td>1318.250000</td>\n",
              "    </tr>\n",
              "    <tr>\n",
              "      <th>1</th>\n",
              "      <td>668</td>\n",
              "      <td>NaN</td>\n",
              "      <td>NaN</td>\n",
              "      <td>3.361313e+06</td>\n",
              "      <td>3.361313e+06</td>\n",
              "      <td>NaN</td>\n",
              "    </tr>\n",
              "    <tr>\n",
              "      <th>2</th>\n",
              "      <td>669</td>\n",
              "      <td>8669.552192</td>\n",
              "      <td>164712.668158</td>\n",
              "      <td>2.530960e+05</td>\n",
              "      <td>7.319843e+05</td>\n",
              "      <td>840.035000</td>\n",
              "    </tr>\n",
              "    <tr>\n",
              "      <th>3</th>\n",
              "      <td>670</td>\n",
              "      <td>8269.033421</td>\n",
              "      <td>156022.360929</td>\n",
              "      <td>2.038944e+05</td>\n",
              "      <td>5.641840e+05</td>\n",
              "      <td>1350.949167</td>\n",
              "    </tr>\n",
              "    <tr>\n",
              "      <th>4</th>\n",
              "      <td>671</td>\n",
              "      <td>NaN</td>\n",
              "      <td>NaN</td>\n",
              "      <td>3.382607e+06</td>\n",
              "      <td>3.764945e+06</td>\n",
              "      <td>NaN</td>\n",
              "    </tr>\n",
              "    <tr>\n",
              "      <th>...</th>\n",
              "      <td>...</td>\n",
              "      <td>...</td>\n",
              "      <td>...</td>\n",
              "      <td>...</td>\n",
              "      <td>...</td>\n",
              "      <td>...</td>\n",
              "    </tr>\n",
              "    <tr>\n",
              "      <th>72</th>\n",
              "      <td>739</td>\n",
              "      <td>NaN</td>\n",
              "      <td>NaN</td>\n",
              "      <td>1.658783e+06</td>\n",
              "      <td>1.658783e+06</td>\n",
              "      <td>NaN</td>\n",
              "    </tr>\n",
              "    <tr>\n",
              "      <th>73</th>\n",
              "      <td>740</td>\n",
              "      <td>NaN</td>\n",
              "      <td>NaN</td>\n",
              "      <td>1.272161e+06</td>\n",
              "      <td>1.272161e+06</td>\n",
              "      <td>NaN</td>\n",
              "    </tr>\n",
              "    <tr>\n",
              "      <th>74</th>\n",
              "      <td>741</td>\n",
              "      <td>NaN</td>\n",
              "      <td>NaN</td>\n",
              "      <td>3.734293e+06</td>\n",
              "      <td>4.250161e+06</td>\n",
              "      <td>NaN</td>\n",
              "    </tr>\n",
              "    <tr>\n",
              "      <th>75</th>\n",
              "      <td>742</td>\n",
              "      <td>NaN</td>\n",
              "      <td>NaN</td>\n",
              "      <td>1.023124e+06</td>\n",
              "      <td>1.023124e+06</td>\n",
              "      <td>NaN</td>\n",
              "    </tr>\n",
              "    <tr>\n",
              "      <th>76</th>\n",
              "      <td>743</td>\n",
              "      <td>NaN</td>\n",
              "      <td>NaN</td>\n",
              "      <td>2.189978e+06</td>\n",
              "      <td>2.189978e+06</td>\n",
              "      <td>NaN</td>\n",
              "    </tr>\n",
              "  </tbody>\n",
              "</table>\n",
              "<p>77 rows × 6 columns</p>\n",
              "</div>\n",
              "      <button class=\"colab-df-convert\" onclick=\"convertToInteractive('df-d57ab825-b678-47fb-b670-c55c2d927076')\"\n",
              "              title=\"Convert this dataframe to an interactive table.\"\n",
              "              style=\"display:none;\">\n",
              "        \n",
              "  <svg xmlns=\"http://www.w3.org/2000/svg\" height=\"24px\"viewBox=\"0 0 24 24\"\n",
              "       width=\"24px\">\n",
              "    <path d=\"M0 0h24v24H0V0z\" fill=\"none\"/>\n",
              "    <path d=\"M18.56 5.44l.94 2.06.94-2.06 2.06-.94-2.06-.94-.94-2.06-.94 2.06-2.06.94zm-11 1L8.5 8.5l.94-2.06 2.06-.94-2.06-.94L8.5 2.5l-.94 2.06-2.06.94zm10 10l.94 2.06.94-2.06 2.06-.94-2.06-.94-.94-2.06-.94 2.06-2.06.94z\"/><path d=\"M17.41 7.96l-1.37-1.37c-.4-.4-.92-.59-1.43-.59-.52 0-1.04.2-1.43.59L10.3 9.45l-7.72 7.72c-.78.78-.78 2.05 0 2.83L4 21.41c.39.39.9.59 1.41.59.51 0 1.02-.2 1.41-.59l7.78-7.78 2.81-2.81c.8-.78.8-2.07 0-2.86zM5.41 20L4 18.59l7.72-7.72 1.47 1.35L5.41 20z\"/>\n",
              "  </svg>\n",
              "      </button>\n",
              "      \n",
              "  <style>\n",
              "    .colab-df-container {\n",
              "      display:flex;\n",
              "      flex-wrap:wrap;\n",
              "      gap: 12px;\n",
              "    }\n",
              "\n",
              "    .colab-df-convert {\n",
              "      background-color: #E8F0FE;\n",
              "      border: none;\n",
              "      border-radius: 50%;\n",
              "      cursor: pointer;\n",
              "      display: none;\n",
              "      fill: #1967D2;\n",
              "      height: 32px;\n",
              "      padding: 0 0 0 0;\n",
              "      width: 32px;\n",
              "    }\n",
              "\n",
              "    .colab-df-convert:hover {\n",
              "      background-color: #E2EBFA;\n",
              "      box-shadow: 0px 1px 2px rgba(60, 64, 67, 0.3), 0px 1px 3px 1px rgba(60, 64, 67, 0.15);\n",
              "      fill: #174EA6;\n",
              "    }\n",
              "\n",
              "    [theme=dark] .colab-df-convert {\n",
              "      background-color: #3B4455;\n",
              "      fill: #D2E3FC;\n",
              "    }\n",
              "\n",
              "    [theme=dark] .colab-df-convert:hover {\n",
              "      background-color: #434B5C;\n",
              "      box-shadow: 0px 1px 3px 1px rgba(0, 0, 0, 0.15);\n",
              "      filter: drop-shadow(0px 1px 2px rgba(0, 0, 0, 0.3));\n",
              "      fill: #FFFFFF;\n",
              "    }\n",
              "  </style>\n",
              "\n",
              "      <script>\n",
              "        const buttonEl =\n",
              "          document.querySelector('#df-d57ab825-b678-47fb-b670-c55c2d927076 button.colab-df-convert');\n",
              "        buttonEl.style.display =\n",
              "          google.colab.kernel.accessAllowed ? 'block' : 'none';\n",
              "\n",
              "        async function convertToInteractive(key) {\n",
              "          const element = document.querySelector('#df-d57ab825-b678-47fb-b670-c55c2d927076');\n",
              "          const dataTable =\n",
              "            await google.colab.kernel.invokeFunction('convertToInteractive',\n",
              "                                                     [key], {});\n",
              "          if (!dataTable) return;\n",
              "\n",
              "          const docLinkHtml = 'Like what you see? Visit the ' +\n",
              "            '<a target=\"_blank\" href=https://colab.research.google.com/notebooks/data_table.ipynb>data table notebook</a>'\n",
              "            + ' to learn more about interactive tables.';\n",
              "          element.innerHTML = '';\n",
              "          dataTable['output_type'] = 'display_data';\n",
              "          await google.colab.output.renderOutput(dataTable, element);\n",
              "          const docLink = document.createElement('div');\n",
              "          docLink.innerHTML = docLinkHtml;\n",
              "          element.appendChild(docLink);\n",
              "        }\n",
              "      </script>\n",
              "    </div>\n",
              "  </div>\n",
              "  "
            ]
          },
          "metadata": {},
          "execution_count": 111
        }
      ],
      "source": [
        "df_with_counting_test_var"
      ],
      "id": "pwadwZFVK-Md"
    },
    {
      "cell_type": "code",
      "source": [
        "# missing value imputation "
      ],
      "metadata": {
        "id": "IPyF9Fo9ob_E"
      },
      "id": "IPyF9Fo9ob_E",
      "execution_count": null,
      "outputs": []
    },
    {
      "cell_type": "code",
      "source": [
        "print(df_with_counting_test_var['Payment'].isnull().sum())\n",
        "print(df_with_counting_test_var['CashIn'].isnull().sum())\n",
        "print(df_with_counting_test_var['CashOut'].isnull().sum())\n",
        "print(df_with_counting_test_var['Transfer'].isnull().sum())\n",
        "print(df_with_counting_test_var['Debit'].isnull().sum())"
      ],
      "metadata": {
        "colab": {
          "base_uri": "https://localhost:8080/"
        },
        "id": "2Z0zmdy3NdoS",
        "outputId": "81d6c662-7ac3-48d2-a5b8-1ca8433b8e98"
      },
      "id": "2Z0zmdy3NdoS",
      "execution_count": null,
      "outputs": [
        {
          "output_type": "stream",
          "name": "stdout",
          "text": [
            "47\n",
            "50\n",
            "0\n",
            "0\n",
            "49\n"
          ]
        }
      ]
    },
    {
      "cell_type": "markdown",
      "source": [
        "NULL values were replaced by zero, because any transaction has not happened during that hour and given transaction type"
      ],
      "metadata": {
        "id": "-Pk4ksJbxGZU"
      },
      "id": "-Pk4ksJbxGZU"
    },
    {
      "cell_type": "code",
      "source": [
        "df_with_counting_test_var['Payment'] = df_with_counting_test_var['Payment'].fillna(0)\n",
        "df_with_counting_test_var['CashIn'] = df_with_counting_test_var['CashIn'].fillna(0)\n",
        "df_with_counting_test_var['CashOut'] = df_with_counting_test_var['CashOut'].fillna(0)\n",
        "df_with_counting_test_var['Transfer'] = df_with_counting_test_var['Transfer'].fillna(0)\n",
        "df_with_counting_test_var['Debit'] = df_with_counting_test_var['Debit'].fillna(0)"
      ],
      "metadata": {
        "id": "BFrO4AuDoh17"
      },
      "id": "BFrO4AuDoh17",
      "execution_count": null,
      "outputs": []
    },
    {
      "cell_type": "code",
      "execution_count": null,
      "metadata": {
        "colab": {
          "base_uri": "https://localhost:8080/",
          "height": 424
        },
        "outputId": "25f192c3-bda1-4584-8e60-445a9ae92d34",
        "id": "xPFPtPLPNIOQ"
      },
      "outputs": [
        {
          "output_type": "execute_result",
          "data": {
            "text/plain": [
              "    step      Payment         CashIn       CashOut      Transfer        Debit\n",
              "0    667  8780.288159  151641.112178  1.329884e+05  6.199682e+05  1318.250000\n",
              "1    668     0.000000       0.000000  3.361313e+06  3.361313e+06     0.000000\n",
              "2    669  8669.552192  164712.668158  2.530960e+05  7.319843e+05   840.035000\n",
              "3    670  8269.033421  156022.360929  2.038944e+05  5.641840e+05  1350.949167\n",
              "4    671     0.000000       0.000000  3.382607e+06  3.764945e+06     0.000000\n",
              "..   ...          ...            ...           ...           ...          ...\n",
              "72   739     0.000000       0.000000  1.658783e+06  1.658783e+06     0.000000\n",
              "73   740     0.000000       0.000000  1.272161e+06  1.272161e+06     0.000000\n",
              "74   741     0.000000       0.000000  3.734293e+06  4.250161e+06     0.000000\n",
              "75   742     0.000000       0.000000  1.023124e+06  1.023124e+06     0.000000\n",
              "76   743     0.000000       0.000000  2.189978e+06  2.189978e+06     0.000000\n",
              "\n",
              "[77 rows x 6 columns]"
            ],
            "text/html": [
              "\n",
              "  <div id=\"df-02811a10-28db-409e-97b5-4e495b0d0afc\">\n",
              "    <div class=\"colab-df-container\">\n",
              "      <div>\n",
              "<style scoped>\n",
              "    .dataframe tbody tr th:only-of-type {\n",
              "        vertical-align: middle;\n",
              "    }\n",
              "\n",
              "    .dataframe tbody tr th {\n",
              "        vertical-align: top;\n",
              "    }\n",
              "\n",
              "    .dataframe thead th {\n",
              "        text-align: right;\n",
              "    }\n",
              "</style>\n",
              "<table border=\"1\" class=\"dataframe\">\n",
              "  <thead>\n",
              "    <tr style=\"text-align: right;\">\n",
              "      <th></th>\n",
              "      <th>step</th>\n",
              "      <th>Payment</th>\n",
              "      <th>CashIn</th>\n",
              "      <th>CashOut</th>\n",
              "      <th>Transfer</th>\n",
              "      <th>Debit</th>\n",
              "    </tr>\n",
              "  </thead>\n",
              "  <tbody>\n",
              "    <tr>\n",
              "      <th>0</th>\n",
              "      <td>667</td>\n",
              "      <td>8780.288159</td>\n",
              "      <td>151641.112178</td>\n",
              "      <td>1.329884e+05</td>\n",
              "      <td>6.199682e+05</td>\n",
              "      <td>1318.250000</td>\n",
              "    </tr>\n",
              "    <tr>\n",
              "      <th>1</th>\n",
              "      <td>668</td>\n",
              "      <td>0.000000</td>\n",
              "      <td>0.000000</td>\n",
              "      <td>3.361313e+06</td>\n",
              "      <td>3.361313e+06</td>\n",
              "      <td>0.000000</td>\n",
              "    </tr>\n",
              "    <tr>\n",
              "      <th>2</th>\n",
              "      <td>669</td>\n",
              "      <td>8669.552192</td>\n",
              "      <td>164712.668158</td>\n",
              "      <td>2.530960e+05</td>\n",
              "      <td>7.319843e+05</td>\n",
              "      <td>840.035000</td>\n",
              "    </tr>\n",
              "    <tr>\n",
              "      <th>3</th>\n",
              "      <td>670</td>\n",
              "      <td>8269.033421</td>\n",
              "      <td>156022.360929</td>\n",
              "      <td>2.038944e+05</td>\n",
              "      <td>5.641840e+05</td>\n",
              "      <td>1350.949167</td>\n",
              "    </tr>\n",
              "    <tr>\n",
              "      <th>4</th>\n",
              "      <td>671</td>\n",
              "      <td>0.000000</td>\n",
              "      <td>0.000000</td>\n",
              "      <td>3.382607e+06</td>\n",
              "      <td>3.764945e+06</td>\n",
              "      <td>0.000000</td>\n",
              "    </tr>\n",
              "    <tr>\n",
              "      <th>...</th>\n",
              "      <td>...</td>\n",
              "      <td>...</td>\n",
              "      <td>...</td>\n",
              "      <td>...</td>\n",
              "      <td>...</td>\n",
              "      <td>...</td>\n",
              "    </tr>\n",
              "    <tr>\n",
              "      <th>72</th>\n",
              "      <td>739</td>\n",
              "      <td>0.000000</td>\n",
              "      <td>0.000000</td>\n",
              "      <td>1.658783e+06</td>\n",
              "      <td>1.658783e+06</td>\n",
              "      <td>0.000000</td>\n",
              "    </tr>\n",
              "    <tr>\n",
              "      <th>73</th>\n",
              "      <td>740</td>\n",
              "      <td>0.000000</td>\n",
              "      <td>0.000000</td>\n",
              "      <td>1.272161e+06</td>\n",
              "      <td>1.272161e+06</td>\n",
              "      <td>0.000000</td>\n",
              "    </tr>\n",
              "    <tr>\n",
              "      <th>74</th>\n",
              "      <td>741</td>\n",
              "      <td>0.000000</td>\n",
              "      <td>0.000000</td>\n",
              "      <td>3.734293e+06</td>\n",
              "      <td>4.250161e+06</td>\n",
              "      <td>0.000000</td>\n",
              "    </tr>\n",
              "    <tr>\n",
              "      <th>75</th>\n",
              "      <td>742</td>\n",
              "      <td>0.000000</td>\n",
              "      <td>0.000000</td>\n",
              "      <td>1.023124e+06</td>\n",
              "      <td>1.023124e+06</td>\n",
              "      <td>0.000000</td>\n",
              "    </tr>\n",
              "    <tr>\n",
              "      <th>76</th>\n",
              "      <td>743</td>\n",
              "      <td>0.000000</td>\n",
              "      <td>0.000000</td>\n",
              "      <td>2.189978e+06</td>\n",
              "      <td>2.189978e+06</td>\n",
              "      <td>0.000000</td>\n",
              "    </tr>\n",
              "  </tbody>\n",
              "</table>\n",
              "<p>77 rows × 6 columns</p>\n",
              "</div>\n",
              "      <button class=\"colab-df-convert\" onclick=\"convertToInteractive('df-02811a10-28db-409e-97b5-4e495b0d0afc')\"\n",
              "              title=\"Convert this dataframe to an interactive table.\"\n",
              "              style=\"display:none;\">\n",
              "        \n",
              "  <svg xmlns=\"http://www.w3.org/2000/svg\" height=\"24px\"viewBox=\"0 0 24 24\"\n",
              "       width=\"24px\">\n",
              "    <path d=\"M0 0h24v24H0V0z\" fill=\"none\"/>\n",
              "    <path d=\"M18.56 5.44l.94 2.06.94-2.06 2.06-.94-2.06-.94-.94-2.06-.94 2.06-2.06.94zm-11 1L8.5 8.5l.94-2.06 2.06-.94-2.06-.94L8.5 2.5l-.94 2.06-2.06.94zm10 10l.94 2.06.94-2.06 2.06-.94-2.06-.94-.94-2.06-.94 2.06-2.06.94z\"/><path d=\"M17.41 7.96l-1.37-1.37c-.4-.4-.92-.59-1.43-.59-.52 0-1.04.2-1.43.59L10.3 9.45l-7.72 7.72c-.78.78-.78 2.05 0 2.83L4 21.41c.39.39.9.59 1.41.59.51 0 1.02-.2 1.41-.59l7.78-7.78 2.81-2.81c.8-.78.8-2.07 0-2.86zM5.41 20L4 18.59l7.72-7.72 1.47 1.35L5.41 20z\"/>\n",
              "  </svg>\n",
              "      </button>\n",
              "      \n",
              "  <style>\n",
              "    .colab-df-container {\n",
              "      display:flex;\n",
              "      flex-wrap:wrap;\n",
              "      gap: 12px;\n",
              "    }\n",
              "\n",
              "    .colab-df-convert {\n",
              "      background-color: #E8F0FE;\n",
              "      border: none;\n",
              "      border-radius: 50%;\n",
              "      cursor: pointer;\n",
              "      display: none;\n",
              "      fill: #1967D2;\n",
              "      height: 32px;\n",
              "      padding: 0 0 0 0;\n",
              "      width: 32px;\n",
              "    }\n",
              "\n",
              "    .colab-df-convert:hover {\n",
              "      background-color: #E2EBFA;\n",
              "      box-shadow: 0px 1px 2px rgba(60, 64, 67, 0.3), 0px 1px 3px 1px rgba(60, 64, 67, 0.15);\n",
              "      fill: #174EA6;\n",
              "    }\n",
              "\n",
              "    [theme=dark] .colab-df-convert {\n",
              "      background-color: #3B4455;\n",
              "      fill: #D2E3FC;\n",
              "    }\n",
              "\n",
              "    [theme=dark] .colab-df-convert:hover {\n",
              "      background-color: #434B5C;\n",
              "      box-shadow: 0px 1px 3px 1px rgba(0, 0, 0, 0.15);\n",
              "      filter: drop-shadow(0px 1px 2px rgba(0, 0, 0, 0.3));\n",
              "      fill: #FFFFFF;\n",
              "    }\n",
              "  </style>\n",
              "\n",
              "      <script>\n",
              "        const buttonEl =\n",
              "          document.querySelector('#df-02811a10-28db-409e-97b5-4e495b0d0afc button.colab-df-convert');\n",
              "        buttonEl.style.display =\n",
              "          google.colab.kernel.accessAllowed ? 'block' : 'none';\n",
              "\n",
              "        async function convertToInteractive(key) {\n",
              "          const element = document.querySelector('#df-02811a10-28db-409e-97b5-4e495b0d0afc');\n",
              "          const dataTable =\n",
              "            await google.colab.kernel.invokeFunction('convertToInteractive',\n",
              "                                                     [key], {});\n",
              "          if (!dataTable) return;\n",
              "\n",
              "          const docLinkHtml = 'Like what you see? Visit the ' +\n",
              "            '<a target=\"_blank\" href=https://colab.research.google.com/notebooks/data_table.ipynb>data table notebook</a>'\n",
              "            + ' to learn more about interactive tables.';\n",
              "          element.innerHTML = '';\n",
              "          dataTable['output_type'] = 'display_data';\n",
              "          await google.colab.output.renderOutput(dataTable, element);\n",
              "          const docLink = document.createElement('div');\n",
              "          docLink.innerHTML = docLinkHtml;\n",
              "          element.appendChild(docLink);\n",
              "        }\n",
              "      </script>\n",
              "    </div>\n",
              "  </div>\n",
              "  "
            ]
          },
          "metadata": {},
          "execution_count": 114
        }
      ],
      "source": [
        "df_with_counting_test_var"
      ],
      "id": "xPFPtPLPNIOQ"
    },
    {
      "cell_type": "code",
      "execution_count": null,
      "metadata": {
        "id": "vMG2EAOyNIOR"
      },
      "outputs": [],
      "source": [
        "df_with_counting_test_var2 = df_with_counting_test_var.drop(['step'],axis = 1)"
      ],
      "id": "vMG2EAOyNIOR"
    },
    {
      "cell_type": "code",
      "execution_count": null,
      "metadata": {
        "colab": {
          "base_uri": "https://localhost:8080/",
          "height": 424
        },
        "outputId": "34bf5211-3454-4238-c135-a60a031790ec",
        "id": "IwwCiFEmNIOR"
      },
      "outputs": [
        {
          "output_type": "execute_result",
          "data": {
            "text/plain": [
              "        Payment         CashIn       CashOut      Transfer        Debit\n",
              "0   8780.288159  151641.112178  1.329884e+05  6.199682e+05  1318.250000\n",
              "1      0.000000       0.000000  3.361313e+06  3.361313e+06     0.000000\n",
              "2   8669.552192  164712.668158  2.530960e+05  7.319843e+05   840.035000\n",
              "3   8269.033421  156022.360929  2.038944e+05  5.641840e+05  1350.949167\n",
              "4      0.000000       0.000000  3.382607e+06  3.764945e+06     0.000000\n",
              "..          ...            ...           ...           ...          ...\n",
              "72     0.000000       0.000000  1.658783e+06  1.658783e+06     0.000000\n",
              "73     0.000000       0.000000  1.272161e+06  1.272161e+06     0.000000\n",
              "74     0.000000       0.000000  3.734293e+06  4.250161e+06     0.000000\n",
              "75     0.000000       0.000000  1.023124e+06  1.023124e+06     0.000000\n",
              "76     0.000000       0.000000  2.189978e+06  2.189978e+06     0.000000\n",
              "\n",
              "[77 rows x 5 columns]"
            ],
            "text/html": [
              "\n",
              "  <div id=\"df-0461225b-3302-4f1b-af84-be16c7398471\">\n",
              "    <div class=\"colab-df-container\">\n",
              "      <div>\n",
              "<style scoped>\n",
              "    .dataframe tbody tr th:only-of-type {\n",
              "        vertical-align: middle;\n",
              "    }\n",
              "\n",
              "    .dataframe tbody tr th {\n",
              "        vertical-align: top;\n",
              "    }\n",
              "\n",
              "    .dataframe thead th {\n",
              "        text-align: right;\n",
              "    }\n",
              "</style>\n",
              "<table border=\"1\" class=\"dataframe\">\n",
              "  <thead>\n",
              "    <tr style=\"text-align: right;\">\n",
              "      <th></th>\n",
              "      <th>Payment</th>\n",
              "      <th>CashIn</th>\n",
              "      <th>CashOut</th>\n",
              "      <th>Transfer</th>\n",
              "      <th>Debit</th>\n",
              "    </tr>\n",
              "  </thead>\n",
              "  <tbody>\n",
              "    <tr>\n",
              "      <th>0</th>\n",
              "      <td>8780.288159</td>\n",
              "      <td>151641.112178</td>\n",
              "      <td>1.329884e+05</td>\n",
              "      <td>6.199682e+05</td>\n",
              "      <td>1318.250000</td>\n",
              "    </tr>\n",
              "    <tr>\n",
              "      <th>1</th>\n",
              "      <td>0.000000</td>\n",
              "      <td>0.000000</td>\n",
              "      <td>3.361313e+06</td>\n",
              "      <td>3.361313e+06</td>\n",
              "      <td>0.000000</td>\n",
              "    </tr>\n",
              "    <tr>\n",
              "      <th>2</th>\n",
              "      <td>8669.552192</td>\n",
              "      <td>164712.668158</td>\n",
              "      <td>2.530960e+05</td>\n",
              "      <td>7.319843e+05</td>\n",
              "      <td>840.035000</td>\n",
              "    </tr>\n",
              "    <tr>\n",
              "      <th>3</th>\n",
              "      <td>8269.033421</td>\n",
              "      <td>156022.360929</td>\n",
              "      <td>2.038944e+05</td>\n",
              "      <td>5.641840e+05</td>\n",
              "      <td>1350.949167</td>\n",
              "    </tr>\n",
              "    <tr>\n",
              "      <th>4</th>\n",
              "      <td>0.000000</td>\n",
              "      <td>0.000000</td>\n",
              "      <td>3.382607e+06</td>\n",
              "      <td>3.764945e+06</td>\n",
              "      <td>0.000000</td>\n",
              "    </tr>\n",
              "    <tr>\n",
              "      <th>...</th>\n",
              "      <td>...</td>\n",
              "      <td>...</td>\n",
              "      <td>...</td>\n",
              "      <td>...</td>\n",
              "      <td>...</td>\n",
              "    </tr>\n",
              "    <tr>\n",
              "      <th>72</th>\n",
              "      <td>0.000000</td>\n",
              "      <td>0.000000</td>\n",
              "      <td>1.658783e+06</td>\n",
              "      <td>1.658783e+06</td>\n",
              "      <td>0.000000</td>\n",
              "    </tr>\n",
              "    <tr>\n",
              "      <th>73</th>\n",
              "      <td>0.000000</td>\n",
              "      <td>0.000000</td>\n",
              "      <td>1.272161e+06</td>\n",
              "      <td>1.272161e+06</td>\n",
              "      <td>0.000000</td>\n",
              "    </tr>\n",
              "    <tr>\n",
              "      <th>74</th>\n",
              "      <td>0.000000</td>\n",
              "      <td>0.000000</td>\n",
              "      <td>3.734293e+06</td>\n",
              "      <td>4.250161e+06</td>\n",
              "      <td>0.000000</td>\n",
              "    </tr>\n",
              "    <tr>\n",
              "      <th>75</th>\n",
              "      <td>0.000000</td>\n",
              "      <td>0.000000</td>\n",
              "      <td>1.023124e+06</td>\n",
              "      <td>1.023124e+06</td>\n",
              "      <td>0.000000</td>\n",
              "    </tr>\n",
              "    <tr>\n",
              "      <th>76</th>\n",
              "      <td>0.000000</td>\n",
              "      <td>0.000000</td>\n",
              "      <td>2.189978e+06</td>\n",
              "      <td>2.189978e+06</td>\n",
              "      <td>0.000000</td>\n",
              "    </tr>\n",
              "  </tbody>\n",
              "</table>\n",
              "<p>77 rows × 5 columns</p>\n",
              "</div>\n",
              "      <button class=\"colab-df-convert\" onclick=\"convertToInteractive('df-0461225b-3302-4f1b-af84-be16c7398471')\"\n",
              "              title=\"Convert this dataframe to an interactive table.\"\n",
              "              style=\"display:none;\">\n",
              "        \n",
              "  <svg xmlns=\"http://www.w3.org/2000/svg\" height=\"24px\"viewBox=\"0 0 24 24\"\n",
              "       width=\"24px\">\n",
              "    <path d=\"M0 0h24v24H0V0z\" fill=\"none\"/>\n",
              "    <path d=\"M18.56 5.44l.94 2.06.94-2.06 2.06-.94-2.06-.94-.94-2.06-.94 2.06-2.06.94zm-11 1L8.5 8.5l.94-2.06 2.06-.94-2.06-.94L8.5 2.5l-.94 2.06-2.06.94zm10 10l.94 2.06.94-2.06 2.06-.94-2.06-.94-.94-2.06-.94 2.06-2.06.94z\"/><path d=\"M17.41 7.96l-1.37-1.37c-.4-.4-.92-.59-1.43-.59-.52 0-1.04.2-1.43.59L10.3 9.45l-7.72 7.72c-.78.78-.78 2.05 0 2.83L4 21.41c.39.39.9.59 1.41.59.51 0 1.02-.2 1.41-.59l7.78-7.78 2.81-2.81c.8-.78.8-2.07 0-2.86zM5.41 20L4 18.59l7.72-7.72 1.47 1.35L5.41 20z\"/>\n",
              "  </svg>\n",
              "      </button>\n",
              "      \n",
              "  <style>\n",
              "    .colab-df-container {\n",
              "      display:flex;\n",
              "      flex-wrap:wrap;\n",
              "      gap: 12px;\n",
              "    }\n",
              "\n",
              "    .colab-df-convert {\n",
              "      background-color: #E8F0FE;\n",
              "      border: none;\n",
              "      border-radius: 50%;\n",
              "      cursor: pointer;\n",
              "      display: none;\n",
              "      fill: #1967D2;\n",
              "      height: 32px;\n",
              "      padding: 0 0 0 0;\n",
              "      width: 32px;\n",
              "    }\n",
              "\n",
              "    .colab-df-convert:hover {\n",
              "      background-color: #E2EBFA;\n",
              "      box-shadow: 0px 1px 2px rgba(60, 64, 67, 0.3), 0px 1px 3px 1px rgba(60, 64, 67, 0.15);\n",
              "      fill: #174EA6;\n",
              "    }\n",
              "\n",
              "    [theme=dark] .colab-df-convert {\n",
              "      background-color: #3B4455;\n",
              "      fill: #D2E3FC;\n",
              "    }\n",
              "\n",
              "    [theme=dark] .colab-df-convert:hover {\n",
              "      background-color: #434B5C;\n",
              "      box-shadow: 0px 1px 3px 1px rgba(0, 0, 0, 0.15);\n",
              "      filter: drop-shadow(0px 1px 2px rgba(0, 0, 0, 0.3));\n",
              "      fill: #FFFFFF;\n",
              "    }\n",
              "  </style>\n",
              "\n",
              "      <script>\n",
              "        const buttonEl =\n",
              "          document.querySelector('#df-0461225b-3302-4f1b-af84-be16c7398471 button.colab-df-convert');\n",
              "        buttonEl.style.display =\n",
              "          google.colab.kernel.accessAllowed ? 'block' : 'none';\n",
              "\n",
              "        async function convertToInteractive(key) {\n",
              "          const element = document.querySelector('#df-0461225b-3302-4f1b-af84-be16c7398471');\n",
              "          const dataTable =\n",
              "            await google.colab.kernel.invokeFunction('convertToInteractive',\n",
              "                                                     [key], {});\n",
              "          if (!dataTable) return;\n",
              "\n",
              "          const docLinkHtml = 'Like what you see? Visit the ' +\n",
              "            '<a target=\"_blank\" href=https://colab.research.google.com/notebooks/data_table.ipynb>data table notebook</a>'\n",
              "            + ' to learn more about interactive tables.';\n",
              "          element.innerHTML = '';\n",
              "          dataTable['output_type'] = 'display_data';\n",
              "          await google.colab.output.renderOutput(dataTable, element);\n",
              "          const docLink = document.createElement('div');\n",
              "          docLink.innerHTML = docLinkHtml;\n",
              "          element.appendChild(docLink);\n",
              "        }\n",
              "      </script>\n",
              "    </div>\n",
              "  </div>\n",
              "  "
            ]
          },
          "metadata": {},
          "execution_count": 116
        }
      ],
      "source": [
        "df_with_counting_test_var2"
      ],
      "id": "IwwCiFEmNIOR"
    },
    {
      "cell_type": "code",
      "execution_count": null,
      "metadata": {
        "id": "BVMsotiKNIOS"
      },
      "outputs": [],
      "source": [
        "# plt.boxplot(df_with_counting_test_var2)\n",
        "# plt.show()"
      ],
      "id": "BVMsotiKNIOS"
    },
    {
      "cell_type": "code",
      "execution_count": null,
      "metadata": {
        "id": "kkW1yJYRNIOS"
      },
      "outputs": [],
      "source": [
        "# Boxplot shows many outlying observations for \n",
        "# Calculating maximum bound for oulying observations in the boxplot\n",
        "A=df_with_counting_test_var.quantile(0.25)\n",
        "B=df_with_counting_test_var.quantile(0.75)"
      ],
      "id": "kkW1yJYRNIOS"
    },
    {
      "cell_type": "code",
      "execution_count": null,
      "metadata": {
        "id": "RyGBlHHaNIOT"
      },
      "outputs": [],
      "source": [
        "# IQR for variable CashOut\n",
        "IQR_test = B['CashOut']-A['CashOut']\n",
        "UpperLimit_test = 1.5*IQR_test+B['CashOut']"
      ],
      "id": "RyGBlHHaNIOT"
    },
    {
      "cell_type": "code",
      "execution_count": null,
      "metadata": {
        "id": "hxKID3epNIOT"
      },
      "outputs": [],
      "source": [
        "fraud_count_test = []\n",
        "for x in unique_steps_test:\n",
        "    New_df = test_df[test_df['step']== x]\n",
        "    y = New_df['isFraud'].sum()\n",
        "    fraud_count_test.append(y)"
      ],
      "id": "hxKID3epNIOT"
    },
    {
      "cell_type": "code",
      "execution_count": null,
      "metadata": {
        "id": "QOseP1l-NIOT"
      },
      "outputs": [],
      "source": [
        "df_with_counting_test_var['fraud_count'] = fraud_count_test"
      ],
      "id": "QOseP1l-NIOT"
    },
    {
      "cell_type": "code",
      "source": [
        "######### check before running \n",
        "# df_with_counting_test_var.drop(['mean_amount'], axis=1, inplace=True)"
      ],
      "metadata": {
        "id": "SqZs0Ut2PTfd"
      },
      "id": "SqZs0Ut2PTfd",
      "execution_count": null,
      "outputs": []
    },
    {
      "cell_type": "code",
      "source": [
        "df_with_counting_test_var.head()"
      ],
      "metadata": {
        "colab": {
          "base_uri": "https://localhost:8080/",
          "height": 206
        },
        "id": "ddp_CoXWPzKy",
        "outputId": "203f7a7a-96ab-4849-d71d-b352d9f0ce86"
      },
      "id": "ddp_CoXWPzKy",
      "execution_count": null,
      "outputs": [
        {
          "output_type": "execute_result",
          "data": {
            "text/plain": [
              "   step      Payment         CashIn       CashOut      Transfer        Debit  \\\n",
              "0   667  8780.288159  151641.112178  1.329884e+05  6.199682e+05  1318.250000   \n",
              "1   668     0.000000       0.000000  3.361313e+06  3.361313e+06     0.000000   \n",
              "2   669  8669.552192  164712.668158  2.530960e+05  7.319843e+05   840.035000   \n",
              "3   670  8269.033421  156022.360929  2.038944e+05  5.641840e+05  1350.949167   \n",
              "4   671     0.000000       0.000000  3.382607e+06  3.764945e+06     0.000000   \n",
              "\n",
              "   fraud_count  \n",
              "0            2  \n",
              "1            8  \n",
              "2            8  \n",
              "3           12  \n",
              "4           18  "
            ],
            "text/html": [
              "\n",
              "  <div id=\"df-733d8a2e-1941-4311-aca4-46019f475e98\">\n",
              "    <div class=\"colab-df-container\">\n",
              "      <div>\n",
              "<style scoped>\n",
              "    .dataframe tbody tr th:only-of-type {\n",
              "        vertical-align: middle;\n",
              "    }\n",
              "\n",
              "    .dataframe tbody tr th {\n",
              "        vertical-align: top;\n",
              "    }\n",
              "\n",
              "    .dataframe thead th {\n",
              "        text-align: right;\n",
              "    }\n",
              "</style>\n",
              "<table border=\"1\" class=\"dataframe\">\n",
              "  <thead>\n",
              "    <tr style=\"text-align: right;\">\n",
              "      <th></th>\n",
              "      <th>step</th>\n",
              "      <th>Payment</th>\n",
              "      <th>CashIn</th>\n",
              "      <th>CashOut</th>\n",
              "      <th>Transfer</th>\n",
              "      <th>Debit</th>\n",
              "      <th>fraud_count</th>\n",
              "    </tr>\n",
              "  </thead>\n",
              "  <tbody>\n",
              "    <tr>\n",
              "      <th>0</th>\n",
              "      <td>667</td>\n",
              "      <td>8780.288159</td>\n",
              "      <td>151641.112178</td>\n",
              "      <td>1.329884e+05</td>\n",
              "      <td>6.199682e+05</td>\n",
              "      <td>1318.250000</td>\n",
              "      <td>2</td>\n",
              "    </tr>\n",
              "    <tr>\n",
              "      <th>1</th>\n",
              "      <td>668</td>\n",
              "      <td>0.000000</td>\n",
              "      <td>0.000000</td>\n",
              "      <td>3.361313e+06</td>\n",
              "      <td>3.361313e+06</td>\n",
              "      <td>0.000000</td>\n",
              "      <td>8</td>\n",
              "    </tr>\n",
              "    <tr>\n",
              "      <th>2</th>\n",
              "      <td>669</td>\n",
              "      <td>8669.552192</td>\n",
              "      <td>164712.668158</td>\n",
              "      <td>2.530960e+05</td>\n",
              "      <td>7.319843e+05</td>\n",
              "      <td>840.035000</td>\n",
              "      <td>8</td>\n",
              "    </tr>\n",
              "    <tr>\n",
              "      <th>3</th>\n",
              "      <td>670</td>\n",
              "      <td>8269.033421</td>\n",
              "      <td>156022.360929</td>\n",
              "      <td>2.038944e+05</td>\n",
              "      <td>5.641840e+05</td>\n",
              "      <td>1350.949167</td>\n",
              "      <td>12</td>\n",
              "    </tr>\n",
              "    <tr>\n",
              "      <th>4</th>\n",
              "      <td>671</td>\n",
              "      <td>0.000000</td>\n",
              "      <td>0.000000</td>\n",
              "      <td>3.382607e+06</td>\n",
              "      <td>3.764945e+06</td>\n",
              "      <td>0.000000</td>\n",
              "      <td>18</td>\n",
              "    </tr>\n",
              "  </tbody>\n",
              "</table>\n",
              "</div>\n",
              "      <button class=\"colab-df-convert\" onclick=\"convertToInteractive('df-733d8a2e-1941-4311-aca4-46019f475e98')\"\n",
              "              title=\"Convert this dataframe to an interactive table.\"\n",
              "              style=\"display:none;\">\n",
              "        \n",
              "  <svg xmlns=\"http://www.w3.org/2000/svg\" height=\"24px\"viewBox=\"0 0 24 24\"\n",
              "       width=\"24px\">\n",
              "    <path d=\"M0 0h24v24H0V0z\" fill=\"none\"/>\n",
              "    <path d=\"M18.56 5.44l.94 2.06.94-2.06 2.06-.94-2.06-.94-.94-2.06-.94 2.06-2.06.94zm-11 1L8.5 8.5l.94-2.06 2.06-.94-2.06-.94L8.5 2.5l-.94 2.06-2.06.94zm10 10l.94 2.06.94-2.06 2.06-.94-2.06-.94-.94-2.06-.94 2.06-2.06.94z\"/><path d=\"M17.41 7.96l-1.37-1.37c-.4-.4-.92-.59-1.43-.59-.52 0-1.04.2-1.43.59L10.3 9.45l-7.72 7.72c-.78.78-.78 2.05 0 2.83L4 21.41c.39.39.9.59 1.41.59.51 0 1.02-.2 1.41-.59l7.78-7.78 2.81-2.81c.8-.78.8-2.07 0-2.86zM5.41 20L4 18.59l7.72-7.72 1.47 1.35L5.41 20z\"/>\n",
              "  </svg>\n",
              "      </button>\n",
              "      \n",
              "  <style>\n",
              "    .colab-df-container {\n",
              "      display:flex;\n",
              "      flex-wrap:wrap;\n",
              "      gap: 12px;\n",
              "    }\n",
              "\n",
              "    .colab-df-convert {\n",
              "      background-color: #E8F0FE;\n",
              "      border: none;\n",
              "      border-radius: 50%;\n",
              "      cursor: pointer;\n",
              "      display: none;\n",
              "      fill: #1967D2;\n",
              "      height: 32px;\n",
              "      padding: 0 0 0 0;\n",
              "      width: 32px;\n",
              "    }\n",
              "\n",
              "    .colab-df-convert:hover {\n",
              "      background-color: #E2EBFA;\n",
              "      box-shadow: 0px 1px 2px rgba(60, 64, 67, 0.3), 0px 1px 3px 1px rgba(60, 64, 67, 0.15);\n",
              "      fill: #174EA6;\n",
              "    }\n",
              "\n",
              "    [theme=dark] .colab-df-convert {\n",
              "      background-color: #3B4455;\n",
              "      fill: #D2E3FC;\n",
              "    }\n",
              "\n",
              "    [theme=dark] .colab-df-convert:hover {\n",
              "      background-color: #434B5C;\n",
              "      box-shadow: 0px 1px 3px 1px rgba(0, 0, 0, 0.15);\n",
              "      filter: drop-shadow(0px 1px 2px rgba(0, 0, 0, 0.3));\n",
              "      fill: #FFFFFF;\n",
              "    }\n",
              "  </style>\n",
              "\n",
              "      <script>\n",
              "        const buttonEl =\n",
              "          document.querySelector('#df-733d8a2e-1941-4311-aca4-46019f475e98 button.colab-df-convert');\n",
              "        buttonEl.style.display =\n",
              "          google.colab.kernel.accessAllowed ? 'block' : 'none';\n",
              "\n",
              "        async function convertToInteractive(key) {\n",
              "          const element = document.querySelector('#df-733d8a2e-1941-4311-aca4-46019f475e98');\n",
              "          const dataTable =\n",
              "            await google.colab.kernel.invokeFunction('convertToInteractive',\n",
              "                                                     [key], {});\n",
              "          if (!dataTable) return;\n",
              "\n",
              "          const docLinkHtml = 'Like what you see? Visit the ' +\n",
              "            '<a target=\"_blank\" href=https://colab.research.google.com/notebooks/data_table.ipynb>data table notebook</a>'\n",
              "            + ' to learn more about interactive tables.';\n",
              "          element.innerHTML = '';\n",
              "          dataTable['output_type'] = 'display_data';\n",
              "          await google.colab.output.renderOutput(dataTable, element);\n",
              "          const docLink = document.createElement('div');\n",
              "          docLink.innerHTML = docLinkHtml;\n",
              "          element.appendChild(docLink);\n",
              "        }\n",
              "      </script>\n",
              "    </div>\n",
              "  </div>\n",
              "  "
            ]
          },
          "metadata": {},
          "execution_count": 124
        }
      ]
    },
    {
      "cell_type": "code",
      "execution_count": null,
      "metadata": {
        "colab": {
          "base_uri": "https://localhost:8080/"
        },
        "outputId": "74741de1-cda3-4df4-8b08-f4253f0df18f",
        "id": "CEZ83oxoNIOU"
      },
      "outputs": [
        {
          "output_type": "execute_result",
          "data": {
            "text/plain": [
              "3732723.736705112"
            ]
          },
          "metadata": {},
          "execution_count": 125
        }
      ],
      "source": [
        "UpperLimit_test"
      ],
      "id": "CEZ83oxoNIOU"
    },
    {
      "cell_type": "code",
      "execution_count": null,
      "metadata": {
        "id": "KLICXvvBNIOV"
      },
      "outputs": [],
      "source": [
        "# Suspected Outliers\n",
        "sus_out_df_test = df_with_counting_test_var[df_with_counting_test_var['CashOut']> UpperLimit_test]"
      ],
      "id": "KLICXvvBNIOV"
    },
    {
      "cell_type": "code",
      "execution_count": null,
      "metadata": {
        "id": "qar5WzSkNIOV"
      },
      "outputs": [],
      "source": [
        "sus_test = sus_out_df_test[['CashOut','fraud_count']]"
      ],
      "id": "qar5WzSkNIOV"
    },
    {
      "cell_type": "code",
      "execution_count": null,
      "metadata": {
        "colab": {
          "base_uri": "https://localhost:8080/",
          "height": 143
        },
        "outputId": "c75b28b6-7739-441a-c588-f039909f74f8",
        "id": "Nl4RwllFNIOV"
      },
      "outputs": [
        {
          "output_type": "execute_result",
          "data": {
            "text/plain": [
              "    step  Payment  CashIn       CashOut      Transfer  Debit  fraud_count\n",
              "10   677      0.0     0.0  5.508138e+06  5.508138e+06    0.0            8\n",
              "35   702      0.0     0.0  4.446113e+06  4.899125e+06    0.0           14\n",
              "74   741      0.0     0.0  3.734293e+06  4.250161e+06    0.0           22"
            ],
            "text/html": [
              "\n",
              "  <div id=\"df-c14fa4f1-8eea-422d-a62d-704f9b6f25da\">\n",
              "    <div class=\"colab-df-container\">\n",
              "      <div>\n",
              "<style scoped>\n",
              "    .dataframe tbody tr th:only-of-type {\n",
              "        vertical-align: middle;\n",
              "    }\n",
              "\n",
              "    .dataframe tbody tr th {\n",
              "        vertical-align: top;\n",
              "    }\n",
              "\n",
              "    .dataframe thead th {\n",
              "        text-align: right;\n",
              "    }\n",
              "</style>\n",
              "<table border=\"1\" class=\"dataframe\">\n",
              "  <thead>\n",
              "    <tr style=\"text-align: right;\">\n",
              "      <th></th>\n",
              "      <th>step</th>\n",
              "      <th>Payment</th>\n",
              "      <th>CashIn</th>\n",
              "      <th>CashOut</th>\n",
              "      <th>Transfer</th>\n",
              "      <th>Debit</th>\n",
              "      <th>fraud_count</th>\n",
              "    </tr>\n",
              "  </thead>\n",
              "  <tbody>\n",
              "    <tr>\n",
              "      <th>10</th>\n",
              "      <td>677</td>\n",
              "      <td>0.0</td>\n",
              "      <td>0.0</td>\n",
              "      <td>5.508138e+06</td>\n",
              "      <td>5.508138e+06</td>\n",
              "      <td>0.0</td>\n",
              "      <td>8</td>\n",
              "    </tr>\n",
              "    <tr>\n",
              "      <th>35</th>\n",
              "      <td>702</td>\n",
              "      <td>0.0</td>\n",
              "      <td>0.0</td>\n",
              "      <td>4.446113e+06</td>\n",
              "      <td>4.899125e+06</td>\n",
              "      <td>0.0</td>\n",
              "      <td>14</td>\n",
              "    </tr>\n",
              "    <tr>\n",
              "      <th>74</th>\n",
              "      <td>741</td>\n",
              "      <td>0.0</td>\n",
              "      <td>0.0</td>\n",
              "      <td>3.734293e+06</td>\n",
              "      <td>4.250161e+06</td>\n",
              "      <td>0.0</td>\n",
              "      <td>22</td>\n",
              "    </tr>\n",
              "  </tbody>\n",
              "</table>\n",
              "</div>\n",
              "      <button class=\"colab-df-convert\" onclick=\"convertToInteractive('df-c14fa4f1-8eea-422d-a62d-704f9b6f25da')\"\n",
              "              title=\"Convert this dataframe to an interactive table.\"\n",
              "              style=\"display:none;\">\n",
              "        \n",
              "  <svg xmlns=\"http://www.w3.org/2000/svg\" height=\"24px\"viewBox=\"0 0 24 24\"\n",
              "       width=\"24px\">\n",
              "    <path d=\"M0 0h24v24H0V0z\" fill=\"none\"/>\n",
              "    <path d=\"M18.56 5.44l.94 2.06.94-2.06 2.06-.94-2.06-.94-.94-2.06-.94 2.06-2.06.94zm-11 1L8.5 8.5l.94-2.06 2.06-.94-2.06-.94L8.5 2.5l-.94 2.06-2.06.94zm10 10l.94 2.06.94-2.06 2.06-.94-2.06-.94-.94-2.06-.94 2.06-2.06.94z\"/><path d=\"M17.41 7.96l-1.37-1.37c-.4-.4-.92-.59-1.43-.59-.52 0-1.04.2-1.43.59L10.3 9.45l-7.72 7.72c-.78.78-.78 2.05 0 2.83L4 21.41c.39.39.9.59 1.41.59.51 0 1.02-.2 1.41-.59l7.78-7.78 2.81-2.81c.8-.78.8-2.07 0-2.86zM5.41 20L4 18.59l7.72-7.72 1.47 1.35L5.41 20z\"/>\n",
              "  </svg>\n",
              "      </button>\n",
              "      \n",
              "  <style>\n",
              "    .colab-df-container {\n",
              "      display:flex;\n",
              "      flex-wrap:wrap;\n",
              "      gap: 12px;\n",
              "    }\n",
              "\n",
              "    .colab-df-convert {\n",
              "      background-color: #E8F0FE;\n",
              "      border: none;\n",
              "      border-radius: 50%;\n",
              "      cursor: pointer;\n",
              "      display: none;\n",
              "      fill: #1967D2;\n",
              "      height: 32px;\n",
              "      padding: 0 0 0 0;\n",
              "      width: 32px;\n",
              "    }\n",
              "\n",
              "    .colab-df-convert:hover {\n",
              "      background-color: #E2EBFA;\n",
              "      box-shadow: 0px 1px 2px rgba(60, 64, 67, 0.3), 0px 1px 3px 1px rgba(60, 64, 67, 0.15);\n",
              "      fill: #174EA6;\n",
              "    }\n",
              "\n",
              "    [theme=dark] .colab-df-convert {\n",
              "      background-color: #3B4455;\n",
              "      fill: #D2E3FC;\n",
              "    }\n",
              "\n",
              "    [theme=dark] .colab-df-convert:hover {\n",
              "      background-color: #434B5C;\n",
              "      box-shadow: 0px 1px 3px 1px rgba(0, 0, 0, 0.15);\n",
              "      filter: drop-shadow(0px 1px 2px rgba(0, 0, 0, 0.3));\n",
              "      fill: #FFFFFF;\n",
              "    }\n",
              "  </style>\n",
              "\n",
              "      <script>\n",
              "        const buttonEl =\n",
              "          document.querySelector('#df-c14fa4f1-8eea-422d-a62d-704f9b6f25da button.colab-df-convert');\n",
              "        buttonEl.style.display =\n",
              "          google.colab.kernel.accessAllowed ? 'block' : 'none';\n",
              "\n",
              "        async function convertToInteractive(key) {\n",
              "          const element = document.querySelector('#df-c14fa4f1-8eea-422d-a62d-704f9b6f25da');\n",
              "          const dataTable =\n",
              "            await google.colab.kernel.invokeFunction('convertToInteractive',\n",
              "                                                     [key], {});\n",
              "          if (!dataTable) return;\n",
              "\n",
              "          const docLinkHtml = 'Like what you see? Visit the ' +\n",
              "            '<a target=\"_blank\" href=https://colab.research.google.com/notebooks/data_table.ipynb>data table notebook</a>'\n",
              "            + ' to learn more about interactive tables.';\n",
              "          element.innerHTML = '';\n",
              "          dataTable['output_type'] = 'display_data';\n",
              "          await google.colab.output.renderOutput(dataTable, element);\n",
              "          const docLink = document.createElement('div');\n",
              "          docLink.innerHTML = docLinkHtml;\n",
              "          element.appendChild(docLink);\n",
              "        }\n",
              "      </script>\n",
              "    </div>\n",
              "  </div>\n",
              "  "
            ]
          },
          "metadata": {},
          "execution_count": 128
        }
      ],
      "source": [
        "sus_out_df_test"
      ],
      "id": "Nl4RwllFNIOV"
    },
    {
      "cell_type": "code",
      "execution_count": null,
      "metadata": {
        "id": "z3SJK2FWNIOW"
      },
      "outputs": [],
      "source": [
        "df_with_counting_test_var.to_csv('counting_Var_test_0.csv')"
      ],
      "id": "z3SJK2FWNIOW"
    }
  ],
  "metadata": {
    "kernelspec": {
      "display_name": "Python 3",
      "language": "python",
      "name": "python3"
    },
    "language_info": {
      "codemirror_mode": {
        "name": "ipython",
        "version": 3
      },
      "file_extension": ".py",
      "mimetype": "text/x-python",
      "name": "python",
      "nbconvert_exporter": "python",
      "pygments_lexer": "ipython3",
      "version": "3.8.8"
    },
    "colab": {
      "provenance": []
    }
  },
  "nbformat": 4,
  "nbformat_minor": 5
}